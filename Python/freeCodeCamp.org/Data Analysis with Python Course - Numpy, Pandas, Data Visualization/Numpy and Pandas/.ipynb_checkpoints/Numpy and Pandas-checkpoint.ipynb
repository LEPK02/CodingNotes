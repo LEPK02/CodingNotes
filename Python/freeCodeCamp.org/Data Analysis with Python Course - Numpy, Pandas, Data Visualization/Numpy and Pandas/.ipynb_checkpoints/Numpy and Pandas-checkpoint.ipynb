{
 "cells": [
  {
   "cell_type": "markdown",
   "id": "648d84cb",
   "metadata": {},
   "source": [
    "<p>Watch video <a href=\"https://www.youtube.com/watch?v=GPVsHOlRBBI&list=WL&index=7&t=23299s&ab_channel=freeCodeCamp.org\">here.</a></p>"
   ]
  },
  {
   "cell_type": "markdown",
   "id": "2385a776",
   "metadata": {},
   "source": [
    "<h1>Numpy</h1>"
   ]
  },
  {
   "cell_type": "markdown",
   "id": "4bb694b8",
   "metadata": {},
   "source": [
    "<p>Operating on numpy arrays</p>"
   ]
  },
  {
   "cell_type": "code",
   "execution_count": 1,
   "id": "b33b8614",
   "metadata": {},
   "outputs": [
    {
     "name": "stdout",
     "output_type": "stream",
     "text": [
      "1.7000000000000002\n",
      "6.7\n",
      "[0.1 1.2 0.4]\n",
      "[11 13 12]\n",
      "5\n"
     ]
    }
   ],
   "source": [
    "import numpy as np\n",
    "\n",
    "quantity = np.array([1, 3, 2])\n",
    "price = np.array([0.1, 0.4, 0.2])\n",
    "# print(type(price))\n",
    "\n",
    "# help(np.dot)\n",
    "print(np.dot(quantity, price))\n",
    "print(np.sum([quantity, price]))\n",
    "print(quantity * price)\n",
    "print(quantity + 10)\n",
    "print(quantity[2] + 3)"
   ]
  },
  {
   "cell_type": "code",
   "execution_count": 2,
   "id": "6535ff8b",
   "metadata": {},
   "outputs": [
    {
     "name": "stdout",
     "output_type": "stream",
     "text": [
      "[[ True  True  True]\n",
      " [False False False]\n",
      " [False False False]]\n",
      "6\n"
     ]
    }
   ],
   "source": [
    "import numpy as np\n",
    "\n",
    "arr1 = np.array([[1, 2, 3],\n",
    "                [4, 5, 6],\n",
    "                [7, 8, 9]])\n",
    "arr2 = np.array([[1, 2, 3],\n",
    "                [7, 8, 9],\n",
    "                [4, 5, 6]])\n",
    "print(arr1 == arr2)\n",
    "\n",
    "# Counts total number of mismatches; True = 1, False = 0\n",
    "print((arr1 != arr2).sum())"
   ]
  },
  {
   "cell_type": "code",
   "execution_count": 3,
   "id": "2ec41f5f",
   "metadata": {},
   "outputs": [
    {
     "name": "stdout",
     "output_type": "stream",
     "text": [
      "(2, 3, 2)\n",
      "85\n",
      "[[1 2]]\n"
     ]
    }
   ],
   "source": [
    "import numpy as np\n",
    "\n",
    "arr1 = np.array([\n",
    "    [[1, 3],\n",
    "    [2, 4],\n",
    "    [6, 9]],\n",
    "    \n",
    "    [[12, 86],\n",
    "    [63,94],\n",
    "    [42, 85]]])\n",
    "print(arr1.shape)\n",
    "print(arr1[1, 2, 1])\n",
    "print(arr1[:1, :-1, 0])"
   ]
  },
  {
   "cell_type": "markdown",
   "id": "91ba95ec",
   "metadata": {},
   "source": [
    "<p>Multi-dimensional arrays</p>"
   ]
  },
  {
   "cell_type": "code",
   "execution_count": 4,
   "id": "132fd405",
   "metadata": {},
   "outputs": [
    {
     "name": "stdout",
     "output_type": "stream",
     "text": [
      "(3, 2)\n",
      "float64\n"
     ]
    }
   ],
   "source": [
    "import numpy as np\n",
    "\n",
    "market_data = np.array([[0.8, 10],\n",
    "              [1, 20],\n",
    "              [1.5, 12]])\n",
    "print(market_data.shape)\n",
    "print(market_data.dtype)"
   ]
  },
  {
   "cell_type": "markdown",
   "id": "b44b7f3f",
   "metadata": {},
   "source": [
    "<p>Matrix multiplication (dot product)</p>"
   ]
  },
  {
   "cell_type": "code",
   "execution_count": 5,
   "id": "21a59749",
   "metadata": {},
   "outputs": [
    {
     "name": "stdout",
     "output_type": "stream",
     "text": [
      "[11.58 22.5  14.49]\n",
      "[11.58 22.5  14.49]\n"
     ]
    }
   ],
   "source": [
    "import numpy as np\n",
    "\n",
    "market_data = np.array([[0.8, 10],\n",
    "              [1, 20],\n",
    "              [1.5, 12]])\n",
    "\n",
    "tax = np.array([1.1, 1.07])\n",
    "\n",
    "print(np.matmul(market_data, tax))\n",
    "print(market_data @ tax)"
   ]
  },
  {
   "cell_type": "markdown",
   "id": "04c3af75",
   "metadata": {},
   "source": [
    "<p>Broadcasting</p>"
   ]
  },
  {
   "cell_type": "code",
   "execution_count": 6,
   "id": "8f3b9d3a",
   "metadata": {
    "scrolled": true
   },
   "outputs": [
    {
     "name": "stdout",
     "output_type": "stream",
     "text": [
      "(3,)\n",
      "ValueError. Unable to broadcast arrays of different shapes.\n",
      "[[ 37  46  40]\n",
      " [104  86 171]\n",
      " [ 99 129  96]]\n"
     ]
    }
   ],
   "source": [
    "import numpy as np\n",
    "\n",
    "arr1 = np.array([[1, 3, 28, 10],\n",
    "               [9, 147, 2, 3],\n",
    "               [23]], dtype=\"object\")\n",
    "print(arr1.shape)\n",
    "\n",
    "arr2 = np.array([[3, 12, 6],\n",
    "                [23, 5, 90],\n",
    "                [4, 34, 1]])\n",
    "arr3 = np.array([[5, 123, 9],\n",
    "                [123, 5, 39]])\n",
    "try:\n",
    "    print(arr2 + arr3)\n",
    "except ValueError:\n",
    "    print(\"ValueError. Unable to broadcast arrays of different shapes.\")\n",
    "    \n",
    "arr4 = np.array([[34],\n",
    "                [81],\n",
    "                [95]])\n",
    "print(arr2 + arr4)"
   ]
  },
  {
   "cell_type": "markdown",
   "id": "a63c5c9d",
   "metadata": {},
   "source": [
    "<p>CSV files</p>"
   ]
  },
  {
   "cell_type": "code",
   "execution_count": 7,
   "id": "592d1ca3",
   "metadata": {},
   "outputs": [
    {
     "name": "stdout",
     "output_type": "stream",
     "text": [
      "[[80. 40.  2.]\n",
      " [54.  9. 36.]\n",
      " [83. 19. 50.]\n",
      " ...\n",
      " [56. 57. 63.]\n",
      " [78.  6. 81.]\n",
      " [95. 76.  5.]]\n",
      "(1000, 3)\n",
      "<class 'numpy.ndarray'>\n",
      "(1000,)\n",
      "[[80.   40.    2.   31.  ]\n",
      " [54.    9.   36.   33.75]\n",
      " [83.   19.   50.   50.5 ]\n",
      " ...\n",
      " [56.   57.   63.   59.75]\n",
      " [78.    6.   81.   61.5 ]\n",
      " [95.   76.    5.   45.25]]\n",
      "(1000, 4)\n"
     ]
    }
   ],
   "source": [
    "import csv\n",
    "import random\n",
    "import numpy as np\n",
    "\n",
    "header = [\"test_1\", \"test_2\", \"test_3\"]\n",
    "data = []\n",
    "for _ in range(1000):\n",
    "    score = [random.randint(1, 100) for _ in range(3)]\n",
    "    data.append(score)\n",
    "    \n",
    "with open(\"test_scores.csv\", \"w\", encoding=\"UTF8\") as f:\n",
    "    writer = csv.writer(f)\n",
    "    \n",
    "    writer.writerow(header)\n",
    "    for i in data:\n",
    "        writer.writerow(i)\n",
    "    \n",
    "scores = np.genfromtxt(\"test_scores.csv\", delimiter=\",\", skip_header=1)\n",
    "print(scores)\n",
    "print(scores.shape)\n",
    "print(type(scores))\n",
    "\n",
    "weights = np.array([0.25, 0.25, 0.5])\n",
    "total_scores = np.matmul(scores, weights)\n",
    "print(total_scores.shape)\n",
    "\n",
    "final_scores = np.concatenate((scores, total_scores.reshape(1000, 1)), axis=1)\n",
    "print(final_scores)\n",
    "print(final_scores.shape)\n",
    "\n",
    "np.savetxt(\"final_scores.txt\",\n",
    "           final_scores,\n",
    "           fmt=\"%.2f\",\n",
    "           header=\"test_1,test_2,test_3,total\",\n",
    "           comments=\"#\")"
   ]
  },
  {
   "cell_type": "markdown",
   "id": "026cb431",
   "metadata": {},
   "source": [
    "<p>Special arrays</p>"
   ]
  },
  {
   "cell_type": "code",
   "execution_count": 8,
   "id": "7ef791b6",
   "metadata": {},
   "outputs": [
    {
     "name": "stdout",
     "output_type": "stream",
     "text": [
      "[[0. 0. 0. 0. 0. 0. 0. 0. 0.]\n",
      " [0. 0. 0. 0. 0. 0. 0. 0. 0.]\n",
      " [0. 0. 0. 0. 0. 0. 0. 0. 0.]]\n",
      "[[[1. 1. 1. 1. 1. 1.]\n",
      "  [1. 1. 1. 1. 1. 1.]]\n",
      "\n",
      " [[1. 1. 1. 1. 1. 1.]\n",
      "  [1. 1. 1. 1. 1. 1.]]\n",
      "\n",
      " [[1. 1. 1. 1. 1. 1.]\n",
      "  [1. 1. 1. 1. 1. 1.]]]\n",
      "[[1. 0. 0. 0.]\n",
      " [0. 1. 0. 0.]\n",
      " [0. 0. 1. 0.]\n",
      " [0. 0. 0. 1.]]\n",
      "[0.46438747 0.54314885 0.71688519 0.65433018 0.18500683]\n",
      "[[-0.74348276]\n",
      " [ 1.69426832]\n",
      " [ 0.28319481]\n",
      " [ 0.01354604]\n",
      " [ 0.36951706]]\n",
      "[[3 3 3]\n",
      " [3 3 3]\n",
      " [3 3 3]]\n",
      "[1 3 5 7 9]\n",
      "[[1]\n",
      " [3]\n",
      " [5]\n",
      " [7]\n",
      " [9]]\n",
      "[  1.   50.5 100. ]\n"
     ]
    }
   ],
   "source": [
    "import numpy as np\n",
    "\n",
    "print(np.zeros([3, 9]))\n",
    "print(np.ones([3, 2, 6]))\n",
    "print(np.eye(4))\n",
    "print(np.random.rand(5))\n",
    "print(np.random.randn(5, 1))\n",
    "print(np.full([3, 3], 3))\n",
    "print(np.arange(1, 10, 2))\n",
    "print(np.arange(1, 10, 2).reshape(5, 1))\n",
    "print(np.linspace(1, 100, 3))"
   ]
  },
  {
   "cell_type": "markdown",
   "id": "de1c8591",
   "metadata": {},
   "source": [
    "<h1>OS</h1>"
   ]
  },
  {
   "cell_type": "markdown",
   "id": "a95d458b",
   "metadata": {},
   "source": [
    "<p>Reading/Writing Files</p>"
   ]
  },
  {
   "cell_type": "code",
   "execution_count": 9,
   "id": "e3af84e6",
   "metadata": {},
   "outputs": [
    {
     "name": "stdout",
     "output_type": "stream",
     "text": [
      "C:\\Users\\Janice\\Desktop\\Coding\\Code\\Python\\Notes\\freeCodeCamp.org\\Data Analysis with Python Course - Numpy, Pandas, Data Visualization\\Numpy and Pandas\n"
     ]
    },
    {
     "ename": "FileNotFoundError",
     "evalue": "[WinError 3] The system cannot find the path specified: 'C:\\\\Users\\\\Janice\\\\Desktop\\\\Coding\\\\Projects\\\\Jupyter Notebook\\\\Notes\\\\freeCodeCamp.org\\\\Data Analysis with Python Course - Numpy, Pandas, Data Visualization'",
     "output_type": "error",
     "traceback": [
      "\u001b[1;31m---------------------------------------------------------------------------\u001b[0m",
      "\u001b[1;31mFileNotFoundError\u001b[0m                         Traceback (most recent call last)",
      "\u001b[1;32m<ipython-input-9-8b99f85e1fdb>\u001b[0m in \u001b[0;36m<module>\u001b[1;34m\u001b[0m\n\u001b[0;32m      2\u001b[0m \u001b[1;33m\u001b[0m\u001b[0m\n\u001b[0;32m      3\u001b[0m \u001b[0mprint\u001b[0m\u001b[1;33m(\u001b[0m\u001b[0mos\u001b[0m\u001b[1;33m.\u001b[0m\u001b[0mgetcwd\u001b[0m\u001b[1;33m(\u001b[0m\u001b[1;33m)\u001b[0m\u001b[1;33m)\u001b[0m\u001b[1;33m\u001b[0m\u001b[1;33m\u001b[0m\u001b[0m\n\u001b[1;32m----> 4\u001b[1;33m \u001b[0mprint\u001b[0m\u001b[1;33m(\u001b[0m\u001b[0mos\u001b[0m\u001b[1;33m.\u001b[0m\u001b[0mlistdir\u001b[0m\u001b[1;33m(\u001b[0m\u001b[1;34mr\"C:\\Users\\Janice\\Desktop\\Coding\\Projects\\Jupyter Notebook\\Notes\\freeCodeCamp.org\\Data Analysis with Python Course - Numpy, Pandas, Data Visualization\"\u001b[0m\u001b[1;33m)\u001b[0m\u001b[1;33m)\u001b[0m\u001b[1;33m\u001b[0m\u001b[1;33m\u001b[0m\u001b[0m\n\u001b[0m\u001b[0;32m      5\u001b[0m \u001b[0mos\u001b[0m\u001b[1;33m.\u001b[0m\u001b[0mmakedirs\u001b[0m\u001b[1;33m(\u001b[0m\u001b[1;34m\"./data\"\u001b[0m\u001b[1;33m,\u001b[0m \u001b[0mexist_ok\u001b[0m\u001b[1;33m=\u001b[0m\u001b[1;32mTrue\u001b[0m\u001b[1;33m)\u001b[0m\u001b[1;33m\u001b[0m\u001b[1;33m\u001b[0m\u001b[0m\n\u001b[0;32m      6\u001b[0m \u001b[0mprint\u001b[0m\u001b[1;33m(\u001b[0m\u001b[1;34m\"data\"\u001b[0m \u001b[1;32min\u001b[0m \u001b[0mos\u001b[0m\u001b[1;33m.\u001b[0m\u001b[0mlistdir\u001b[0m\u001b[1;33m(\u001b[0m\u001b[1;33m)\u001b[0m\u001b[1;33m)\u001b[0m\u001b[1;33m\u001b[0m\u001b[1;33m\u001b[0m\u001b[0m\n",
      "\u001b[1;31mFileNotFoundError\u001b[0m: [WinError 3] The system cannot find the path specified: 'C:\\\\Users\\\\Janice\\\\Desktop\\\\Coding\\\\Projects\\\\Jupyter Notebook\\\\Notes\\\\freeCodeCamp.org\\\\Data Analysis with Python Course - Numpy, Pandas, Data Visualization'"
     ]
    }
   ],
   "source": [
    "import os\n",
    "\n",
    "print(os.getcwd())\n",
    "print(os.listdir(r\"C:/Users/Janice/Desktop/Coding/Code/Python/Notes/freeCodeCamp.org/Data Analysis with Python Course - Numpy, Pandas, Data Visualization/Numpy and Pandas\"))\n",
    "os.makedirs(\"./data\", exist_ok=True)\n",
    "print(\"data\" in os.listdir())"
   ]
  },
  {
   "cell_type": "code",
   "execution_count": null,
   "id": "998bb31a",
   "metadata": {},
   "outputs": [],
   "source": [
    "import urllib.request\n",
    "import math\n",
    "import os\n",
    "\n",
    "url1 = 'https://gist.githubusercontent.com/aakashns/257f6e6c8719c17d0e498ea287d1a386/raw/7def9ef4234ddf0bc82f855ad67dac8b971852ef/loans1.txt'\n",
    "url2 = 'https://gist.githubusercontent.com/aakashns/257f6e6c8719c17d0e498ea287d1a386/raw/7def9ef4234ddf0bc82f855ad67dac8b971852ef/loans2.txt'\n",
    "url3 = 'https://gist.githubusercontent.com/aakashns/257f6e6c8719c17d0e498ea287d1a386/raw/7def9ef4234ddf0bc82f855ad67dac8b971852ef/loans3.txt'\n",
    "\n",
    "urllib.request.urlretrieve(url1, \"./data/loans1.txt\")\n",
    "urllib.request.urlretrieve(url2, \"./data/loans2.txt\")\n",
    "urllib.request.urlretrieve(url3, \"./data/loans3.txt\")\n",
    "\n",
    "# print(os.listdir(\"./data\"))\n",
    "\n",
    "def read_csv(path):\n",
    "    result = []\n",
    "\n",
    "#     Reads CSV file\n",
    "    with open(path, \"r\") as f:\n",
    "        file1_contents = f.readlines()\n",
    "\n",
    "#     Parses headers\n",
    "    headers = file1_contents[0].strip().split(\",\")\n",
    "\n",
    "#     Appends each row of data as a list to values\n",
    "    values = []\n",
    "    for line in file1_contents[1:]:\n",
    "        lst = []\n",
    "        for data in line.strip().split(\",\"):\n",
    "            if data != \"\":\n",
    "                lst.append(float(data))\n",
    "            else:\n",
    "                lst.append(0.0)\n",
    "        values.append(lst)\n",
    "\n",
    "#     Creates dictionary with header:value and appends the dictionary to result\n",
    "    for row in values:\n",
    "        data_dict = {}\n",
    "        for header, value in zip(headers, row):\n",
    "            data_dict[header] = value\n",
    "        \n",
    "        result.append(data_dict)\n",
    "        \n",
    "    return result\n",
    "\n",
    "# Calculates equal monthly installment(EMI) of a loan\n",
    "def loan_emi(amount, duration, rate, down_payment=0):\n",
    "    loan_amount = amount - down_payment\n",
    "    emi = (amount * rate * (1+rate)**duration) / ((1+rate)*duration-1)\n",
    "    return emi\n",
    "\n",
    "\n",
    "loans1 = read_csv(\"./data/loans1.txt\")\n",
    "for loan in loans1:\n",
    "    loan[\"emi\"] = round(loan_emi(loan[\"amount\"], loan[\"duration\"]/12, loan[\"rate\"], loan[\"down_payment\"]), 2)\n",
    "\n",
    "with open(\"./data/emis1.txt\", \"w\") as f:\n",
    "    f.write(\"amount,duration,rate,down_payment,emi\\n\")\n",
    "    for loan in loans1:\n",
    "        f.write(\"{amount},{duration},{rate},{down_payment},{emi}\\n\".format(**loan))\n",
    "        \n",
    "# print(os.listdir(\"data\"))"
   ]
  },
  {
   "cell_type": "markdown",
   "id": "68af2377",
   "metadata": {},
   "source": [
    "<h1>Pandas</h1>"
   ]
  },
  {
   "cell_type": "markdown",
   "id": "918054d8",
   "metadata": {},
   "source": [
    "<p>Basic syntax</p>"
   ]
  },
  {
   "cell_type": "code",
   "execution_count": null,
   "id": "f2521c1d",
   "metadata": {},
   "outputs": [],
   "source": [
    "from urllib.request import urlretrieve\n",
    "import pandas as pd\n",
    "\n",
    "urlretrieve(\"https://gist.githubusercontent.com/aakashns/f6a004fa20c84fec53262f9a8bfee775/raw/f309558b1cf5103424cef58e2ecb8704dcd4d74c/italy-covid-daywise.csv\",\n",
    "           \"italy-covid-daywise.csv\")\n",
    "\n",
    "covid_df = pd.read_csv(\"italy-covid-daywise.csv\")\n",
    "# print(covid_df.head())\n",
    "# print(covid_df.tail())\n",
    "# print(covid_df.info())\n",
    "# print(covid_df.describe())\n",
    "# print(covid_df.columns)\n",
    "# print(covid_df.shape)\n",
    "# print(covid_df.sample(5))"
   ]
  },
  {
   "cell_type": "markdown",
   "id": "ff2dcc81",
   "metadata": {},
   "source": [
    "<p>Modifying Display</p>"
   ]
  },
  {
   "cell_type": "code",
   "execution_count": null,
   "id": "f88a9968",
   "metadata": {},
   "outputs": [],
   "source": [
    "pd.options.display.max_rows = 999\n",
    "print(covid_df)\n",
    "pd.reset_option(\"display.max_rows\")\n",
    "pd.options.display.max_rows"
   ]
  },
  {
   "cell_type": "markdown",
   "id": "6b222426",
   "metadata": {},
   "source": [
    "<p>Retrieving data</p>"
   ]
  },
  {
   "cell_type": "code",
   "execution_count": null,
   "id": "3095d9e6",
   "metadata": {},
   "outputs": [],
   "source": [
    "# Accessing column data: visualise as a dictionary where keys=column names, values=list of data\n",
    "print(covid_df[\"new_cases\"][247])\n",
    "\n",
    "# Retrieve data at a specific row/column\n",
    "print(covid_df.at[243, \"new_deaths\"])\n",
    "\n",
    "# Retrieve column\n",
    "print(covid_df.new_cases, \"\\n\")\n",
    "\n",
    "# Retrieve columns\n",
    "print(covid_df[[\"new_cases\", \"date\"]])\n",
    "\n",
    "# Retrieve rows as Series objects\n",
    "print(covid_df.loc[123])\n",
    "\n",
    "# Copy dataframe\n",
    "covid_df_copy = covid_df.copy()\n",
    "\n",
    "# Gives first non-Nan value\n",
    "print(covid_df_copy.new_tests.first_valid_index())"
   ]
  },
  {
   "cell_type": "markdown",
   "id": "17a6b6ec",
   "metadata": {},
   "source": [
    "<p>Analysing data</p>"
   ]
  },
  {
   "cell_type": "code",
   "execution_count": null,
   "id": "7e6d5659",
   "metadata": {},
   "outputs": [],
   "source": [
    "# Add all values in a row\n",
    "print(covid_df.new_cases.sum())\n",
    "\n",
    "# Querying rows\n",
    "# print(covid_df.new_deaths > 100, \"\\n\")\n",
    "print(covid_df[(covid_df.new_tests > 0) & (covid_df.new_cases > 0)].reset_index(), \"\\n\")\n",
    "print(covid_df.new_tests.isnull())\n",
    "\n",
    "# Operations\n",
    "positive_rate = covid_df.new_cases / covid_df.new_tests"
   ]
  },
  {
   "cell_type": "markdown",
   "id": "bf07ce63",
   "metadata": {},
   "source": [
    "<p>Modifying Dataframes</p>"
   ]
  },
  {
   "cell_type": "code",
   "execution_count": null,
   "id": "8d4bc5c7",
   "metadata": {},
   "outputs": [],
   "source": [
    "# Adding columns\n",
    "covid_df[\"positive_rate\"] = positive_rate\n",
    "\n",
    "# Removing columns\n",
    "covid_df.drop(columns=\"positive_rate\", inplace=True)\n",
    "\n",
    "# Sorting rows in a specific column\n",
    "new_cases = covid_df.sort_values(\"new_cases\", ignore_index=True)\n",
    "\n",
    "# Modifying specific values\n",
    "covid_df.at[172, \"new_cases\"] = (covid_df.at[171, \"new_cases\"] + \n",
    "                                 covid_df.at[173, \"new_cases\"]) / 2\n",
    "covid_df.loc[170:174, \"new_cases\"]"
   ]
  },
  {
   "cell_type": "markdown",
   "id": "9f2f8707",
   "metadata": {},
   "source": [
    "<p>Dates</p>"
   ]
  },
  {
   "cell_type": "code",
   "execution_count": null,
   "id": "29b77c49",
   "metadata": {},
   "outputs": [],
   "source": [
    "# Convert data type to datetime column\n",
    "covid_df[\"date\"] = pd.to_datetime(covid_df.date)\n",
    "\n",
    "# Filter time data\n",
    "covid_df[\"year\"] = pd.DatetimeIndex(covid_df.date).year\n",
    "covid_df[\"month\"] = pd.DatetimeIndex(covid_df.date).month\n",
    "covid_df[\"day\"] = pd.DatetimeIndex(covid_df.date).day\n",
    "covid_df[\"weekday\"] = pd.DatetimeIndex(covid_df.date).weekday\n",
    "# covid_df.head()\n",
    "\n",
    "# Query data\n",
    "covid_df_weekend = covid_df[(covid_df.weekday == 0) | (covid_df.weekday ==6)]\n",
    "\n",
    "covid_df_weekend_metrics = covid_df_weekend[[\"new_cases\", \"new_deaths\", \"new_tests\"]]\n",
    "covid_df_weekend_totals = covid_df_weekend_metrics.sum()\n",
    "covid_df_weekend_avg = covid_df_weekend_metrics.mean()\n",
    "covid_df_weekend_avg"
   ]
  },
  {
   "cell_type": "markdown",
   "id": "ff9a18be",
   "metadata": {},
   "source": [
    "<p>Grouping and Aggregation</p>"
   ]
  },
  {
   "cell_type": "code",
   "execution_count": null,
   "id": "b5716cc3",
   "metadata": {},
   "outputs": [],
   "source": [
    "# Group relevant data by month, then aggrecate/sum them up\n",
    "monthly_groups = covid_df.groupby(\"month\")[[\"new_cases\", \"new_deaths\", \"new_tests\"]].sum()\n",
    "\n",
    "# Cumulative sums\n",
    "covid_df[\"total_cases\"] = covid_df.new_cases.cumsum()\n",
    "covid_df.tail()"
   ]
  },
  {
   "cell_type": "markdown",
   "id": "c0fec09a",
   "metadata": {},
   "source": [
    "<p>Merging Dataframes</p>"
   ]
  },
  {
   "cell_type": "code",
   "execution_count": null,
   "id": "74682284",
   "metadata": {},
   "outputs": [],
   "source": [
    "# Import and read second dataframe\n",
    "urlretrieve('https://gist.githubusercontent.com/aakashns/8684589ef4f266116cdce023377fc9c8/raw/99ce3826b2a9d1e6d0bde7e9e559fc8b6e9ac88b/locations.csv', \n",
    "            'locations.csv')\n",
    "locations_df = pd.read_csv(\"locations.csv\")\n",
    "# locations_df[locations_df.location == \"Italy\"]\n",
    "\n",
    "# Create common column\n",
    "covid_df[\"location\"] = \"Italy\"\n",
    "\n",
    "# Merge dataframe\n",
    "merged_df = covid_df.merge(locations_df, on=\"location\")\n",
    "merged_df[\"cases_per_million\"] = merged_df[\"new_cases\"] * 1e6 / merged_df.population\n",
    "merged_df.head()"
   ]
  },
  {
   "cell_type": "markdown",
   "id": "e97ecb39",
   "metadata": {},
   "source": [
    "<p>Writing data to files</p>"
   ]
  },
  {
   "cell_type": "code",
   "execution_count": null,
   "id": "b7782f34",
   "metadata": {},
   "outputs": [],
   "source": [
    "cases_df = merged_df[[\"date\", \"new_cases\", \"total_cases\", \"cases_per_million\"]]\n",
    "cases_df.to_csv(\"italy-covid-case-info.csv\", index=False)"
   ]
  },
  {
   "cell_type": "markdown",
   "id": "6b32bbfc",
   "metadata": {},
   "source": [
    "<p>Plotting</p>"
   ]
  },
  {
   "cell_type": "code",
   "execution_count": null,
   "id": "6aac718b",
   "metadata": {},
   "outputs": [],
   "source": [
    "# Set index to dates\n",
    "plot_df = merged_df.set_index(\"date\")\n",
    "\n",
    "plot_df.new_cases.plot(title=\"Covid Cases (Daily)\",\n",
    "                       xlabel=\"Month\",\n",
    "                       ylabel=\"Cases\",\n",
    "                       legend=True);\n",
    "plot_df.new_deaths.plot(legend=True);\n",
    "\n",
    "monthly_groups.plot(kind=\"bar\");"
   ]
  }
 ],
 "metadata": {
  "kernelspec": {
   "display_name": "Python 3",
   "language": "python",
   "name": "python3"
  },
  "language_info": {
   "codemirror_mode": {
    "name": "ipython",
    "version": 3
   },
   "file_extension": ".py",
   "mimetype": "text/x-python",
   "name": "python",
   "nbconvert_exporter": "python",
   "pygments_lexer": "ipython3",
   "version": "3.8.8"
  }
 },
 "nbformat": 4,
 "nbformat_minor": 5
}
