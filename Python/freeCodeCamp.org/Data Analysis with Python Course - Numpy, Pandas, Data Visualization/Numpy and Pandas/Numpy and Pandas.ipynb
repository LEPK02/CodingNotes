{
 "cells": [
  {
   "cell_type": "markdown",
   "id": "648d84cb",
   "metadata": {},
   "source": [
    "<p>Watch video <a href=\"https://www.youtube.com/watch?v=GPVsHOlRBBI&list=WL&index=7&t=23299s&ab_channel=freeCodeCamp.org\">here.</a></p>"
   ]
  },
  {
   "cell_type": "markdown",
   "id": "2385a776",
   "metadata": {},
   "source": [
    "<h1>Numpy</h1>"
   ]
  },
  {
   "cell_type": "markdown",
   "id": "4bb694b8",
   "metadata": {},
   "source": [
    "<p>Operating on numpy arrays</p>"
   ]
  },
  {
   "cell_type": "code",
   "execution_count": 1,
   "id": "b33b8614",
   "metadata": {},
   "outputs": [
    {
     "name": "stdout",
     "output_type": "stream",
     "text": [
      "1.7000000000000002\n",
      "6.7\n",
      "[0.1 1.2 0.4]\n",
      "[11 13 12]\n",
      "5\n"
     ]
    }
   ],
   "source": [
    "import numpy as np\n",
    "\n",
    "quantity = np.array([1, 3, 2])\n",
    "price = np.array([0.1, 0.4, 0.2])\n",
    "# print(type(price))\n",
    "\n",
    "# help(np.dot)\n",
    "print(np.dot(quantity, price))\n",
    "print(np.sum([quantity, price]))\n",
    "print(quantity * price)\n",
    "print(quantity + 10)\n",
    "print(quantity[2] + 3)"
   ]
  },
  {
   "cell_type": "code",
   "execution_count": 2,
   "id": "6535ff8b",
   "metadata": {},
   "outputs": [
    {
     "name": "stdout",
     "output_type": "stream",
     "text": [
      "[[ True  True  True]\n",
      " [False False False]\n",
      " [False False False]]\n",
      "6\n"
     ]
    }
   ],
   "source": [
    "import numpy as np\n",
    "\n",
    "arr1 = np.array([[1, 2, 3],\n",
    "                [4, 5, 6],\n",
    "                [7, 8, 9]])\n",
    "arr2 = np.array([[1, 2, 3],\n",
    "                [7, 8, 9],\n",
    "                [4, 5, 6]])\n",
    "print(arr1 == arr2)\n",
    "\n",
    "# Counts total number of mismatches; True = 1, False = 0\n",
    "print((arr1 != arr2).sum())"
   ]
  },
  {
   "cell_type": "code",
   "execution_count": 3,
   "id": "2ec41f5f",
   "metadata": {},
   "outputs": [
    {
     "name": "stdout",
     "output_type": "stream",
     "text": [
      "(2, 3, 2)\n",
      "85\n",
      "[[1 2]]\n"
     ]
    }
   ],
   "source": [
    "import numpy as np\n",
    "\n",
    "arr1 = np.array([\n",
    "    [[1, 3],\n",
    "    [2, 4],\n",
    "    [6, 9]],\n",
    "    \n",
    "    [[12, 86],\n",
    "    [63,94],\n",
    "    [42, 85]]])\n",
    "print(arr1.shape)\n",
    "print(arr1[1, 2, 1])\n",
    "print(arr1[:1, :-1, 0])"
   ]
  },
  {
   "cell_type": "markdown",
   "id": "91ba95ec",
   "metadata": {},
   "source": [
    "<p>Multi-dimensional arrays</p>"
   ]
  },
  {
   "cell_type": "code",
   "execution_count": 4,
   "id": "132fd405",
   "metadata": {},
   "outputs": [
    {
     "name": "stdout",
     "output_type": "stream",
     "text": [
      "(3, 2)\n",
      "float64\n"
     ]
    }
   ],
   "source": [
    "import numpy as np\n",
    "\n",
    "market_data = np.array([[0.8, 10],\n",
    "              [1, 20],\n",
    "              [1.5, 12]])\n",
    "print(market_data.shape)\n",
    "print(market_data.dtype)"
   ]
  },
  {
   "cell_type": "markdown",
   "id": "b44b7f3f",
   "metadata": {},
   "source": [
    "<p>Matrix multiplication (dot product)</p>"
   ]
  },
  {
   "cell_type": "code",
   "execution_count": 5,
   "id": "21a59749",
   "metadata": {},
   "outputs": [
    {
     "name": "stdout",
     "output_type": "stream",
     "text": [
      "[11.58 22.5  14.49]\n",
      "[11.58 22.5  14.49]\n"
     ]
    }
   ],
   "source": [
    "import numpy as np\n",
    "\n",
    "market_data = np.array([[0.8, 10],\n",
    "              [1, 20],\n",
    "              [1.5, 12]])\n",
    "\n",
    "tax = np.array([1.1, 1.07])\n",
    "\n",
    "print(np.matmul(market_data, tax))\n",
    "print(market_data @ tax)"
   ]
  },
  {
   "cell_type": "markdown",
   "id": "04c3af75",
   "metadata": {},
   "source": [
    "<p>Broadcasting</p>"
   ]
  },
  {
   "cell_type": "code",
   "execution_count": 6,
   "id": "8f3b9d3a",
   "metadata": {
    "scrolled": true
   },
   "outputs": [
    {
     "name": "stdout",
     "output_type": "stream",
     "text": [
      "(3,)\n",
      "ValueError. Unable to broadcast arrays of different shapes.\n",
      "[[ 37  46  40]\n",
      " [104  86 171]\n",
      " [ 99 129  96]]\n"
     ]
    }
   ],
   "source": [
    "import numpy as np\n",
    "\n",
    "arr1 = np.array([[1, 3, 28, 10],\n",
    "               [9, 147, 2, 3],\n",
    "               [23]], dtype=\"object\")\n",
    "print(arr1.shape)\n",
    "\n",
    "arr2 = np.array([[3, 12, 6],\n",
    "                [23, 5, 90],\n",
    "                [4, 34, 1]])\n",
    "arr3 = np.array([[5, 123, 9],\n",
    "                [123, 5, 39]])\n",
    "try:\n",
    "    print(arr2 + arr3)\n",
    "except ValueError:\n",
    "    print(\"ValueError. Unable to broadcast arrays of different shapes.\")\n",
    "    \n",
    "arr4 = np.array([[34],\n",
    "                [81],\n",
    "                [95]])\n",
    "print(arr2 + arr4)"
   ]
  },
  {
   "cell_type": "markdown",
   "id": "a63c5c9d",
   "metadata": {},
   "source": [
    "<p>CSV files</p>"
   ]
  },
  {
   "cell_type": "code",
   "execution_count": 7,
   "id": "592d1ca3",
   "metadata": {},
   "outputs": [
    {
     "name": "stdout",
     "output_type": "stream",
     "text": [
      "[[81. 44. 43.]\n",
      " [70. 69. 75.]\n",
      " [82. 79.  5.]\n",
      " ...\n",
      " [36. 16. 66.]\n",
      " [72. 53.  7.]\n",
      " [36. 85. 14.]]\n",
      "(1000, 3)\n",
      "<class 'numpy.ndarray'>\n",
      "(1000,)\n",
      "[[81.   44.   43.   52.75]\n",
      " [70.   69.   75.   72.25]\n",
      " [82.   79.    5.   42.75]\n",
      " ...\n",
      " [36.   16.   66.   46.  ]\n",
      " [72.   53.    7.   34.75]\n",
      " [36.   85.   14.   37.25]]\n",
      "(1000, 4)\n"
     ]
    }
   ],
   "source": [
    "import csv\n",
    "import random\n",
    "import numpy as np\n",
    "\n",
    "header = [\"test_1\", \"test_2\", \"test_3\"]\n",
    "data = []\n",
    "for _ in range(1000):\n",
    "    score = [random.randint(1, 100) for _ in range(3)]\n",
    "    data.append(score)\n",
    "    \n",
    "with open(\"test_scores.csv\", \"w\", encoding=\"UTF8\") as f:\n",
    "    writer = csv.writer(f)\n",
    "    \n",
    "    writer.writerow(header)\n",
    "    for i in data:\n",
    "        writer.writerow(i)\n",
    "    \n",
    "scores = np.genfromtxt(\"test_scores.csv\", delimiter=\",\", skip_header=1)\n",
    "print(scores)\n",
    "print(scores.shape)\n",
    "print(type(scores))\n",
    "\n",
    "weights = np.array([0.25, 0.25, 0.5])\n",
    "total_scores = np.matmul(scores, weights)\n",
    "print(total_scores.shape)\n",
    "\n",
    "final_scores = np.concatenate((scores, total_scores.reshape(1000, 1)), axis=1)\n",
    "print(final_scores)\n",
    "print(final_scores.shape)\n",
    "\n",
    "np.savetxt(\"final_scores.txt\",\n",
    "           final_scores,\n",
    "           fmt=\"%.2f\",\n",
    "           header=\"test_1,test_2,test_3,total\",\n",
    "           comments=\"#\")"
   ]
  },
  {
   "cell_type": "markdown",
   "id": "026cb431",
   "metadata": {},
   "source": [
    "<p>Special arrays</p>"
   ]
  },
  {
   "cell_type": "code",
   "execution_count": 8,
   "id": "7ef791b6",
   "metadata": {},
   "outputs": [
    {
     "name": "stdout",
     "output_type": "stream",
     "text": [
      "[[0. 0. 0. 0. 0. 0. 0. 0. 0.]\n",
      " [0. 0. 0. 0. 0. 0. 0. 0. 0.]\n",
      " [0. 0. 0. 0. 0. 0. 0. 0. 0.]]\n",
      "[[[1. 1. 1. 1. 1. 1.]\n",
      "  [1. 1. 1. 1. 1. 1.]]\n",
      "\n",
      " [[1. 1. 1. 1. 1. 1.]\n",
      "  [1. 1. 1. 1. 1. 1.]]\n",
      "\n",
      " [[1. 1. 1. 1. 1. 1.]\n",
      "  [1. 1. 1. 1. 1. 1.]]]\n",
      "[[1. 0. 0. 0.]\n",
      " [0. 1. 0. 0.]\n",
      " [0. 0. 1. 0.]\n",
      " [0. 0. 0. 1.]]\n",
      "[0.08468    0.51909342 0.51915116 0.03294305 0.44150391]\n",
      "[[ 1.18418365]\n",
      " [-0.53210002]\n",
      " [ 1.52482445]\n",
      " [-0.31532109]\n",
      " [-0.52814584]]\n",
      "[[3 3 3]\n",
      " [3 3 3]\n",
      " [3 3 3]]\n",
      "[1 3 5 7 9]\n",
      "[[1]\n",
      " [3]\n",
      " [5]\n",
      " [7]\n",
      " [9]]\n",
      "[  1.   50.5 100. ]\n"
     ]
    }
   ],
   "source": [
    "import numpy as np\n",
    "\n",
    "print(np.zeros([3, 9]))\n",
    "print(np.ones([3, 2, 6]))\n",
    "print(np.eye(4))\n",
    "print(np.random.rand(5))\n",
    "print(np.random.randn(5, 1))\n",
    "print(np.full([3, 3], 3))\n",
    "print(np.arange(1, 10, 2))\n",
    "print(np.arange(1, 10, 2).reshape(5, 1))\n",
    "print(np.linspace(1, 100, 3))"
   ]
  },
  {
   "cell_type": "markdown",
   "id": "de1c8591",
   "metadata": {},
   "source": [
    "<h1>OS</h1>"
   ]
  },
  {
   "cell_type": "markdown",
   "id": "a95d458b",
   "metadata": {},
   "source": [
    "<p>Reading/Writing Files</p>"
   ]
  },
  {
   "cell_type": "code",
   "execution_count": 9,
   "id": "e3af84e6",
   "metadata": {},
   "outputs": [
    {
     "name": "stdout",
     "output_type": "stream",
     "text": [
      "C:\\Users\\Janice\\Desktop\\Coding\\Code\\Python\\Notes\\freeCodeCamp.org\\Data Analysis with Python Course - Numpy, Pandas, Data Visualization\\Numpy and Pandas\n",
      "['.ipynb_checkpoints', 'data', 'final_scores.txt', 'italy-covid-case-info.csv', 'italy-covid-daywise.csv', 'locations.csv', 'Numpy and Pandas.ipynb', 'test_scores.csv']\n",
      "True\n"
     ]
    }
   ],
   "source": [
    "import os\n",
    "\n",
    "print(os.getcwd())\n",
    "print(os.listdir(r\"C:/Users/Janice/Desktop/Coding/Code/Python/Notes/freeCodeCamp.org/Data Analysis with Python Course - Numpy, Pandas, Data Visualization/Numpy and Pandas\"))\n",
    "os.makedirs(\"./data\", exist_ok=True)\n",
    "print(\"data\" in os.listdir())"
   ]
  },
  {
   "cell_type": "code",
   "execution_count": 10,
   "id": "998bb31a",
   "metadata": {},
   "outputs": [],
   "source": [
    "import urllib.request\n",
    "import math\n",
    "import os\n",
    "\n",
    "url1 = 'https://gist.githubusercontent.com/aakashns/257f6e6c8719c17d0e498ea287d1a386/raw/7def9ef4234ddf0bc82f855ad67dac8b971852ef/loans1.txt'\n",
    "url2 = 'https://gist.githubusercontent.com/aakashns/257f6e6c8719c17d0e498ea287d1a386/raw/7def9ef4234ddf0bc82f855ad67dac8b971852ef/loans2.txt'\n",
    "url3 = 'https://gist.githubusercontent.com/aakashns/257f6e6c8719c17d0e498ea287d1a386/raw/7def9ef4234ddf0bc82f855ad67dac8b971852ef/loans3.txt'\n",
    "\n",
    "urllib.request.urlretrieve(url1, \"./data/loans1.txt\")\n",
    "urllib.request.urlretrieve(url2, \"./data/loans2.txt\")\n",
    "urllib.request.urlretrieve(url3, \"./data/loans3.txt\")\n",
    "\n",
    "# print(os.listdir(\"./data\"))\n",
    "\n",
    "def read_csv(path):\n",
    "    result = []\n",
    "\n",
    "#     Reads CSV file\n",
    "    with open(path, \"r\") as f:\n",
    "        file1_contents = f.readlines()\n",
    "\n",
    "#     Parses headers\n",
    "    headers = file1_contents[0].strip().split(\",\")\n",
    "\n",
    "#     Appends each row of data as a list to values\n",
    "    values = []\n",
    "    for line in file1_contents[1:]:\n",
    "        lst = []\n",
    "        for data in line.strip().split(\",\"):\n",
    "            if data != \"\":\n",
    "                lst.append(float(data))\n",
    "            else:\n",
    "                lst.append(0.0)\n",
    "        values.append(lst)\n",
    "\n",
    "#     Creates dictionary with header:value and appends the dictionary to result\n",
    "    for row in values:\n",
    "        data_dict = {}\n",
    "        for header, value in zip(headers, row):\n",
    "            data_dict[header] = value\n",
    "        \n",
    "        result.append(data_dict)\n",
    "        \n",
    "    return result\n",
    "\n",
    "# Calculates equal monthly installment(EMI) of a loan\n",
    "def loan_emi(amount, duration, rate, down_payment=0):\n",
    "    loan_amount = amount - down_payment\n",
    "    emi = (amount * rate * (1+rate)**duration) / ((1+rate)*duration-1)\n",
    "    return emi\n",
    "\n",
    "\n",
    "loans1 = read_csv(\"./data/loans1.txt\")\n",
    "for loan in loans1:\n",
    "    loan[\"emi\"] = round(loan_emi(loan[\"amount\"], loan[\"duration\"]/12, loan[\"rate\"], loan[\"down_payment\"]), 2)\n",
    "\n",
    "with open(\"./data/emis1.txt\", \"w\") as f:\n",
    "    f.write(\"amount,duration,rate,down_payment,emi\\n\")\n",
    "    for loan in loans1:\n",
    "        f.write(\"{amount},{duration},{rate},{down_payment},{emi}\\n\".format(**loan))\n",
    "        \n",
    "# print(os.listdir(\"data\"))"
   ]
  },
  {
   "cell_type": "markdown",
   "id": "68af2377",
   "metadata": {},
   "source": [
    "<h1>Pandas</h1>"
   ]
  },
  {
   "cell_type": "markdown",
   "id": "918054d8",
   "metadata": {},
   "source": [
    "<p>Basic syntax</p>"
   ]
  },
  {
   "cell_type": "code",
   "execution_count": 11,
   "id": "f2521c1d",
   "metadata": {},
   "outputs": [],
   "source": [
    "from urllib.request import urlretrieve\n",
    "import pandas as pd\n",
    "\n",
    "urlretrieve(\"https://gist.githubusercontent.com/aakashns/f6a004fa20c84fec53262f9a8bfee775/raw/f309558b1cf5103424cef58e2ecb8704dcd4d74c/italy-covid-daywise.csv\",\n",
    "           \"italy-covid-daywise.csv\")\n",
    "\n",
    "covid_df = pd.read_csv(\"italy-covid-daywise.csv\")\n",
    "# print(covid_df.head())\n",
    "# print(covid_df.tail())\n",
    "# print(covid_df.info())\n",
    "# print(covid_df.describe())\n",
    "# print(covid_df.columns)\n",
    "# print(covid_df.shape)\n",
    "# print(covid_df.sample(5))"
   ]
  },
  {
   "cell_type": "markdown",
   "id": "ff2dcc81",
   "metadata": {},
   "source": [
    "<p>Modifying Display</p>"
   ]
  },
  {
   "cell_type": "code",
   "execution_count": 12,
   "id": "f88a9968",
   "metadata": {},
   "outputs": [
    {
     "name": "stdout",
     "output_type": "stream",
     "text": [
      "           date  new_cases  new_deaths  new_tests\n",
      "0    2019-12-31        0.0         0.0        NaN\n",
      "1    2020-01-01        0.0         0.0        NaN\n",
      "2    2020-01-02        0.0         0.0        NaN\n",
      "3    2020-01-03        0.0         0.0        NaN\n",
      "4    2020-01-04        0.0         0.0        NaN\n",
      "5    2020-01-05        0.0         0.0        NaN\n",
      "6    2020-01-06        0.0         0.0        NaN\n",
      "7    2020-01-07        0.0         0.0        NaN\n",
      "8    2020-01-08        0.0         0.0        NaN\n",
      "9    2020-01-09        0.0         0.0        NaN\n",
      "10   2020-01-10        0.0         0.0        NaN\n",
      "11   2020-01-11        0.0         0.0        NaN\n",
      "12   2020-01-12        0.0         0.0        NaN\n",
      "13   2020-01-13        0.0         0.0        NaN\n",
      "14   2020-01-14        0.0         0.0        NaN\n",
      "15   2020-01-15        0.0         0.0        NaN\n",
      "16   2020-01-16        0.0         0.0        NaN\n",
      "17   2020-01-17        0.0         0.0        NaN\n",
      "18   2020-01-18        0.0         0.0        NaN\n",
      "19   2020-01-19        0.0         0.0        NaN\n",
      "20   2020-01-20        0.0         0.0        NaN\n",
      "21   2020-01-21        0.0         0.0        NaN\n",
      "22   2020-01-22        0.0         0.0        NaN\n",
      "23   2020-01-23        0.0         0.0        NaN\n",
      "24   2020-01-24        0.0         0.0        NaN\n",
      "25   2020-01-25        0.0         0.0        NaN\n",
      "26   2020-01-26        0.0         0.0        NaN\n",
      "27   2020-01-27        0.0         0.0        NaN\n",
      "28   2020-01-28        0.0         0.0        NaN\n",
      "29   2020-01-29        0.0         0.0        NaN\n",
      "30   2020-01-30        0.0         0.0        NaN\n",
      "31   2020-01-31        3.0         0.0        NaN\n",
      "32   2020-02-01        0.0         0.0        NaN\n",
      "33   2020-02-02        0.0         0.0        NaN\n",
      "34   2020-02-03        0.0         0.0        NaN\n",
      "35   2020-02-04        0.0         0.0        NaN\n",
      "36   2020-02-05        0.0         0.0        NaN\n",
      "37   2020-02-06        0.0         0.0        NaN\n",
      "38   2020-02-07        0.0         0.0        NaN\n",
      "39   2020-02-08        0.0         0.0        NaN\n",
      "40   2020-02-09        0.0         0.0        NaN\n",
      "41   2020-02-10        0.0         0.0        NaN\n",
      "42   2020-02-11        0.0         0.0        NaN\n",
      "43   2020-02-12        0.0         0.0        NaN\n",
      "44   2020-02-13        0.0         0.0        NaN\n",
      "45   2020-02-14        0.0         0.0        NaN\n",
      "46   2020-02-15        0.0         0.0        NaN\n",
      "47   2020-02-16        0.0         0.0        NaN\n",
      "48   2020-02-17        0.0         0.0        NaN\n",
      "49   2020-02-18        0.0         0.0        NaN\n",
      "50   2020-02-19        0.0         0.0        NaN\n",
      "51   2020-02-20        0.0         0.0        NaN\n",
      "52   2020-02-21        0.0         0.0        NaN\n",
      "53   2020-02-22       14.0         0.0        NaN\n",
      "54   2020-02-23       62.0         2.0        NaN\n",
      "55   2020-02-24       53.0         0.0        NaN\n",
      "56   2020-02-25       97.0         4.0        NaN\n",
      "57   2020-02-26       93.0         5.0        NaN\n",
      "58   2020-02-27       78.0         1.0        NaN\n",
      "59   2020-02-28      250.0         5.0        NaN\n",
      "60   2020-02-29      238.0         4.0        NaN\n",
      "61   2020-03-01      240.0         8.0        NaN\n",
      "62   2020-03-02      561.0         6.0        NaN\n",
      "63   2020-03-03      347.0        17.0        NaN\n",
      "64   2020-03-04      466.0        28.0        NaN\n",
      "65   2020-03-05      587.0        27.0        NaN\n",
      "66   2020-03-06      769.0        41.0        NaN\n",
      "67   2020-03-07      778.0        49.0        NaN\n",
      "68   2020-03-08     1247.0        36.0        NaN\n",
      "69   2020-03-09     1492.0       133.0        NaN\n",
      "70   2020-03-10     1797.0        98.0        NaN\n",
      "71   2020-03-11      977.0       167.0        NaN\n",
      "72   2020-03-12     2313.0       196.0        NaN\n",
      "73   2020-03-13     2651.0       189.0        NaN\n",
      "74   2020-03-14     2547.0       252.0        NaN\n",
      "75   2020-03-15     3497.0       173.0        NaN\n",
      "76   2020-03-16     2823.0       370.0        NaN\n",
      "77   2020-03-17     4000.0       347.0        NaN\n",
      "78   2020-03-18     3526.0       347.0        NaN\n",
      "79   2020-03-19     4207.0       473.0        NaN\n",
      "80   2020-03-20     5322.0       429.0        NaN\n",
      "81   2020-03-21     5986.0       625.0        NaN\n",
      "82   2020-03-22     6557.0       795.0        NaN\n",
      "83   2020-03-23     5560.0       649.0        NaN\n",
      "84   2020-03-24     4789.0       601.0        NaN\n",
      "85   2020-03-25     5249.0       743.0        NaN\n",
      "86   2020-03-26     5210.0       685.0        NaN\n",
      "87   2020-03-27     6153.0       660.0        NaN\n",
      "88   2020-03-28     5959.0       971.0        NaN\n",
      "89   2020-03-29     5974.0       887.0        NaN\n",
      "90   2020-03-30     5217.0       758.0        NaN\n",
      "91   2020-03-31     4050.0       810.0        NaN\n",
      "92   2020-04-01     4053.0       839.0        NaN\n",
      "93   2020-04-02     4782.0       727.0        NaN\n",
      "94   2020-04-03     4668.0       760.0        NaN\n",
      "95   2020-04-04     4585.0       764.0        NaN\n",
      "96   2020-04-05     4805.0       681.0        NaN\n",
      "97   2020-04-06     4316.0       527.0        NaN\n",
      "98   2020-04-07     3599.0       636.0        NaN\n",
      "99   2020-04-08     3039.0       604.0        NaN\n",
      "100  2020-04-09     3836.0       540.0        NaN\n",
      "101  2020-04-10     4204.0       612.0        NaN\n",
      "102  2020-04-11     3951.0       570.0        NaN\n",
      "103  2020-04-12     4694.0       619.0        NaN\n",
      "104  2020-04-13     4092.0       431.0        NaN\n",
      "105  2020-04-14     3153.0       564.0        NaN\n",
      "106  2020-04-15     2972.0       604.0        NaN\n",
      "107  2020-04-16     2667.0       578.0        NaN\n",
      "108  2020-04-17     3786.0       525.0        NaN\n",
      "109  2020-04-18     3493.0       575.0        NaN\n",
      "110  2020-04-19     3491.0       480.0        NaN\n",
      "111  2020-04-20     3047.0       433.0     7841.0\n",
      "112  2020-04-21     2256.0       454.0    28095.0\n",
      "113  2020-04-22     2729.0       534.0    44248.0\n",
      "114  2020-04-23     3370.0       437.0    37083.0\n",
      "115  2020-04-24     2646.0       464.0    95273.0\n",
      "116  2020-04-25     3021.0       420.0    38676.0\n",
      "117  2020-04-26     2357.0       415.0    24113.0\n",
      "118  2020-04-27     2324.0       260.0    26678.0\n",
      "119  2020-04-28     1739.0       333.0    37554.0\n",
      "120  2020-04-29     2091.0       382.0    38589.0\n",
      "121  2020-04-30     2086.0       323.0    41441.0\n",
      "122  2020-05-01     1872.0       285.0    43732.0\n",
      "123  2020-05-02     1965.0       269.0    31231.0\n",
      "124  2020-05-03     1900.0       474.0    27047.0\n",
      "125  2020-05-04     1389.0       174.0    22999.0\n",
      "126  2020-05-05     1221.0       195.0    32211.0\n",
      "127  2020-05-06     1075.0       236.0    37771.0\n",
      "128  2020-05-07     1444.0       369.0    13665.0\n",
      "129  2020-05-08     1401.0       274.0    45428.0\n",
      "130  2020-05-09     1327.0       243.0    36091.0\n",
      "131  2020-05-10     1083.0       194.0    31384.0\n",
      "132  2020-05-11      802.0       165.0    25823.0\n",
      "133  2020-05-12      744.0       179.0    39620.0\n",
      "134  2020-05-13     1402.0       172.0    37049.0\n",
      "135  2020-05-14      888.0       195.0    41131.0\n",
      "136  2020-05-15      992.0       262.0    39027.0\n",
      "137  2020-05-16      789.0       242.0    40657.0\n",
      "138  2020-05-17      875.0       153.0    33505.0\n",
      "139  2020-05-18      675.0       145.0    26101.0\n",
      "140  2020-05-19      451.0        99.0    40226.0\n",
      "141  2020-05-20      813.0       162.0    38617.0\n",
      "142  2020-05-21      665.0       161.0    40644.0\n",
      "143  2020-05-22      642.0       156.0    42987.0\n",
      "144  2020-05-23      652.0       130.0    42579.0\n",
      "145  2020-05-24      669.0       119.0    34206.0\n",
      "146  2020-05-25      531.0        50.0    20676.0\n",
      "147  2020-05-26      300.0        92.0    33944.0\n",
      "148  2020-05-27      397.0        78.0    37299.0\n",
      "149  2020-05-28      584.0       117.0    39838.0\n",
      "150  2020-05-29      593.0        70.0    38233.0\n",
      "151  2020-05-30      516.0        87.0    36051.0\n",
      "152  2020-05-31      416.0       111.0    28948.0\n",
      "153  2020-06-01      355.0        75.0    18053.0\n",
      "154  2020-06-02      178.0        60.0    25628.0\n",
      "155  2020-06-03      318.0        55.0    20035.0\n",
      "156  2020-06-04      321.0        71.0    27451.0\n",
      "157  2020-06-05      177.0        88.0    40470.0\n",
      "158  2020-06-06      518.0        85.0    34036.0\n",
      "159  2020-06-07      270.0        72.0    27894.0\n",
      "160  2020-06-08      197.0        53.0    16301.0\n",
      "161  2020-06-09      280.0        65.0    32200.0\n",
      "162  2020-06-10      283.0        79.0    37865.0\n",
      "163  2020-06-11      202.0        71.0    32991.0\n",
      "164  2020-06-12      379.0        53.0    37651.0\n",
      "165  2020-06-13      163.0        56.0    32880.0\n",
      "166  2020-06-14      346.0        78.0    29545.0\n",
      "167  2020-06-15      338.0        44.0    17463.0\n",
      "168  2020-06-16      301.0        26.0    27762.0\n",
      "169  2020-06-17      210.0        34.0    33957.0\n",
      "170  2020-06-18      328.0        43.0    32921.0\n",
      "171  2020-06-19      331.0        66.0    28570.0\n",
      "172  2020-06-20     -148.0        47.0    29875.0\n",
      "173  2020-06-21      264.0        49.0    24581.0\n",
      "174  2020-06-22      224.0        24.0    16152.0\n",
      "175  2020-06-23      221.0        23.0    23225.0\n",
      "176  2020-06-24      113.0        18.0    30237.0\n",
      "177  2020-06-25      577.0       -31.0    29421.0\n",
      "178  2020-06-26      296.0        34.0    28331.0\n",
      "179  2020-06-27      255.0        30.0    29721.0\n",
      "180  2020-06-28      175.0         8.0    21183.0\n",
      "181  2020-06-29      174.0        22.0    15484.0\n",
      "182  2020-06-30      126.0         6.0    28471.0\n",
      "183  2020-07-01      142.0        23.0    29325.0\n",
      "184  2020-07-02      182.0        21.0    29147.0\n",
      "185  2020-07-03      201.0        30.0    25680.0\n",
      "186  2020-07-04      223.0        15.0    28946.0\n",
      "187  2020-07-05      235.0        21.0    21166.0\n",
      "188  2020-07-06      192.0         7.0    13771.0\n",
      "189  2020-07-07      208.0         8.0    22490.0\n",
      "190  2020-07-08      137.0        30.0    28679.0\n",
      "191  2020-07-09      193.0        15.0    29947.0\n",
      "192  2020-07-10      214.0        12.0    27251.0\n",
      "193  2020-07-11      276.0        12.0    25449.0\n",
      "194  2020-07-12      188.0         7.0    23061.0\n",
      "195  2020-07-13      234.0         9.0    14006.0\n",
      "196  2020-07-14      169.0        13.0    24222.0\n",
      "197  2020-07-15      114.0        17.0    28392.0\n",
      "198  2020-07-16      162.0        13.0    28089.0\n",
      "199  2020-07-17      230.0        20.0    28661.0\n",
      "200  2020-07-18      231.0        11.0    27569.0\n",
      "201  2020-07-19      249.0        14.0    20621.0\n",
      "202  2020-07-20      218.0         3.0    14121.0\n",
      "203  2020-07-21      190.0        13.0    23915.0\n",
      "204  2020-07-22      128.0        15.0    29288.0\n",
      "205  2020-07-23      280.0         9.0    33018.0\n",
      "206  2020-07-24      306.0        10.0    28970.0\n",
      "207  2020-07-25      252.0         5.0    28059.0\n",
      "208  2020-07-26      274.0         5.0    25177.0\n",
      "209  2020-07-27      254.0         5.0    19374.0\n",
      "210  2020-07-28      168.0         5.0    25341.0\n",
      "211  2020-07-29      202.0        11.0    30875.0\n",
      "212  2020-07-30      288.0         6.0    33396.0\n",
      "213  2020-07-31      382.0         3.0    29686.0\n",
      "214  2020-08-01      379.0         9.0    31905.0\n",
      "215  2020-08-02      295.0         5.0    24496.0\n",
      "216  2020-08-03      238.0         8.0    13467.0\n",
      "217  2020-08-04      159.0        12.0    23491.0\n",
      "218  2020-08-05      190.0         5.0    29739.0\n",
      "219  2020-08-06      384.0        10.0    32169.0\n",
      "220  2020-08-07      401.0         6.0    30392.0\n",
      "221  2020-08-08      552.0         3.0    26631.0\n",
      "222  2020-08-09      347.0        13.0    22773.0\n",
      "223  2020-08-10      463.0         2.0    10904.0\n",
      "224  2020-08-11      259.0         4.0    22063.0\n",
      "225  2020-08-12      412.0         6.0    27330.0\n",
      "226  2020-08-13      476.0        10.0    25629.0\n",
      "227  2020-08-14      522.0         6.0    24868.0\n",
      "228  2020-08-15      574.0         3.0    25937.0\n",
      "229  2020-08-16      629.0       158.0    22470.0\n",
      "230  2020-08-17      477.0         4.0    21379.0\n",
      "231  2020-08-18      320.0         4.0    32687.0\n",
      "232  2020-08-19      401.0         5.0    41290.0\n",
      "233  2020-08-20      642.0         7.0    49662.0\n",
      "234  2020-08-21      840.0         6.0    44943.0\n",
      "235  2020-08-22      947.0         9.0    46613.0\n",
      "236  2020-08-23     1071.0         3.0    47463.0\n",
      "237  2020-08-24     1209.0         7.0    33358.0\n",
      "238  2020-08-25      953.0         4.0    45798.0\n",
      "239  2020-08-26      876.0         4.0    58054.0\n",
      "240  2020-08-27     1366.0        13.0    57640.0\n",
      "241  2020-08-28     1409.0         5.0    65135.0\n",
      "242  2020-08-29     1460.0         9.0    64294.0\n",
      "243  2020-08-30     1444.0         1.0    53541.0\n",
      "244  2020-08-31     1365.0         4.0    42583.0\n",
      "245  2020-09-01      996.0         6.0    54395.0\n",
      "246  2020-09-02      975.0         8.0        NaN\n",
      "247  2020-09-03     1326.0         6.0        NaN\n"
     ]
    },
    {
     "data": {
      "text/plain": [
       "60"
      ]
     },
     "execution_count": 12,
     "metadata": {},
     "output_type": "execute_result"
    }
   ],
   "source": [
    "pd.options.display.max_rows = 999\n",
    "print(covid_df)\n",
    "pd.reset_option(\"display.max_rows\")\n",
    "pd.options.display.max_rows"
   ]
  },
  {
   "cell_type": "markdown",
   "id": "6b222426",
   "metadata": {},
   "source": [
    "<p>Retrieving data</p>"
   ]
  },
  {
   "cell_type": "code",
   "execution_count": 13,
   "id": "3095d9e6",
   "metadata": {},
   "outputs": [
    {
     "name": "stdout",
     "output_type": "stream",
     "text": [
      "1326.0\n",
      "1.0\n",
      "0         0.0\n",
      "1         0.0\n",
      "2         0.0\n",
      "3         0.0\n",
      "4         0.0\n",
      "        ...  \n",
      "243    1444.0\n",
      "244    1365.0\n",
      "245     996.0\n",
      "246     975.0\n",
      "247    1326.0\n",
      "Name: new_cases, Length: 248, dtype: float64 \n",
      "\n",
      "     new_cases        date\n",
      "0          0.0  2019-12-31\n",
      "1          0.0  2020-01-01\n",
      "2          0.0  2020-01-02\n",
      "3          0.0  2020-01-03\n",
      "4          0.0  2020-01-04\n",
      "..         ...         ...\n",
      "243     1444.0  2020-08-30\n",
      "244     1365.0  2020-08-31\n",
      "245      996.0  2020-09-01\n",
      "246      975.0  2020-09-02\n",
      "247     1326.0  2020-09-03\n",
      "\n",
      "[248 rows x 2 columns]\n",
      "date          2020-05-02\n",
      "new_cases         1965.0\n",
      "new_deaths         269.0\n",
      "new_tests        31231.0\n",
      "Name: 123, dtype: object\n",
      "111\n"
     ]
    }
   ],
   "source": [
    "# Accessing column data: visualise as a dictionary where keys=column names, values=list of data\n",
    "print(covid_df[\"new_cases\"][247])\n",
    "\n",
    "# Retrieve data at a specific row/column\n",
    "print(covid_df.at[243, \"new_deaths\"])\n",
    "\n",
    "# Retrieve column\n",
    "print(covid_df.new_cases, \"\\n\")\n",
    "\n",
    "# Retrieve columns\n",
    "print(covid_df[[\"new_cases\", \"date\"]])\n",
    "\n",
    "# Retrieve rows as Series objects\n",
    "print(covid_df.loc[123])\n",
    "\n",
    "# Copy dataframe\n",
    "covid_df_copy = covid_df.copy()\n",
    "\n",
    "# Gives first non-Nan value\n",
    "print(covid_df_copy.new_tests.first_valid_index())"
   ]
  },
  {
   "cell_type": "markdown",
   "id": "17a6b6ec",
   "metadata": {},
   "source": [
    "<p>Analysing data</p>"
   ]
  },
  {
   "cell_type": "code",
   "execution_count": 14,
   "id": "7e6d5659",
   "metadata": {},
   "outputs": [
    {
     "name": "stdout",
     "output_type": "stream",
     "text": [
      "271515.0\n",
      "     index        date  new_cases  new_deaths  new_tests\n",
      "0      111  2020-04-20     3047.0       433.0     7841.0\n",
      "1      112  2020-04-21     2256.0       454.0    28095.0\n",
      "2      113  2020-04-22     2729.0       534.0    44248.0\n",
      "3      114  2020-04-23     3370.0       437.0    37083.0\n",
      "4      115  2020-04-24     2646.0       464.0    95273.0\n",
      "..     ...         ...        ...         ...        ...\n",
      "129    241  2020-08-28     1409.0         5.0    65135.0\n",
      "130    242  2020-08-29     1460.0         9.0    64294.0\n",
      "131    243  2020-08-30     1444.0         1.0    53541.0\n",
      "132    244  2020-08-31     1365.0         4.0    42583.0\n",
      "133    245  2020-09-01      996.0         6.0    54395.0\n",
      "\n",
      "[134 rows x 5 columns] \n",
      "\n",
      "0       True\n",
      "1       True\n",
      "2       True\n",
      "3       True\n",
      "4       True\n",
      "       ...  \n",
      "243    False\n",
      "244    False\n",
      "245    False\n",
      "246     True\n",
      "247     True\n",
      "Name: new_tests, Length: 248, dtype: bool\n"
     ]
    }
   ],
   "source": [
    "# Add all values in a row\n",
    "print(covid_df.new_cases.sum())\n",
    "\n",
    "# Querying rows\n",
    "# print(covid_df.new_deaths > 100, \"\\n\")\n",
    "print(covid_df[(covid_df.new_tests > 0) & (covid_df.new_cases > 0)].reset_index(), \"\\n\")\n",
    "print(covid_df.new_tests.isnull())\n",
    "\n",
    "# Operations\n",
    "positive_rate = covid_df.new_cases / covid_df.new_tests"
   ]
  },
  {
   "cell_type": "markdown",
   "id": "bf07ce63",
   "metadata": {},
   "source": [
    "<p>Modifying Dataframes</p>"
   ]
  },
  {
   "cell_type": "code",
   "execution_count": 15,
   "id": "8d4bc5c7",
   "metadata": {},
   "outputs": [
    {
     "data": {
      "text/plain": [
       "170    328.0\n",
       "171    331.0\n",
       "172    297.5\n",
       "173    264.0\n",
       "174    224.0\n",
       "Name: new_cases, dtype: float64"
      ]
     },
     "execution_count": 15,
     "metadata": {},
     "output_type": "execute_result"
    }
   ],
   "source": [
    "# Adding columns\n",
    "covid_df[\"positive_rate\"] = positive_rate\n",
    "\n",
    "# Removing columns\n",
    "covid_df.drop(columns=\"positive_rate\", inplace=True)\n",
    "\n",
    "# Sorting rows in a specific column\n",
    "new_cases = covid_df.sort_values(\"new_cases\", ignore_index=True)\n",
    "\n",
    "# Modifying specific values\n",
    "covid_df.at[172, \"new_cases\"] = (covid_df.at[171, \"new_cases\"] + \n",
    "                                 covid_df.at[173, \"new_cases\"]) / 2\n",
    "covid_df.loc[170:174, \"new_cases\"]"
   ]
  },
  {
   "cell_type": "markdown",
   "id": "9f2f8707",
   "metadata": {},
   "source": [
    "<p>Dates</p>"
   ]
  },
  {
   "cell_type": "code",
   "execution_count": 16,
   "id": "29b77c49",
   "metadata": {},
   "outputs": [
    {
     "data": {
      "text/plain": [
       "new_cases      1178.200000\n",
       "new_deaths      142.128571\n",
       "new_tests     24095.076923\n",
       "dtype: float64"
      ]
     },
     "execution_count": 16,
     "metadata": {},
     "output_type": "execute_result"
    }
   ],
   "source": [
    "# Convert data type to datetime column\n",
    "covid_df[\"date\"] = pd.to_datetime(covid_df.date)\n",
    "\n",
    "# Filter time data\n",
    "covid_df[\"year\"] = pd.DatetimeIndex(covid_df.date).year\n",
    "covid_df[\"month\"] = pd.DatetimeIndex(covid_df.date).month\n",
    "covid_df[\"day\"] = pd.DatetimeIndex(covid_df.date).day\n",
    "covid_df[\"weekday\"] = pd.DatetimeIndex(covid_df.date).weekday\n",
    "# covid_df.head()\n",
    "\n",
    "# Query data\n",
    "covid_df_weekend = covid_df[(covid_df.weekday == 0) | (covid_df.weekday ==6)]\n",
    "\n",
    "covid_df_weekend_metrics = covid_df_weekend[[\"new_cases\", \"new_deaths\", \"new_tests\"]]\n",
    "covid_df_weekend_totals = covid_df_weekend_metrics.sum()\n",
    "covid_df_weekend_avg = covid_df_weekend_metrics.mean()\n",
    "covid_df_weekend_avg"
   ]
  },
  {
   "cell_type": "markdown",
   "id": "ff9a18be",
   "metadata": {},
   "source": [
    "<p>Grouping and Aggregation</p>"
   ]
  },
  {
   "cell_type": "code",
   "execution_count": 17,
   "id": "b5716cc3",
   "metadata": {},
   "outputs": [
    {
     "data": {
      "text/html": [
       "<div>\n",
       "<style scoped>\n",
       "    .dataframe tbody tr th:only-of-type {\n",
       "        vertical-align: middle;\n",
       "    }\n",
       "\n",
       "    .dataframe tbody tr th {\n",
       "        vertical-align: top;\n",
       "    }\n",
       "\n",
       "    .dataframe thead th {\n",
       "        text-align: right;\n",
       "    }\n",
       "</style>\n",
       "<table border=\"1\" class=\"dataframe\">\n",
       "  <thead>\n",
       "    <tr style=\"text-align: right;\">\n",
       "      <th></th>\n",
       "      <th>date</th>\n",
       "      <th>new_cases</th>\n",
       "      <th>new_deaths</th>\n",
       "      <th>new_tests</th>\n",
       "      <th>year</th>\n",
       "      <th>month</th>\n",
       "      <th>day</th>\n",
       "      <th>weekday</th>\n",
       "      <th>total_cases</th>\n",
       "    </tr>\n",
       "  </thead>\n",
       "  <tbody>\n",
       "    <tr>\n",
       "      <th>243</th>\n",
       "      <td>2020-08-30</td>\n",
       "      <td>1444.0</td>\n",
       "      <td>1.0</td>\n",
       "      <td>53541.0</td>\n",
       "      <td>2020</td>\n",
       "      <td>8</td>\n",
       "      <td>30</td>\n",
       "      <td>6</td>\n",
       "      <td>267298.5</td>\n",
       "    </tr>\n",
       "    <tr>\n",
       "      <th>244</th>\n",
       "      <td>2020-08-31</td>\n",
       "      <td>1365.0</td>\n",
       "      <td>4.0</td>\n",
       "      <td>42583.0</td>\n",
       "      <td>2020</td>\n",
       "      <td>8</td>\n",
       "      <td>31</td>\n",
       "      <td>0</td>\n",
       "      <td>268663.5</td>\n",
       "    </tr>\n",
       "    <tr>\n",
       "      <th>245</th>\n",
       "      <td>2020-09-01</td>\n",
       "      <td>996.0</td>\n",
       "      <td>6.0</td>\n",
       "      <td>54395.0</td>\n",
       "      <td>2020</td>\n",
       "      <td>9</td>\n",
       "      <td>1</td>\n",
       "      <td>1</td>\n",
       "      <td>269659.5</td>\n",
       "    </tr>\n",
       "    <tr>\n",
       "      <th>246</th>\n",
       "      <td>2020-09-02</td>\n",
       "      <td>975.0</td>\n",
       "      <td>8.0</td>\n",
       "      <td>NaN</td>\n",
       "      <td>2020</td>\n",
       "      <td>9</td>\n",
       "      <td>2</td>\n",
       "      <td>2</td>\n",
       "      <td>270634.5</td>\n",
       "    </tr>\n",
       "    <tr>\n",
       "      <th>247</th>\n",
       "      <td>2020-09-03</td>\n",
       "      <td>1326.0</td>\n",
       "      <td>6.0</td>\n",
       "      <td>NaN</td>\n",
       "      <td>2020</td>\n",
       "      <td>9</td>\n",
       "      <td>3</td>\n",
       "      <td>3</td>\n",
       "      <td>271960.5</td>\n",
       "    </tr>\n",
       "  </tbody>\n",
       "</table>\n",
       "</div>"
      ],
      "text/plain": [
       "          date  new_cases  new_deaths  new_tests  year  month  day  weekday  \\\n",
       "243 2020-08-30     1444.0         1.0    53541.0  2020      8   30        6   \n",
       "244 2020-08-31     1365.0         4.0    42583.0  2020      8   31        0   \n",
       "245 2020-09-01      996.0         6.0    54395.0  2020      9    1        1   \n",
       "246 2020-09-02      975.0         8.0        NaN  2020      9    2        2   \n",
       "247 2020-09-03     1326.0         6.0        NaN  2020      9    3        3   \n",
       "\n",
       "     total_cases  \n",
       "243     267298.5  \n",
       "244     268663.5  \n",
       "245     269659.5  \n",
       "246     270634.5  \n",
       "247     271960.5  "
      ]
     },
     "execution_count": 17,
     "metadata": {},
     "output_type": "execute_result"
    }
   ],
   "source": [
    "# Group relevant data by month, then aggrecate/sum them up\n",
    "monthly_groups = covid_df.groupby(\"month\")[[\"new_cases\", \"new_deaths\", \"new_tests\"]].sum()\n",
    "\n",
    "# Cumulative sums\n",
    "covid_df[\"total_cases\"] = covid_df.new_cases.cumsum()\n",
    "covid_df.tail()"
   ]
  },
  {
   "cell_type": "markdown",
   "id": "c0fec09a",
   "metadata": {},
   "source": [
    "<p>Merging Dataframes</p>"
   ]
  },
  {
   "cell_type": "code",
   "execution_count": 18,
   "id": "74682284",
   "metadata": {},
   "outputs": [
    {
     "data": {
      "text/html": [
       "<div>\n",
       "<style scoped>\n",
       "    .dataframe tbody tr th:only-of-type {\n",
       "        vertical-align: middle;\n",
       "    }\n",
       "\n",
       "    .dataframe tbody tr th {\n",
       "        vertical-align: top;\n",
       "    }\n",
       "\n",
       "    .dataframe thead th {\n",
       "        text-align: right;\n",
       "    }\n",
       "</style>\n",
       "<table border=\"1\" class=\"dataframe\">\n",
       "  <thead>\n",
       "    <tr style=\"text-align: right;\">\n",
       "      <th></th>\n",
       "      <th>date</th>\n",
       "      <th>new_cases</th>\n",
       "      <th>new_deaths</th>\n",
       "      <th>new_tests</th>\n",
       "      <th>year</th>\n",
       "      <th>month</th>\n",
       "      <th>day</th>\n",
       "      <th>weekday</th>\n",
       "      <th>total_cases</th>\n",
       "      <th>location</th>\n",
       "      <th>continent</th>\n",
       "      <th>population</th>\n",
       "      <th>life_expectancy</th>\n",
       "      <th>hospital_beds_per_thousand</th>\n",
       "      <th>gdp_per_capita</th>\n",
       "      <th>cases_per_million</th>\n",
       "    </tr>\n",
       "  </thead>\n",
       "  <tbody>\n",
       "    <tr>\n",
       "      <th>0</th>\n",
       "      <td>2019-12-31</td>\n",
       "      <td>0.0</td>\n",
       "      <td>0.0</td>\n",
       "      <td>NaN</td>\n",
       "      <td>2019</td>\n",
       "      <td>12</td>\n",
       "      <td>31</td>\n",
       "      <td>1</td>\n",
       "      <td>0.0</td>\n",
       "      <td>Italy</td>\n",
       "      <td>Europe</td>\n",
       "      <td>60461828.0</td>\n",
       "      <td>83.51</td>\n",
       "      <td>3.18</td>\n",
       "      <td>35220.084</td>\n",
       "      <td>0.0</td>\n",
       "    </tr>\n",
       "    <tr>\n",
       "      <th>1</th>\n",
       "      <td>2020-01-01</td>\n",
       "      <td>0.0</td>\n",
       "      <td>0.0</td>\n",
       "      <td>NaN</td>\n",
       "      <td>2020</td>\n",
       "      <td>1</td>\n",
       "      <td>1</td>\n",
       "      <td>2</td>\n",
       "      <td>0.0</td>\n",
       "      <td>Italy</td>\n",
       "      <td>Europe</td>\n",
       "      <td>60461828.0</td>\n",
       "      <td>83.51</td>\n",
       "      <td>3.18</td>\n",
       "      <td>35220.084</td>\n",
       "      <td>0.0</td>\n",
       "    </tr>\n",
       "    <tr>\n",
       "      <th>2</th>\n",
       "      <td>2020-01-02</td>\n",
       "      <td>0.0</td>\n",
       "      <td>0.0</td>\n",
       "      <td>NaN</td>\n",
       "      <td>2020</td>\n",
       "      <td>1</td>\n",
       "      <td>2</td>\n",
       "      <td>3</td>\n",
       "      <td>0.0</td>\n",
       "      <td>Italy</td>\n",
       "      <td>Europe</td>\n",
       "      <td>60461828.0</td>\n",
       "      <td>83.51</td>\n",
       "      <td>3.18</td>\n",
       "      <td>35220.084</td>\n",
       "      <td>0.0</td>\n",
       "    </tr>\n",
       "    <tr>\n",
       "      <th>3</th>\n",
       "      <td>2020-01-03</td>\n",
       "      <td>0.0</td>\n",
       "      <td>0.0</td>\n",
       "      <td>NaN</td>\n",
       "      <td>2020</td>\n",
       "      <td>1</td>\n",
       "      <td>3</td>\n",
       "      <td>4</td>\n",
       "      <td>0.0</td>\n",
       "      <td>Italy</td>\n",
       "      <td>Europe</td>\n",
       "      <td>60461828.0</td>\n",
       "      <td>83.51</td>\n",
       "      <td>3.18</td>\n",
       "      <td>35220.084</td>\n",
       "      <td>0.0</td>\n",
       "    </tr>\n",
       "    <tr>\n",
       "      <th>4</th>\n",
       "      <td>2020-01-04</td>\n",
       "      <td>0.0</td>\n",
       "      <td>0.0</td>\n",
       "      <td>NaN</td>\n",
       "      <td>2020</td>\n",
       "      <td>1</td>\n",
       "      <td>4</td>\n",
       "      <td>5</td>\n",
       "      <td>0.0</td>\n",
       "      <td>Italy</td>\n",
       "      <td>Europe</td>\n",
       "      <td>60461828.0</td>\n",
       "      <td>83.51</td>\n",
       "      <td>3.18</td>\n",
       "      <td>35220.084</td>\n",
       "      <td>0.0</td>\n",
       "    </tr>\n",
       "  </tbody>\n",
       "</table>\n",
       "</div>"
      ],
      "text/plain": [
       "        date  new_cases  new_deaths  new_tests  year  month  day  weekday  \\\n",
       "0 2019-12-31        0.0         0.0        NaN  2019     12   31        1   \n",
       "1 2020-01-01        0.0         0.0        NaN  2020      1    1        2   \n",
       "2 2020-01-02        0.0         0.0        NaN  2020      1    2        3   \n",
       "3 2020-01-03        0.0         0.0        NaN  2020      1    3        4   \n",
       "4 2020-01-04        0.0         0.0        NaN  2020      1    4        5   \n",
       "\n",
       "   total_cases location continent  population  life_expectancy  \\\n",
       "0          0.0    Italy    Europe  60461828.0            83.51   \n",
       "1          0.0    Italy    Europe  60461828.0            83.51   \n",
       "2          0.0    Italy    Europe  60461828.0            83.51   \n",
       "3          0.0    Italy    Europe  60461828.0            83.51   \n",
       "4          0.0    Italy    Europe  60461828.0            83.51   \n",
       "\n",
       "   hospital_beds_per_thousand  gdp_per_capita  cases_per_million  \n",
       "0                        3.18       35220.084                0.0  \n",
       "1                        3.18       35220.084                0.0  \n",
       "2                        3.18       35220.084                0.0  \n",
       "3                        3.18       35220.084                0.0  \n",
       "4                        3.18       35220.084                0.0  "
      ]
     },
     "execution_count": 18,
     "metadata": {},
     "output_type": "execute_result"
    }
   ],
   "source": [
    "# Import and read second dataframe\n",
    "urlretrieve('https://gist.githubusercontent.com/aakashns/8684589ef4f266116cdce023377fc9c8/raw/99ce3826b2a9d1e6d0bde7e9e559fc8b6e9ac88b/locations.csv', \n",
    "            'locations.csv')\n",
    "locations_df = pd.read_csv(\"locations.csv\")\n",
    "# locations_df[locations_df.location == \"Italy\"]\n",
    "\n",
    "# Create common column\n",
    "covid_df[\"location\"] = \"Italy\"\n",
    "\n",
    "# Merge dataframe\n",
    "merged_df = covid_df.merge(locations_df, on=\"location\")\n",
    "merged_df[\"cases_per_million\"] = merged_df[\"new_cases\"] * 1e6 / merged_df.population\n",
    "merged_df.head()"
   ]
  },
  {
   "cell_type": "markdown",
   "id": "e97ecb39",
   "metadata": {},
   "source": [
    "<p>Writing data to files</p>"
   ]
  },
  {
   "cell_type": "code",
   "execution_count": 19,
   "id": "b7782f34",
   "metadata": {},
   "outputs": [],
   "source": [
    "cases_df = merged_df[[\"date\", \"new_cases\", \"total_cases\", \"cases_per_million\"]]\n",
    "cases_df.to_csv(\"italy-covid-case-info.csv\", index=False)"
   ]
  },
  {
   "cell_type": "markdown",
   "id": "6b32bbfc",
   "metadata": {},
   "source": [
    "<p>Plotting</p>"
   ]
  },
  {
   "cell_type": "code",
   "execution_count": 20,
   "id": "6aac718b",
   "metadata": {},
   "outputs": [
    {
     "data": {
      "image/png": "[encoded data removed]",
      "text/plain": [
       "<Figure size 432x288 with 1 Axes>"
      ]
     },
     "metadata": {
      "needs_background": "light"
     },
     "output_type": "display_data"
    },
    {
     "data": {
      "image/png": "[encoded data removed]",
      "text/plain": [
       "<Figure size 432x288 with 1 Axes>"
      ]
     },
     "metadata": {
      "needs_background": "light"
     },
     "output_type": "display_data"
    }
   ],
   "source": [
    "# Set index to dates\n",
    "plot_df = merged_df.set_index(\"date\")\n",
    "\n",
    "plot_df.new_cases.plot(title=\"Covid Cases (Daily)\",\n",
    "                       xlabel=\"Month\",\n",
    "                       ylabel=\"Cases\",\n",
    "                       legend=True);\n",
    "plot_df.new_deaths.plot(legend=True);\n",
    "\n",
    "monthly_groups.plot(kind=\"bar\");"
   ]
  }
 ],
 "metadata": {
  "kernelspec": {
   "display_name": "Python 3",
   "language": "python",
   "name": "python3"
  },
  "language_info": {
   "codemirror_mode": {
    "name": "ipython",
    "version": 3
   },
   "file_extension": ".py",
   "mimetype": "text/x-python",
   "name": "python",
   "nbconvert_exporter": "python",
   "pygments_lexer": "ipython3",
   "version": "3.8.8"
  }
 },
 "nbformat": 4,
 "nbformat_minor": 5
}
