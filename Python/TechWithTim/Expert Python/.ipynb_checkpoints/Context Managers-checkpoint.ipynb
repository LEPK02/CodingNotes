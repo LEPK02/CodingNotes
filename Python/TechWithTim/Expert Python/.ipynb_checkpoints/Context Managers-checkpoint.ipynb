{
 "cells": [
  {
   "cell_type": "code",
   "execution_count": 1,
   "id": "a4ad10b5",
   "metadata": {},
   "outputs": [],
   "source": [
    "with open(\"hello.txt\", \"w\") as f:\n",
    "    f.write(\"hello\")"
   ]
  },
  {
   "cell_type": "code",
   "execution_count": 4,
   "id": "37269aeb",
   "metadata": {},
   "outputs": [
    {
     "name": "stdout",
     "output_type": "stream",
     "text": [
      "<class 'NameError'>, name 'hello' is not defined, <traceback object at 0x000001E5385F27C0>\n"
     ]
    }
   ],
   "source": [
    "class File:\n",
    "    def __init__(self, file, method):\n",
    "        self.file = open(file, method)\n",
    "        \n",
    "    def __enter__(self):\n",
    "        return self.file\n",
    "    \n",
    "    def __exit__(self, type, value, traceback):\n",
    "        if value is not None:\n",
    "            print(f\"{type}, {value}, {traceback}\")\n",
    "            self.file.close()\n",
    "        \n",
    "        if type == NameError:\n",
    "            return True\n",
    "        \n",
    "        \n",
    "with File(\"hello.txt\", \"r\") as f:\n",
    "    f.read()\n",
    "    print(hello)"
   ]
  },
  {
   "cell_type": "code",
   "execution_count": 8,
   "id": "9f289e96",
   "metadata": {},
   "outputs": [
    {
     "name": "stdout",
     "output_type": "stream",
     "text": [
      "hello\n"
     ]
    }
   ],
   "source": [
    "import contextlib\n",
    "from contextlib import contextmanager\n",
    "\n",
    "@contextmanager\n",
    "def file(filename, method):\n",
    "    file = open(filename, method)\n",
    "    yield file\n",
    "    file.close()\n",
    "    \n",
    "with file(\"hello.txt\", \"r\") as f:\n",
    "    text = f.read()\n",
    "    print(text)"
   ]
  }
 ],
 "metadata": {
  "kernelspec": {
   "display_name": "Python 3",
   "language": "python",
   "name": "python3"
  },
  "language_info": {
   "codemirror_mode": {
    "name": "ipython",
    "version": 3
   },
   "file_extension": ".py",
   "mimetype": "text/x-python",
   "name": "python",
   "nbconvert_exporter": "python",
   "pygments_lexer": "ipython3",
   "version": "3.8.8"
  }
 },
 "nbformat": 4,
 "nbformat_minor": 5
}
