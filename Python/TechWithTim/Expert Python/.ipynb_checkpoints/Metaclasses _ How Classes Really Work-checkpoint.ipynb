{
 "cells": [
  {
   "cell_type": "markdown",
   "id": "0d11838a",
   "metadata": {},
   "source": [
    "<p>View video <a href=\"https://www.youtube.com/watch?v=NAQEj-c2CI8&list=PLzMcBGfZo4-kwmIcMDdXSuy_wSqtU-xDP&index=3&ab_channel=TechWithTim\">here</a>.</p>"
   ]
  },
  {
   "cell_type": "code",
   "execution_count": 14,
   "id": "c6c730d5",
   "metadata": {},
   "outputs": [
    {
     "name": "stdout",
     "output_type": "stream",
     "text": [
      "10\n",
      "<class '__main__.Foo'>\n",
      "<class 'type'>\n"
     ]
    }
   ],
   "source": [
    "# Creating a class\n",
    "Foo = type(\"Foo\", (), {\"x\":10})\n",
    "foo = Foo()\n",
    "\n",
    "print(foo.x)\n",
    "print(type(foo))\n",
    "print(type(Foo))"
   ]
  },
  {
   "cell_type": "code",
   "execution_count": 31,
   "id": "ae189903",
   "metadata": {},
   "outputs": [
    {
     "name": "stdout",
     "output_type": "stream",
     "text": [
      "<bound method value of <__main__.Foo object at 0x0000018572945C10>>\n",
      "69\n"
     ]
    }
   ],
   "source": [
    "# Inheritance\n",
    "\n",
    "class Bar:\n",
    "    def greetings(self):\n",
    "        print(\"Hello World!\")\n",
    "\n",
    "def value(self):\n",
    "        self.value = 69\n",
    "        return self.value\n",
    "\n",
    "Foo = type(\"Foo\", (Bar,), {\"x\":10, \"value\":value})\n",
    "foo = Foo()\n",
    "\n",
    "print(foo.value)\n",
    "print(foo.value())"
   ]
  },
  {
   "cell_type": "code",
   "execution_count": 34,
   "id": "020b560c",
   "metadata": {},
   "outputs": [
    {
     "name": "stdout",
     "output_type": "stream",
     "text": [
      "{'__module__': '__main__', '__qualname__': 'Dog', 'bark': 'Woof!', 'growl': 'Rrrr...'}\n",
      "{'__module__': '__main__', '__qualname__': 'Dog', 'BARK': 'Woof!', 'GROWL': 'Rrrr...'}\n",
      "Woof!\n"
     ]
    }
   ],
   "source": [
    "# Creating your own metaclass\n",
    "\n",
    "class Meta(type):\n",
    "    def __new__(self, class_name, bases, attrs):\n",
    "        print(attrs)\n",
    "        \n",
    "        a = {}\n",
    "        for name, val in attrs.items():\n",
    "            if name.startswith(\"__\"):\n",
    "                a[name] = val\n",
    "            else:\n",
    "                a[name.upper()] = val\n",
    "        print(a)\n",
    "        return type(class_name, bases, a)\n",
    "    \n",
    "class Dog(metaclass=Meta):\n",
    "    bark = \"Woof!\"\n",
    "    growl = \"Rrrr...\"\n",
    "    \n",
    "dog = Dog()\n",
    "print(dog.BARK)"
   ]
  }
 ],
 "metadata": {
  "kernelspec": {
   "display_name": "Python 3",
   "language": "python",
   "name": "python3"
  },
  "language_info": {
   "codemirror_mode": {
    "name": "ipython",
    "version": 3
   },
   "file_extension": ".py",
   "mimetype": "text/x-python",
   "name": "python",
   "nbconvert_exporter": "python",
   "pygments_lexer": "ipython3",
   "version": "3.8.8"
  }
 },
 "nbformat": 4,
 "nbformat_minor": 5
}
