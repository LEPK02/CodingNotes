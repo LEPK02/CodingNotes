{
 "cells": [
  {
   "cell_type": "markdown",
   "id": "31a224ce",
   "metadata": {},
   "source": [
    "<p>View video <a href = \"https://www.youtube.com/watch?v=tfCz563ebsU&list=PLzMcBGfZo4-kwmIcMDdXSuy_wSqtU-xDP&index=4&ab_channel=TechWithTim\">here</a>.</p>"
   ]
  },
  {
   "cell_type": "code",
   "execution_count": 17,
   "id": "4ac75cc6",
   "metadata": {},
   "outputs": [
    {
     "name": "stdout",
     "output_type": "stream",
     "text": [
      "<function func.<locals>.greetings at 0x0000010CA839E9D0>\n",
      "Hello ur mom!\n",
      "ur mom\n",
      "<function func.<locals>.greetings at 0x0000010CA839EC10>\n",
      "Hello ur mom!\n"
     ]
    }
   ],
   "source": [
    "def func(f):\n",
    "    def greetings():\n",
    "        print(f\"Hello {f()}!\")\n",
    "    \n",
    "    return greetings\n",
    "\n",
    "def func2():\n",
    "    return \"ur mom\"\n",
    "\n",
    "x = func(func2)\n",
    "print(x)\n",
    "x()\n",
    "\n",
    "print(func2())\n",
    "func2 = func(func2)\n",
    "print(func2)\n",
    "func2()"
   ]
  },
  {
   "cell_type": "code",
   "execution_count": 29,
   "id": "7226317b",
   "metadata": {},
   "outputs": [
    {
     "name": "stdout",
     "output_type": "stream",
     "text": [
      "ur mom!\n",
      "no u stupid!\n"
     ]
    },
    {
     "data": {
      "text/plain": [
       "'no u stupid!'"
      ]
     },
     "execution_count": 29,
     "metadata": {},
     "output_type": "execute_result"
    }
   ],
   "source": [
    "# Using decorators\n",
    "\n",
    "def func(f):\n",
    "    def greetings(*args, **kwargs):\n",
    "        print(f\"{f(*args, **kwargs)}!\")\n",
    "        i = f\"{f(*args, **kwargs)}!\"\n",
    "        return i\n",
    "    \n",
    "    return greetings\n",
    "\n",
    "@func\n",
    "def func2():\n",
    "    return \"ur mom\"\n",
    "\n",
    "@func\n",
    "def func3(insult):\n",
    "    return f\"no u {insult}\"\n",
    "\n",
    "func2()\n",
    "func3(\"stupid\")"
   ]
  },
  {
   "cell_type": "code",
   "execution_count": 30,
   "id": "9a04d6ec",
   "metadata": {},
   "outputs": [
    {
     "name": "stdout",
     "output_type": "stream",
     "text": [
      "Sleeping for 2 second(s)...\n",
      "Done sleeping for 2 seconds!\n"
     ]
    },
    {
     "data": {
      "text/plain": [
       "1.02"
      ]
     },
     "execution_count": 30,
     "metadata": {},
     "output_type": "execute_result"
    }
   ],
   "source": [
    "import time\n",
    "\n",
    "def timer(sleep):\n",
    "    def foo(*args, **kwargs):\n",
    "        start = time.perf_counter()\n",
    "        sleep(*args, **kwargs)\n",
    "        finish = time.perf_counter()\n",
    "        return round(finish - start, 2)\n",
    "    return foo\n",
    "\n",
    "@timer\n",
    "def sleep(seconds):\n",
    "    print(f\"Sleeping for {seconds} second(s)...\")\n",
    "    time.sleep(1)\n",
    "    print(f\"Done sleeping for {seconds} seconds!\")\n",
    "\n",
    "sleep(2)"
   ]
  }
 ],
 "metadata": {
  "kernelspec": {
   "display_name": "Python 3",
   "language": "python",
   "name": "python3"
  },
  "language_info": {
   "codemirror_mode": {
    "name": "ipython",
    "version": 3
   },
   "file_extension": ".py",
   "mimetype": "text/x-python",
   "name": "python",
   "nbconvert_exporter": "python",
   "pygments_lexer": "ipython3",
   "version": "3.8.8"
  }
 },
 "nbformat": 4,
 "nbformat_minor": 5
}
