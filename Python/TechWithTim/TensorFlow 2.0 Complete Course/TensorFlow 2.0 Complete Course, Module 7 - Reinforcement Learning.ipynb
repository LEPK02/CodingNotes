{
 "cells": [
  {
   "cell_type": "markdown",
   "id": "1f01c02a",
   "metadata": {},
   "source": [
    "<p>Notes found <a href=\"https://colab.research.google.com/drive/1IlrlS3bB8t1Gd5Pogol4MIwUxlAjhWOQ#forceEdit=true&sandboxMode=true\">here</a></p>\n",
    "<p>Video found <a href=\"https://www.youtube.com/watch?v=tPYj3fFJGjk&list=WL&index=5&t=11941s&ab_channel=freeCodeCamp.org\">here</a></p>"
   ]
  },
  {
   "cell_type": "code",
   "execution_count": 42,
   "id": "6f1b0f96",
   "metadata": {},
   "outputs": [],
   "source": [
    "import gym\n",
    "import numpy as np\n",
    "import time"
   ]
  },
  {
   "cell_type": "markdown",
   "id": "88498018",
   "metadata": {},
   "source": [
    "<h1>Q Learning</h1>"
   ]
  },
  {
   "cell_type": "markdown",
   "id": "90e988f7",
   "metadata": {},
   "source": [
    "<h2>Frozen Lake v1</h2>"
   ]
  },
  {
   "cell_type": "markdown",
   "id": "b1685d0b",
   "metadata": {},
   "source": [
    "<p>Frozen Lake Environment</p>"
   ]
  },
  {
   "cell_type": "code",
   "execution_count": 3,
   "id": "b5dd84b8",
   "metadata": {},
   "outputs": [],
   "source": [
    "# Load environment\n",
    "env = gym.make('FrozenLake-v1')  # we are going to use the FrozenLake enviornment"
   ]
  },
  {
   "cell_type": "code",
   "execution_count": 4,
   "id": "766ee459",
   "metadata": {},
   "outputs": [
    {
     "name": "stdout",
     "output_type": "stream",
     "text": [
      "16\n",
      "4\n"
     ]
    }
   ],
   "source": [
    "print(env.observation_space.n)   # get number of states\n",
    "print(env.action_space.n)   # get number of actions"
   ]
  },
  {
   "cell_type": "code",
   "execution_count": 32,
   "id": "4fbeb207",
   "metadata": {},
   "outputs": [
    {
     "data": {
      "text/plain": [
       "0"
      ]
     },
     "execution_count": 32,
     "metadata": {},
     "output_type": "execute_result"
    }
   ],
   "source": [
    "env.reset()  # reset enviornment to default state"
   ]
  },
  {
   "cell_type": "code",
   "execution_count": 39,
   "id": "5597a609",
   "metadata": {},
   "outputs": [],
   "source": [
    "action = env.action_space.sample()  # get a random action\n",
    "new_state, reward, done, info = env.step(action)  # take action, notice it returns information about the action"
   ]
  },
  {
   "cell_type": "code",
   "execution_count": 40,
   "id": "77aac79c",
   "metadata": {
    "scrolled": true
   },
   "outputs": [
    {
     "name": "stdout",
     "output_type": "stream",
     "text": [
      "  (Right)\n",
      "SFFF\n",
      "FHFH\n",
      "\u001b[41mF\u001b[0mFFH\n",
      "HFFG\n"
     ]
    }
   ],
   "source": [
    "env.render()   # render the GUI for the enviornment"
   ]
  },
  {
   "cell_type": "markdown",
   "id": "d88c9bba",
   "metadata": {},
   "source": [
    "<p>Building the Q Table</p>"
   ]
  },
  {
   "cell_type": "code",
   "execution_count": 43,
   "id": "a74ab812",
   "metadata": {},
   "outputs": [],
   "source": [
    "env = gym.make('FrozenLake-v1')\n",
    "STATES = env.observation_space.n\n",
    "ACTIONS = env.action_space.n"
   ]
  },
  {
   "cell_type": "code",
   "execution_count": 45,
   "id": "cbc8ac6f",
   "metadata": {},
   "outputs": [
    {
     "data": {
      "text/plain": [
       "(16, 4)"
      ]
     },
     "execution_count": 45,
     "metadata": {},
     "output_type": "execute_result"
    }
   ],
   "source": [
    "# Initialise blank matrix\n",
    "Q = np.zeros((STATES, ACTIONS))  # create a matrix with all 0 values \n",
    "Q.shape"
   ]
  },
  {
   "cell_type": "code",
   "execution_count": 50,
   "id": "565bf36d",
   "metadata": {},
   "outputs": [],
   "source": [
    "# Constants\n",
    "EPISODES = 1500 # how many times to run the enviornment from the beginning\n",
    "MAX_STEPS = 100  # max number of steps allowed for each run of enviornment\n",
    "\n",
    "LEARNING_RATE = 0.81  # learning rate\n",
    "GAMMA = 0.96  # Discount rate\n",
    "\n",
    "RENDER = False # if you want to see training set to true"
   ]
  },
  {
   "cell_type": "markdown",
   "id": "6692978c",
   "metadata": {},
   "source": [
    "<p>Picking an Action</p>"
   ]
  },
  {
   "cell_type": "code",
   "execution_count": 47,
   "id": "4ca41d73",
   "metadata": {},
   "outputs": [],
   "source": [
    "epsilon = 0.9  # start with a 90% chance of picking a random action\n",
    "\n",
    "# code to pick action\n",
    "if np.random.uniform(0, 1) < epsilon:  # we will check if a randomly selected value is less than epsilon.\n",
    "    action = env.action_space.sample()  # take random action\n",
    "else:\n",
    "    action = np.argmax(Q[state, :])  # use Q table to pick best action based on current values"
   ]
  },
  {
   "cell_type": "markdown",
   "id": "15f57c62",
   "metadata": {},
   "source": [
    "<p>Overall</p>"
   ]
  },
  {
   "cell_type": "code",
   "execution_count": 53,
   "id": "1b68c462",
   "metadata": {},
   "outputs": [
    {
     "name": "stdout",
     "output_type": "stream",
     "text": [
      "[[1.15445751e-01 2.53349914e-02 2.65940634e-02 2.67007920e-02]\n",
      " [2.25142837e-03 9.20306226e-03 1.61950271e-03 1.69239323e-01]\n",
      " [4.35489675e-03 1.02671607e-02 1.05046389e-02 1.74300909e-01]\n",
      " [3.49341171e-03 9.61942029e-03 2.97264550e-03 1.23772345e-01]\n",
      " [1.20193517e-01 1.08709089e-02 1.61341250e-02 8.06535773e-03]\n",
      " [0.00000000e+00 0.00000000e+00 0.00000000e+00 0.00000000e+00]\n",
      " [3.39630596e-02 1.84255117e-05 2.90188323e-05 9.49762201e-06]\n",
      " [0.00000000e+00 0.00000000e+00 0.00000000e+00 0.00000000e+00]\n",
      " [2.54336229e-03 9.84259964e-03 1.53016774e-02 2.09310162e-01]\n",
      " [1.02639651e-02 1.81965867e-01 3.48346703e-04 6.48492117e-03]\n",
      " [6.99291300e-01 1.12655421e-03 9.99834804e-04 7.91670139e-04]\n",
      " [0.00000000e+00 0.00000000e+00 0.00000000e+00 0.00000000e+00]\n",
      " [0.00000000e+00 0.00000000e+00 0.00000000e+00 0.00000000e+00]\n",
      " [3.96710077e-03 5.34830038e-03 5.27228814e-01 7.17884596e-02]\n",
      " [1.74492081e-01 9.72710338e-01 1.17087616e-01 1.75056279e-01]\n",
      " [0.00000000e+00 0.00000000e+00 0.00000000e+00 0.00000000e+00]]\n",
      "Average reward: 0.7073333333333334\n"
     ]
    }
   ],
   "source": [
    "rewards = [] # For plotting rewards later to measure performance\n",
    "\n",
    "for episode in range(EPISODES):\n",
    "\n",
    "    state = env.reset()  # Reset environment\n",
    "    for _ in range(MAX_STEPS):\n",
    "    \n",
    "        if RENDER:\n",
    "            env.render()\n",
    "\n",
    "        if np.random.uniform(0, 1) < epsilon:\n",
    "            action = env.action_space.sample()  \n",
    "        else:\n",
    "            action = np.argmax(Q[state, :])\n",
    "\n",
    "        next_state, reward, done, _ = env.step(action)\n",
    "\n",
    "        Q[state, action] = Q[state, action] + LEARNING_RATE * (reward + GAMMA * np.max(Q[next_state, :]) - Q[state, action])  # Update Q value\n",
    "\n",
    "        state = next_state\n",
    "\n",
    "        if done: \n",
    "            rewards.append(reward)\n",
    "            epsilon -= 0.001\n",
    "            break  # reached goal\n",
    "\n",
    "print(Q)\n",
    "print(f\"Average reward: {sum(rewards)/len(rewards)}\")\n",
    "# and now we can see our Q values!"
   ]
  },
  {
   "cell_type": "code",
   "execution_count": 54,
   "id": "a8c2c653",
   "metadata": {},
   "outputs": [
    {
     "data": {
      "image/png": "[encoded data removed]",
      "text/plain": [
       "<Figure size 432x288 with 1 Axes>"
      ]
     },
     "metadata": {
      "needs_background": "light"
     },
     "output_type": "display_data"
    }
   ],
   "source": [
    "# we can plot the training progress and see how the agent improved\n",
    "import matplotlib.pyplot as plt\n",
    "\n",
    "def get_average(values):\n",
    "    return sum(values)/len(values)\n",
    "\n",
    "avg_rewards = []\n",
    "for i in range(0, len(rewards), 100):\n",
    "    avg_rewards.append(get_average(rewards[i:i+100])) \n",
    "\n",
    "plt.plot(avg_rewards)\n",
    "plt.ylabel('average reward')\n",
    "plt.xlabel('episodes (100\\'s)')\n",
    "plt.show()"
   ]
  }
 ],
 "metadata": {
  "kernelspec": {
   "display_name": "Python 3",
   "language": "python",
   "name": "python3"
  },
  "language_info": {
   "codemirror_mode": {
    "name": "ipython",
    "version": 3
   },
   "file_extension": ".py",
   "mimetype": "text/x-python",
   "name": "python",
   "nbconvert_exporter": "python",
   "pygments_lexer": "ipython3",
   "version": "3.8.8"
  }
 },
 "nbformat": 4,
 "nbformat_minor": 5
}
