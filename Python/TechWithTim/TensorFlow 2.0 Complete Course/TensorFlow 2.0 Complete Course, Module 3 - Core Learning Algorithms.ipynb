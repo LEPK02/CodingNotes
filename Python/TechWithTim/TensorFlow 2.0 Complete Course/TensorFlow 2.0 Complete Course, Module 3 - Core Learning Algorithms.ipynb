{
 "cells": [
  {
   "cell_type": "code",
   "execution_count": 1,
   "id": "de528dde",
   "metadata": {},
   "outputs": [],
   "source": [
    "from __future__ import absolute_import, division, print_function, unicode_literals\n",
    "\n",
    "import numpy as np\n",
    "import pandas as pd\n",
    "import matplotlib.pyplot as plt\n",
    "from IPython.display import clear_output\n",
    "from six.moves import urllib\n",
    "\n",
    "import tensorflow.compat.v2.feature_column as fc\n",
    "\n",
    "import tensorflow as tf"
   ]
  },
  {
   "cell_type": "code",
   "execution_count": 2,
   "id": "0d5d163f",
   "metadata": {},
   "outputs": [],
   "source": [
    "from urllib.request import urlretrieve\n",
    "\n",
    "# Load datasets\n",
    "urlretrieve(\"https://storage.googleapis.com/tf-datasets/titanic/train.csv\", \"training_data.csv\")\n",
    "urlretrieve(\"https://storage.googleapis.com/tf-datasets/titanic/eval.csv\", \"testing_data.csv\")\n",
    "\n",
    "dftrain = pd.read_csv(\"training_data.csv\")\n",
    "dfeval = pd.read_csv(\"testing_data.csv\")"
   ]
  },
  {
   "cell_type": "markdown",
   "id": "5d42b55d",
   "metadata": {},
   "source": [
    "<h1>Tensors</h1>"
   ]
  },
  {
   "cell_type": "code",
   "execution_count": 3,
   "id": "fd7d35a1",
   "metadata": {},
   "outputs": [
    {
     "data": {
      "text/plain": [
       "tf.float32"
      ]
     },
     "execution_count": 3,
     "metadata": {},
     "output_type": "execute_result"
    }
   ],
   "source": [
    "\"\"\"Creating Tensors (data, datatype)\"\"\"\n",
    "string = tf.Variable(\"this is a string\", tf.string)\n",
    "number = tf.Variable(69, tf.int16)\n",
    "float = tf.Variable(12.69, tf.float64)\n",
    "\n",
    "float.dtype"
   ]
  },
  {
   "cell_type": "code",
   "execution_count": 4,
   "id": "fb7df01a",
   "metadata": {},
   "outputs": [
    {
     "name": "stdout",
     "output_type": "stream",
     "text": [
      "tf.Tensor(0, shape=(), dtype=int32)\n",
      "tf.Tensor(1, shape=(), dtype=int32)\n",
      "tf.Tensor(2, shape=(), dtype=int32)\n"
     ]
    }
   ],
   "source": [
    "\"\"\"Rank\"\"\"\n",
    "rank0_tensor = tf.Variable(\"Tim\", tf.string)\n",
    "rank1_tensor = tf.Variable([\"Tim\", \"Tom\", \"Tam\"], tf.string)\n",
    "rank2_tensor = tf.Variable([[\"Tim\", \"Tom\", \"Tam\"], [\"Jim\", \"Joe\", \"Jimmy\"]], tf.string)\n",
    "\n",
    "print(tf.rank(rank0_tensor), tf.rank(rank1_tensor), tf.rank(rank2_tensor), sep=\"\\n\")"
   ]
  },
  {
   "cell_type": "code",
   "execution_count": 5,
   "id": "df353556",
   "metadata": {},
   "outputs": [
    {
     "name": "stdout",
     "output_type": "stream",
     "text": [
      "tf.Tensor(\n",
      "[[[1. 1. 1.]\n",
      "  [1. 1. 1.]]], shape=(1, 2, 3), dtype=float32)\n",
      "\n",
      "tf.Tensor(\n",
      "[[[1.]\n",
      "  [1.]\n",
      "  [1.]]\n",
      "\n",
      " [[1.]\n",
      "  [1.]\n",
      "  [1.]]], shape=(2, 3, 1), dtype=float32)\n",
      "\n",
      "tf.Tensor(\n",
      "[[1. 1.]\n",
      " [1. 1.]\n",
      " [1. 1.]], shape=(3, 2), dtype=float32)\n"
     ]
    }
   ],
   "source": [
    "\"\"\"Shape\"\"\"\n",
    "# print(rank0_tensor.shape, rank1_tensor.shape, rank2_tensor.shape, sep=\"\\n\")\n",
    "\n",
    "\"\"\"\n",
    "Changing Shapes\n",
    "Note: number of elements in a shape is the product of the sizes of all its shapes\n",
    "\"\"\"\n",
    "# Creates a shape [1,2,3] tensor full of ones\n",
    "tensor1 = tf.ones([1,2,3])\n",
    "\n",
    "# Reshapes tensor1 to shape [2,3,1]\n",
    "tensor2 = tf.reshape(tensor1, [2,3,1])\n",
    "\n",
    "# -1 automatically completes the tensor\n",
    "tensor3 = tf.reshape(tensor2, [3, -1])\n",
    "\n",
    "print(tensor1, tensor2, tensor3, sep=\"\\n\\n\")"
   ]
  },
  {
   "cell_type": "code",
   "execution_count": 6,
   "id": "56ed69ca",
   "metadata": {},
   "outputs": [
    {
     "data": {
      "text/plain": [
       "'\\nTypes of Tensors\\n\\nVariable, Constant, Placeholder, SparseTensor\\n\\nMutability: only variable is mutable\\n'"
      ]
     },
     "execution_count": 6,
     "metadata": {},
     "output_type": "execute_result"
    }
   ],
   "source": [
    "\"\"\"\n",
    "Types of Tensors\n",
    "\n",
    "Variable, Constant, Placeholder, SparseTensor\n",
    "\n",
    "Mutability: only variable is mutable\n",
    "\"\"\""
   ]
  },
  {
   "cell_type": "markdown",
   "id": "dd85403b",
   "metadata": {},
   "source": [
    "<h1>Linear Regression</h1>\n",
    "<p>Predicts numeric values</p>"
   ]
  },
  {
   "cell_type": "markdown",
   "id": "6d5d1586",
   "metadata": {},
   "source": [
    "<p>Data Visualisation</p>"
   ]
  },
  {
   "cell_type": "code",
   "execution_count": 7,
   "id": "443eb98c",
   "metadata": {},
   "outputs": [
    {
     "data": {
      "image/png": "[encoded data removed]",
      "text/plain": [
       "<Figure size 432x288 with 4 Axes>"
      ]
     },
     "metadata": {
      "needs_background": "light"
     },
     "output_type": "display_data"
    }
   ],
   "source": [
    "# Saves \"survived\" column to variables\n",
    "y_train = dftrain[\"survived\"]\n",
    "y_eval = dfeval[\"survived\"]\n",
    "\n",
    "fig, ax = plt.subplots(2,2)\n",
    "fig.tight_layout(pad=1.5)\n",
    "ax[0,0].hist(dftrain.age, bins=20);\n",
    "ax[0,0].set_title(\"Age Distribution\");\n",
    "ax[0,1].bar(x=dftrain.sex.unique(), height=dftrain.sex.value_counts());\n",
    "ax[0,1].set_title(\"Gender Distribution\");\n",
    "ax[1,0].bar(x=dftrain[\"class\"].unique(), height=dftrain[\"class\"].value_counts());\n",
    "ax[1,0].set_title(\"Ferry Class Distribution\");\n",
    "ax[1,1].bar(x=dftrain.sex.unique(), height=dftrain.groupby(\"sex\").survived.mean()*100);\n",
    "ax[1,1].set_title(\"Survival Rate by Gender\");"
   ]
  },
  {
   "cell_type": "markdown",
   "id": "8ae116ba",
   "metadata": {},
   "source": [
    "<p>Feature Columns</p>"
   ]
  },
  {
   "cell_type": "code",
   "execution_count": 8,
   "id": "e6561c36",
   "metadata": {},
   "outputs": [],
   "source": [
    "# Continuous (categorical) vs discrete (numeric) columns\n",
    "CATEGORICAL_COLUMNS = ['sex', 'n_siblings_spouses', 'parch', 'class', 'deck',\n",
    "                       'embark_town', 'alone']\n",
    "NUMERIC_COLUMNS = ['age', 'fare']\n",
    "feature_columns = []\n",
    "\n",
    "for feature_name in CATEGORICAL_COLUMNS:\n",
    "#     For each column, find unique values\n",
    "    vocabulary = dftrain[feature_name].unique()\n",
    "#     Returns a CategoricalColumn with in-memory vocabulary i.e. assigns ID to each unique value in the feature column\n",
    "    feature_columns.append(tf.feature_column.categorical_column_with_vocabulary_list(feature_name, vocabulary))\n",
    "\n",
    "for feature_name in NUMERIC_COLUMNS:\n",
    "#     Converts Numeric data in dataframe to NumericColumn\n",
    "    feature_columns.append(tf.feature_column.numeric_column(feature_name, dtype=tf.float32))"
   ]
  },
  {
   "cell_type": "markdown",
   "id": "6abe1cab",
   "metadata": {},
   "source": [
    "<p>Input Function</p>"
   ]
  },
  {
   "cell_type": "code",
   "execution_count": 9,
   "id": "50e705c2",
   "metadata": {},
   "outputs": [],
   "source": [
    "def make_input_fn(data_df, label_df, num_epochs=10, shuffle=True, batch_size=32):\n",
    "    def input_function():  # inner function, this will be returned\n",
    "        ds = tf.data.Dataset.from_tensor_slices((dict(data_df), label_df))  # create tf.data.Dataset object with data and its label\n",
    "        if shuffle:\n",
    "            ds = ds.shuffle(1000)  # randomize order of data\n",
    "        ds = ds.batch(batch_size).repeat(num_epochs)  # split dataset into batches of 32 and repeat process for number of epochs\n",
    "        return ds  # return a batch of the dataset\n",
    "    return input_function  # return a function object for use\n",
    "\n",
    "train_input_fn = make_input_fn(dftrain, y_train)  # here we will call the input_function that was returned to us to get a dataset object we can feed to the model\n",
    "eval_input_fn = make_input_fn(dfeval, y_eval, num_epochs=1, shuffle=False)  # 1 epoch and no shuffle as it is being evaluated"
   ]
  },
  {
   "cell_type": "markdown",
   "id": "3fc46626",
   "metadata": {},
   "source": [
    "<p>Creating the Model</p>"
   ]
  },
  {
   "cell_type": "code",
   "execution_count": 10,
   "id": "eca5f03f",
   "metadata": {},
   "outputs": [
    {
     "name": "stdout",
     "output_type": "stream",
     "text": [
      "INFO:tensorflow:Using default config.\n",
      "WARNING:tensorflow:Using temporary folder as model directory: C:\\Users\\Janice\\AppData\\Local\\Temp\\tmpi4htiads\n",
      "INFO:tensorflow:Using config: {'_model_dir': 'C:\\\\Users\\\\Janice\\\\AppData\\\\Local\\\\Temp\\\\tmpi4htiads', '_tf_random_seed': None, '_save_summary_steps': 100, '_save_checkpoints_steps': None, '_save_checkpoints_secs': 600, '_session_config': allow_soft_placement: true\n",
      "graph_options {\n",
      "  rewrite_options {\n",
      "    meta_optimizer_iterations: ONE\n",
      "  }\n",
      "}\n",
      ", '_keep_checkpoint_max': 5, '_keep_checkpoint_every_n_hours': 10000, '_log_step_count_steps': 100, '_train_distribute': None, '_device_fn': None, '_protocol': None, '_eval_distribute': None, '_experimental_distribute': None, '_experimental_max_worker_delay_secs': None, '_session_creation_timeout_secs': 7200, '_checkpoint_save_graph_def': True, '_service': None, '_cluster_spec': ClusterSpec({}), '_task_type': 'worker', '_task_id': 0, '_global_id_in_cluster': 0, '_master': '', '_evaluation_master': '', '_is_chief': True, '_num_ps_replicas': 0, '_num_worker_replicas': 1}\n"
     ]
    }
   ],
   "source": [
    "# Takes feature column created earlier, outputs a linear estimator\n",
    "linear_est = tf.estimator.LinearClassifier(feature_columns=feature_columns)"
   ]
  },
  {
   "cell_type": "markdown",
   "id": "495a9a27",
   "metadata": {},
   "source": [
    "<p>Training the Model</p>"
   ]
  },
  {
   "cell_type": "code",
   "execution_count": 11,
   "id": "d44fb588",
   "metadata": {},
   "outputs": [
    {
     "name": "stdout",
     "output_type": "stream",
     "text": [
      "0.7386364\n"
     ]
    }
   ],
   "source": [
    "# Takes our training input function and uses it to train the model\n",
    "linear_est.train(train_input_fn)\n",
    "\n",
    "# Takes our input function for evaluation and stores the result in a variable\n",
    "result = linear_est.evaluate(eval_input_fn)\n",
    "\n",
    "# Clear console output generated from the training model\n",
    "clear_output()\n",
    "\n",
    "# The result variable is simply a dict of stats about our model\n",
    "print(result['accuracy'])\n",
    "# print(result)"
   ]
  },
  {
   "cell_type": "markdown",
   "id": "aec2855c",
   "metadata": {},
   "source": [
    "<p>Training the Model</p>"
   ]
  },
  {
   "cell_type": "code",
   "execution_count": 12,
   "id": "ac196122",
   "metadata": {},
   "outputs": [
    {
     "name": "stdout",
     "output_type": "stream",
     "text": [
      "INFO:tensorflow:Calling model_fn.\n",
      "INFO:tensorflow:Done calling model_fn.\n",
      "INFO:tensorflow:Graph was finalized.\n",
      "INFO:tensorflow:Restoring parameters from C:\\Users\\Janice\\AppData\\Local\\Temp\\tmpi4htiads\\model.ckpt-200\n",
      "INFO:tensorflow:Running local_init_op.\n",
      "INFO:tensorflow:Done running local_init_op.\n",
      "\n",
      "Information of person 100:\n",
      "survived                        0\n",
      "sex                          male\n",
      "age                          30.0\n",
      "n_siblings_spouses              0\n",
      "parch                           0\n",
      "fare                         7.25\n",
      "class                       Third\n",
      "deck                      unknown\n",
      "embark_town           Southampton\n",
      "alone                           y\n",
      "Name: 100, dtype: object\n",
      "\n",
      "Survived? (y=1, n=0)\n",
      "--> 0\n",
      "\n",
      "Predicted chance of survival:\n",
      "0.09158113598823547\n",
      "\n",
      "\n"
     ]
    }
   ],
   "source": [
    "# Creates a list of dictionaries that store a prediction for each entry in the evaluation data set\n",
    "pred_dicts = list(linear_est.predict(eval_input_fn))\n",
    "\n",
    "person_num = 100\n",
    "print(f\"\"\"\n",
    "Information of person {person_num}:\n",
    "{dfeval.loc[person_num]}\n",
    "\n",
    "Survived? (y=1, n=0)\n",
    "--> {y_eval.loc[person_num]}\n",
    "\n",
    "Predicted chance of survival:\n",
    "{pred_dicts[person_num][\"probabilities\"][1]}\n",
    "\"\"\")\n",
    "print()"
   ]
  },
  {
   "cell_type": "code",
   "execution_count": 13,
   "id": "b69ce3c7",
   "metadata": {},
   "outputs": [
    {
     "data": {
      "image/png": "[encoded data removed]",
      "text/plain": [
       "<Figure size 432x288 with 1 Axes>"
      ]
     },
     "metadata": {
      "needs_background": "light"
     },
     "output_type": "display_data"
    }
   ],
   "source": [
    "# Creates Series of each person's probability of surviving\n",
    "probs = pd.Series([pred['probabilities'][1] for pred in pred_dicts])\n",
    "\n",
    "# Plots histogram\n",
    "plt.hist(x=probs, bins=20);\n",
    "plt.title(\"Distribution of Survival Probabilities\");"
   ]
  },
  {
   "cell_type": "markdown",
   "id": "3c766f29",
   "metadata": {},
   "source": [
    "<h1>Classification</h1>\n",
    "<p>Groups data points based on predefined classes</p>"
   ]
  },
  {
   "cell_type": "markdown",
   "id": "71bd21b7",
   "metadata": {},
   "source": [
    "<p>Setting Up Dataframe</p>"
   ]
  },
  {
   "cell_type": "code",
   "execution_count": 14,
   "id": "e58ab8d8",
   "metadata": {},
   "outputs": [],
   "source": [
    "# Useful constants\n",
    "CSV_COLUMN_NAMES = ['SepalLength', 'SepalWidth', 'PetalLength', 'PetalWidth', 'Species']\n",
    "SPECIES = ['Setosa', 'Versicolor', 'Virginica']\n",
    "\n",
    "# Download iris dataset\n",
    "urlretrieve(\"https://storage.googleapis.com/download.tensorflow.org/data/iris_training.csv\", \"iris_training.csv\")\n",
    "urlretrieve(\"https://storage.googleapis.com/download.tensorflow.org/data/iris_test.csv\", \"iris_test.csv\")\n",
    "\n",
    "# Read dataset into a pandas dataframe\n",
    "train = pd.read_csv(\"iris_training.csv\", names=CSV_COLUMN_NAMES, header=0)\n",
    "test = pd.read_csv(\"iris_test.csv\", names=CSV_COLUMN_NAMES, header=0)\n",
    "\n",
    "train_y = train.pop(\"Species\")\n",
    "test_y = test.pop(\"Species\")"
   ]
  },
  {
   "cell_type": "markdown",
   "id": "9424c523",
   "metadata": {},
   "source": [
    "<p>Input Function</p>"
   ]
  },
  {
   "cell_type": "code",
   "execution_count": 15,
   "id": "a1f39409",
   "metadata": {},
   "outputs": [],
   "source": [
    "def input_fn(features, labels, training=True, batch_size=256):\n",
    "    # Convert the inputs to a Dataset\n",
    "    dataset = tf.data.Dataset.from_tensor_slices((dict(features), labels))\n",
    "\n",
    "    # Shuffle and repeat if you are in training mode\n",
    "    if training:\n",
    "        dataset = dataset.shuffle(1000).repeat()\n",
    "    \n",
    "    return dataset.batch(batch_size)"
   ]
  },
  {
   "cell_type": "markdown",
   "id": "c963f11d",
   "metadata": {},
   "source": [
    "<p>Feature Columns</p>"
   ]
  },
  {
   "cell_type": "code",
   "execution_count": 16,
   "id": "c4ee0123",
   "metadata": {},
   "outputs": [
    {
     "name": "stdout",
     "output_type": "stream",
     "text": [
      "[NumericColumn(key='SepalLength', shape=(1,), default_value=None, dtype=tf.float32, normalizer_fn=None), NumericColumn(key='SepalWidth', shape=(1,), default_value=None, dtype=tf.float32, normalizer_fn=None), NumericColumn(key='PetalLength', shape=(1,), default_value=None, dtype=tf.float32, normalizer_fn=None), NumericColumn(key='PetalWidth', shape=(1,), default_value=None, dtype=tf.float32, normalizer_fn=None)]\n"
     ]
    }
   ],
   "source": [
    "my_feature_columns = []\n",
    "\n",
    "# Creates list of NumericColumns with each key being the column headers\n",
    "for key in train.keys():\n",
    "    my_feature_columns.append(tf.feature_column.numeric_column(key=key))\n",
    "\n",
    "print(my_feature_columns)"
   ]
  },
  {
   "cell_type": "markdown",
   "id": "b0d07dd0",
   "metadata": {},
   "source": [
    "<p>Creating the Model (Deep Neural Network)</p>"
   ]
  },
  {
   "cell_type": "code",
   "execution_count": 17,
   "id": "f452ae2a",
   "metadata": {},
   "outputs": [
    {
     "name": "stdout",
     "output_type": "stream",
     "text": [
      "INFO:tensorflow:Using default config.\n",
      "WARNING:tensorflow:Using temporary folder as model directory: C:\\Users\\Janice\\AppData\\Local\\Temp\\tmpe9o31qsa\n",
      "INFO:tensorflow:Using config: {'_model_dir': 'C:\\\\Users\\\\Janice\\\\AppData\\\\Local\\\\Temp\\\\tmpe9o31qsa', '_tf_random_seed': None, '_save_summary_steps': 100, '_save_checkpoints_steps': None, '_save_checkpoints_secs': 600, '_session_config': allow_soft_placement: true\n",
      "graph_options {\n",
      "  rewrite_options {\n",
      "    meta_optimizer_iterations: ONE\n",
      "  }\n",
      "}\n",
      ", '_keep_checkpoint_max': 5, '_keep_checkpoint_every_n_hours': 10000, '_log_step_count_steps': 100, '_train_distribute': None, '_device_fn': None, '_protocol': None, '_eval_distribute': None, '_experimental_distribute': None, '_experimental_max_worker_delay_secs': None, '_session_creation_timeout_secs': 7200, '_checkpoint_save_graph_def': True, '_service': None, '_cluster_spec': ClusterSpec({}), '_task_type': 'worker', '_task_id': 0, '_global_id_in_cluster': 0, '_master': '', '_evaluation_master': '', '_is_chief': True, '_num_ps_replicas': 0, '_num_worker_replicas': 1}\n"
     ]
    }
   ],
   "source": [
    "# Build a DNN with 2 hidden layers with 30 and 10 hidden nodes each\n",
    "classifier = tf.estimator.DNNClassifier(feature_columns=my_feature_columns,\n",
    "                                        hidden_units=[30, 10],  # Two hidden layers of 30 and 10 nodes respectively\n",
    "                                        n_classes=3)  # The model must choose between 3 classes (i.e. 3 species)"
   ]
  },
  {
   "cell_type": "markdown",
   "id": "6b9e23c9",
   "metadata": {},
   "source": [
    "<p>Training the Model</p>"
   ]
  },
  {
   "cell_type": "code",
   "execution_count": 18,
   "id": "54f840b4",
   "metadata": {},
   "outputs": [
    {
     "name": "stdout",
     "output_type": "stream",
     "text": [
      "INFO:tensorflow:Calling model_fn.\n",
      "INFO:tensorflow:Done calling model_fn.\n",
      "INFO:tensorflow:Create CheckpointSaverHook.\n",
      "INFO:tensorflow:Graph was finalized.\n",
      "INFO:tensorflow:Running local_init_op.\n",
      "INFO:tensorflow:Done running local_init_op.\n",
      "INFO:tensorflow:Calling checkpoint listeners before saving checkpoint 0...\n",
      "INFO:tensorflow:Saving checkpoints for 0 into C:\\Users\\Janice\\AppData\\Local\\Temp\\tmpe9o31qsa\\model.ckpt.\n",
      "INFO:tensorflow:Calling checkpoint listeners after saving checkpoint 0...\n",
      "INFO:tensorflow:loss = 1.2510495, step = 0\n",
      "INFO:tensorflow:global_step/sec: 325.938\n",
      "INFO:tensorflow:loss = 0.9582664, step = 100 (0.308 sec)\n",
      "INFO:tensorflow:global_step/sec: 405.24\n",
      "INFO:tensorflow:loss = 0.8717824, step = 200 (0.248 sec)\n",
      "INFO:tensorflow:global_step/sec: 393.098\n",
      "INFO:tensorflow:loss = 0.8079628, step = 300 (0.255 sec)\n",
      "INFO:tensorflow:global_step/sec: 421.913\n",
      "INFO:tensorflow:loss = 0.7601552, step = 400 (0.236 sec)\n",
      "INFO:tensorflow:global_step/sec: 424.896\n",
      "INFO:tensorflow:loss = 0.70955443, step = 500 (0.236 sec)\n",
      "INFO:tensorflow:global_step/sec: 417.388\n",
      "INFO:tensorflow:loss = 0.67954516, step = 600 (0.239 sec)\n",
      "INFO:tensorflow:global_step/sec: 358.853\n",
      "INFO:tensorflow:loss = 0.6709764, step = 700 (0.280 sec)\n",
      "INFO:tensorflow:global_step/sec: 311.704\n",
      "INFO:tensorflow:loss = 0.6247648, step = 800 (0.319 sec)\n",
      "INFO:tensorflow:global_step/sec: 371.962\n",
      "INFO:tensorflow:loss = 0.60377216, step = 900 (0.270 sec)\n",
      "INFO:tensorflow:Calling checkpoint listeners before saving checkpoint 1000...\n",
      "INFO:tensorflow:Saving checkpoints for 1000 into C:\\Users\\Janice\\AppData\\Local\\Temp\\tmpe9o31qsa\\model.ckpt.\n",
      "INFO:tensorflow:Calling checkpoint listeners after saving checkpoint 1000...\n",
      "INFO:tensorflow:Loss for final step: 0.5876341.\n"
     ]
    },
    {
     "data": {
      "text/plain": [
       "<tensorflow_estimator.python.estimator.canned.dnn.DNNClassifierV2 at 0x2a04e9521f0>"
      ]
     },
     "execution_count": 18,
     "metadata": {},
     "output_type": "execute_result"
    }
   ],
   "source": [
    "classifier.train(input_fn=lambda: input_fn(train, train_y, training=True),  # Lambda function used here, as a function object is required and we did not create an inner function previously\n",
    "                 steps=1000)"
   ]
  },
  {
   "cell_type": "markdown",
   "id": "914e77eb",
   "metadata": {},
   "source": [
    "<p>Evaluation</p>"
   ]
  },
  {
   "cell_type": "code",
   "execution_count": 19,
   "id": "b28199ac",
   "metadata": {},
   "outputs": [
    {
     "name": "stdout",
     "output_type": "stream",
     "text": [
      "INFO:tensorflow:Calling model_fn.\n",
      "INFO:tensorflow:Done calling model_fn.\n",
      "INFO:tensorflow:Starting evaluation at 2021-10-09T18:37:52\n",
      "INFO:tensorflow:Graph was finalized.\n",
      "INFO:tensorflow:Restoring parameters from C:\\Users\\Janice\\AppData\\Local\\Temp\\tmpe9o31qsa\\model.ckpt-1000\n",
      "INFO:tensorflow:Running local_init_op.\n",
      "INFO:tensorflow:Done running local_init_op.\n",
      "INFO:tensorflow:Inference Time : 0.57249s\n",
      "INFO:tensorflow:Finished evaluation at 2021-10-09-18:37:53\n",
      "INFO:tensorflow:Saving dict for global step 1000: accuracy = 0.56666666, average_loss = 0.6913191, global_step = 1000, loss = 0.6913191\n",
      "INFO:tensorflow:Saving 'checkpoint_path' summary for global step 1000: C:\\Users\\Janice\\AppData\\Local\\Temp\\tmpe9o31qsa\\model.ckpt-1000\n",
      "\n",
      "Test set accuracy: 0.567\n",
      "\n"
     ]
    }
   ],
   "source": [
    "eval_result = classifier.evaluate(input_fn=lambda: input_fn(test, test_y, training=False))\n",
    "\n",
    "print('\\nTest set accuracy: {accuracy:0.3f}\\n'.format(**eval_result))"
   ]
  },
  {
   "cell_type": "markdown",
   "id": "c8e6e8ac",
   "metadata": {},
   "source": [
    "<p>Prediction</p>"
   ]
  },
  {
   "cell_type": "code",
   "execution_count": 20,
   "id": "3c24ce1d",
   "metadata": {},
   "outputs": [
    {
     "name": "stdout",
     "output_type": "stream",
     "text": [
      "INFO:tensorflow:Calling model_fn.\n",
      "INFO:tensorflow:Done calling model_fn.\n",
      "INFO:tensorflow:Graph was finalized.\n",
      "INFO:tensorflow:Restoring parameters from C:\\Users\\Janice\\AppData\\Local\\Temp\\tmpe9o31qsa\\model.ckpt-1000\n",
      "INFO:tensorflow:Running local_init_op.\n",
      "INFO:tensorflow:Done running local_init_op.\n",
      "Prediction is \"Setosa\" (67.8%)\n",
      "Prediction is \"Virginica\" (44.5%)\n",
      "Prediction is \"Virginica\" (59.4%)\n"
     ]
    }
   ],
   "source": [
    "# Convert the inputs to a Dataset without labels\n",
    "def input_fn(features, batch_size=256):\n",
    "    return tf.data.Dataset.from_tensor_slices(dict(features)).batch(batch_size)\n",
    "\n",
    "\n",
    "predict = {\n",
    "    'SepalLength': [5.1, 5.9, 6.9],\n",
    "    'SepalWidth': [3.3, 3.0, 3.1],\n",
    "    'PetalLength': [1.7, 4.2, 5.4],\n",
    "    'PetalWidth': [0.5, 1.5, 2.1],\n",
    "}\n",
    "\n",
    "# # NOT WORKING AS VAL CANNOT BE CAST TO FLOAT:\n",
    "# # Interactive input\n",
    "# features = ['SepalLength', 'SepalWidth', 'PetalLength', 'PetalWidth']\n",
    "# print(\"Please type numeric values as prompted.\")\n",
    "# for feature in features:\n",
    "#     valid = True\n",
    "#     while valid: \n",
    "#         val = input(feature + \": \")\n",
    "#         if not val.isdigit(): valid = False\n",
    "\n",
    "#     predict[feature] = [float(val)]\n",
    "\n",
    "predictions = classifier.predict(input_fn=lambda: input_fn(predict))\n",
    "for pred_dict in predictions:\n",
    "    class_id = pred_dict['class_ids'][0]\n",
    "    probability = pred_dict['probabilities'][class_id]\n",
    "\n",
    "    print('Prediction is \"{}\" ({:.1f}%)'.format(\n",
    "        SPECIES[class_id], 100 * probability))"
   ]
  },
  {
   "cell_type": "markdown",
   "id": "2ce22d5f",
   "metadata": {},
   "source": [
    "<h1>Clustering</h1>\n",
    "<p>Groups data points into classes the computer generates using centroids. Differs from classification as clustering is unsupervised learning while clustering is supervised. See <a href=\"https://colab.research.google.com/drive/15Cyy2H7nT40sGR7TBN5wBvgTd57mVKay#forceEdit=true&sandboxMode=true&scrollTo=-tRxhpmSr1FH\">notes</a></p>"
   ]
  },
  {
   "cell_type": "markdown",
   "id": "55ebf317",
   "metadata": {},
   "source": [
    "<h1>Hidden Markov Model</h1>\n",
    "<p>\n",
    "    Learn about \"hidden\", unobservable states by observing observations (a separate process that is influenced by the states). Requires states, observation distribution and transition distribution\n",
    "</p>"
   ]
  },
  {
   "cell_type": "markdown",
   "id": "c49f01ef",
   "metadata": {},
   "source": [
    "<p>Setup</p>"
   ]
  },
  {
   "cell_type": "code",
   "execution_count": 21,
   "id": "35587887",
   "metadata": {},
   "outputs": [],
   "source": [
    "import tensorflow_probability as tfp"
   ]
  },
  {
   "cell_type": "code",
   "execution_count": 26,
   "id": "d37d050b",
   "metadata": {},
   "outputs": [],
   "source": [
    "tfd = tfp.distributions  # shortcut for later\n",
    "\n",
    "# Building a model of a simple weather system and trying to predict the temperature on each day\n",
    "initial_distribution = tfd.Categorical(probs=[0.8, 0.2])  # Assume that the first day has an 80% chance of being cold\n",
    "transition_distribution = tfd.Categorical(probs=[[0.7, 0.3],\n",
    "                                                 [0.2, 0.8]])  # Assume: a cold day has a 30% chance of being followed by a hot day and a hot day has a 20% chance of being followed by a cold day\n",
    "observation_distribution = tfd.Normal(loc=[0., 15.], scale=[5., 10.])  # On each day the temperature is normally distributed, with mean (loc argument) and standard deviation (scale argument) 0 and 5 on a cold day and mean and standard deviation 15 and 10 on a hot day"
   ]
  },
  {
   "cell_type": "markdown",
   "id": "8181f64b",
   "metadata": {},
   "source": [
    "<p>Creating the Model</p>"
   ]
  },
  {
   "cell_type": "code",
   "execution_count": 27,
   "id": "adfa4eb1",
   "metadata": {},
   "outputs": [],
   "source": [
    "model = tfd.HiddenMarkovModel(\n",
    "    initial_distribution=initial_distribution,\n",
    "    transition_distribution=transition_distribution,\n",
    "    observation_distribution=observation_distribution,\n",
    "    num_steps=7)"
   ]
  },
  {
   "cell_type": "markdown",
   "id": "df6feb71",
   "metadata": {},
   "source": [
    "<p>Predictions</p>"
   ]
  },
  {
   "cell_type": "code",
   "execution_count": 28,
   "id": "70f979c6",
   "metadata": {},
   "outputs": [
    {
     "name": "stdout",
     "output_type": "stream",
     "text": [
      "[2.9999998 5.9999995 7.4999995 8.25      8.625     8.812501  8.90625  ]\n"
     ]
    }
   ],
   "source": [
    "# Creates a partially defined tensor, i.e. we need to evaluate part of the graph from within a session to see the value of this tensor\n",
    "mean = model.mean()\n",
    "\n",
    "# Prints an array of the expected temperatures on each day\n",
    "with tf.compat.v1.Session() as sess:  # in the new version of tensorflow we need to use tf.compat.v1.Session() rather than just tf.Session()\n",
    "    print(mean.numpy())"
   ]
  }
 ],
 "metadata": {
  "kernelspec": {
   "display_name": "Python 3",
   "language": "python",
   "name": "python3"
  },
  "language_info": {
   "codemirror_mode": {
    "name": "ipython",
    "version": 3
   },
   "file_extension": ".py",
   "mimetype": "text/x-python",
   "name": "python",
   "nbconvert_exporter": "python",
   "pygments_lexer": "ipython3",
   "version": "3.8.8"
  }
 },
 "nbformat": 4,
 "nbformat_minor": 5
}
