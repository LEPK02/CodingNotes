{
 "cells": [
  {
   "cell_type": "markdown",
   "id": "f9c475f0",
   "metadata": {},
   "source": [
    "<p>Notes found <a href=\"https://colab.research.google.com/drive/1m2cg3D1x3j5vrFc-Cu0gMvc48gWyCOuG#forceEdit=true&sandboxMode=true&scrollTo=o-oMh18_j5kl\">here</a></p>\n",
    "<p>Video found <a href=\"https://www.youtube.com/watch?v=tPYj3fFJGjk&list=WL&index=5&t=11941s&ab_channel=freeCodeCamp.org\">here</a></p>"
   ]
  },
  {
   "cell_type": "code",
   "execution_count": 2,
   "id": "754be96a",
   "metadata": {},
   "outputs": [],
   "source": [
    "# Imports\n",
    "import tensorflow as tf\n",
    "from tensorflow import keras\n",
    "\n",
    "import numpy as np\n",
    "import matplotlib.pyplot as plt"
   ]
  },
  {
   "cell_type": "markdown",
   "id": "95725459",
   "metadata": {},
   "source": [
    "<h1>Creating a Neural Network</h1>"
   ]
  },
  {
   "cell_type": "markdown",
   "id": "9c2bca81",
   "metadata": {},
   "source": [
    "<p>Dataset</p>"
   ]
  },
  {
   "cell_type": "code",
   "execution_count": 4,
   "id": "32a53404",
   "metadata": {},
   "outputs": [
    {
     "name": "stdout",
     "output_type": "stream",
     "text": [
      "Downloading data from https://storage.googleapis.com/tensorflow/tf-keras-datasets/train-labels-idx1-ubyte.gz\n",
      "32768/29515 [=================================] - 0s 0us/step\n",
      "40960/29515 [=========================================] - 0s 0us/step\n",
      "Downloading data from https://storage.googleapis.com/tensorflow/tf-keras-datasets/train-images-idx3-ubyte.gz\n",
      "26427392/26421880 [==============================] - 2s 0us/step\n",
      "26435584/26421880 [==============================] - 2s 0us/step\n",
      "Downloading data from https://storage.googleapis.com/tensorflow/tf-keras-datasets/t10k-labels-idx1-ubyte.gz\n",
      "16384/5148 [===============================================================================================] - 0s 0s/step\n",
      "Downloading data from https://storage.googleapis.com/tensorflow/tf-keras-datasets/t10k-images-idx3-ubyte.gz\n",
      "4423680/4422102 [==============================] - 0s 0us/step\n",
      "4431872/4422102 [==============================] - 0s 0us/step\n"
     ]
    }
   ],
   "source": [
    "# Load dataset\n",
    "fashion_mnist = keras.datasets.fashion_mnist\n",
    "\n",
    "# Split dataset into testing and training\n",
    "(train_images, train_labels), (test_images, test_labels) = fashion_mnist.load_data()  "
   ]
  },
  {
   "cell_type": "code",
   "execution_count": 5,
   "id": "b58b6a5e",
   "metadata": {},
   "outputs": [],
   "source": [
    "class_names = ['T-shirt/top', 'Trouser', 'Pullover', 'Dress', 'Coat',\n",
    "               'Sandal', 'Shirt', 'Sneaker', 'Bag', 'Ankle boot']"
   ]
  },
  {
   "cell_type": "code",
   "execution_count": 6,
   "id": "f6626fe9",
   "metadata": {},
   "outputs": [
    {
     "data": {
      "image/png": "[encoded data removed]",
      "text/plain": [
       "<Figure size 432x288 with 2 Axes>"
      ]
     },
     "metadata": {
      "needs_background": "light"
     },
     "output_type": "display_data"
    }
   ],
   "source": [
    "plt.figure()\n",
    "plt.imshow(train_images[1])  # Display image\n",
    "plt.colorbar()  # Add colour bar at the side\n",
    "plt.grid(False)  # Hide grid lines\n",
    "plt.show()"
   ]
  },
  {
   "cell_type": "markdown",
   "id": "9aed68f3",
   "metadata": {},
   "source": [
    "<p>Data Preprocessing</p>"
   ]
  },
  {
   "cell_type": "code",
   "execution_count": 8,
   "id": "e332e5f0",
   "metadata": {},
   "outputs": [],
   "source": [
    "# Limit input to a range of [0,1] for more efficient processing\n",
    "train_images = train_images / 255.0\n",
    "test_images = test_images / 255.0"
   ]
  },
  {
   "cell_type": "markdown",
   "id": "6edc93da",
   "metadata": {},
   "source": [
    "<p>Building the Model</p>"
   ]
  },
  {
   "cell_type": "code",
   "execution_count": 9,
   "id": "23528e51",
   "metadata": {},
   "outputs": [],
   "source": [
    "# Define layers, neurons, activation functions, type of connections\n",
    "model = keras.Sequential([\n",
    "    keras.layers.Flatten(input_shape=(28, 28)),  # input layer (1) - flatten 28x28 input into 1D array\n",
    "    keras.layers.Dense(128, activation='relu'),  # hidden layer (2) - dense is where each neuron in the previous layer is connected to all neurons in this layer\n",
    "    keras.layers.Dense(10, activation='softmax') # output layer (3) - softmax calculates probability distribution of each of the 10 classes (i.e. probability that the image belongs to each class)\n",
    "])"
   ]
  },
  {
   "cell_type": "markdown",
   "id": "0f64efb4",
   "metadata": {},
   "source": [
    "<p>Compiling the Model</p>"
   ]
  },
  {
   "cell_type": "code",
   "execution_count": 31,
   "id": "f2c0635e",
   "metadata": {},
   "outputs": [],
   "source": [
    "# Pick optimizer, loss function, metrics (hyper parameter tuning)\n",
    "model.compile(optimizer='adam',\n",
    "              loss='sparse_categorical_crossentropy',\n",
    "              metrics=['accuracy'])"
   ]
  },
  {
   "cell_type": "markdown",
   "id": "0ec199bf",
   "metadata": {},
   "source": [
    "<p>Training the Model</p>"
   ]
  },
  {
   "cell_type": "code",
   "execution_count": 35,
   "id": "28f928ca",
   "metadata": {},
   "outputs": [
    {
     "name": "stdout",
     "output_type": "stream",
     "text": [
      "1875/1875 [==============================] - 4s 2ms/step - loss: 0.1203 - accuracy: 0.9546\n"
     ]
    },
    {
     "data": {
      "text/plain": [
       "<keras.callbacks.History at 0x23422721b50>"
      ]
     },
     "execution_count": 35,
     "metadata": {},
     "output_type": "execute_result"
    }
   ],
   "source": [
    "model.fit(train_images, train_labels, epochs=1)\n",
    "# Beware of overfitting (i.e. so many epochs that machine \"memorises\", or creates labels so specific to the training data, that it becomes inaccurate and inapplicable to new datasets)"
   ]
  },
  {
   "cell_type": "markdown",
   "id": "3d72ef0f",
   "metadata": {},
   "source": [
    "<p>Evaluating the Model</p>"
   ]
  },
  {
   "cell_type": "code",
   "execution_count": 36,
   "id": "841ea791",
   "metadata": {},
   "outputs": [
    {
     "name": "stdout",
     "output_type": "stream",
     "text": [
      "313/313 [==============================] - 0s 1ms/step - loss: 0.4974 - accuracy: 0.8737\n",
      "Test accuracy: 0.8737000226974487\n"
     ]
    }
   ],
   "source": [
    "test_loss, test_acc = model.evaluate(test_images,  test_labels, verbose=1)\n",
    "print('Test accuracy:', test_acc)"
   ]
  },
  {
   "cell_type": "markdown",
   "id": "f715447d",
   "metadata": {},
   "source": [
    "<p>Making Predictions</p>"
   ]
  },
  {
   "cell_type": "code",
   "execution_count": 46,
   "id": "91de1dbd",
   "metadata": {},
   "outputs": [
    {
     "name": "stdout",
     "output_type": "stream",
     "text": [
      "Which image would you like to predict?20\n",
      "Pullover\n"
     ]
    },
    {
     "data": {
      "image/png": "[encoded data removed]",
      "text/plain": [
       "<Figure size 432x288 with 1 Axes>"
      ]
     },
     "metadata": {
      "needs_background": "light"
     },
     "output_type": "display_data"
    }
   ],
   "source": [
    "# Make batch predictions\n",
    "predictions = model.predict(test_images)  # Returns arrays of 10 items; each item is the probability of the image belonging to a class\n",
    "\n",
    "image_num = int(input(\"Which image would you like to predict?\"))\n",
    "# Look at individual predictions\n",
    "print(class_names[np.argmax(predictions[image_num])])  # Takes the class with the highest probability (also the index of class_names), prints prediction\n",
    "\n",
    "# Look at image\n",
    "plt.figure()\n",
    "plt.imshow(test_images[image_num])  # Display image\n",
    "plt.colorbar()  # Add colour bar at the side\n",
    "plt.grid(False)  # Hide grid lines\n",
    "plt.show()"
   ]
  },
  {
   "cell_type": "markdown",
   "id": "367b5eb4",
   "metadata": {},
   "source": [
    "<p>Verifying Predictions</p>"
   ]
  },
  {
   "cell_type": "code",
   "execution_count": 47,
   "id": "eb9c6cb3",
   "metadata": {},
   "outputs": [
    {
     "name": "stdout",
     "output_type": "stream",
     "text": [
      "Pick a number: 20\n"
     ]
    },
    {
     "data": {
      "image/png": "[encoded data removed]",
      "text/plain": [
       "<Figure size 432x288 with 2 Axes>"
      ]
     },
     "metadata": {
      "needs_background": "light"
     },
     "output_type": "display_data"
    }
   ],
   "source": [
    "# Set plot parameters\n",
    "COLOR = 'white'\n",
    "plt.rcParams['text.color'] = COLOR\n",
    "plt.rcParams['axes.labelcolor'] = COLOR\n",
    "\n",
    "# Predicts image's class and shows actual image + label\n",
    "def predict(model, image, correct_label):\n",
    "    class_names = ['T-shirt/top', 'Trouser', 'Pullover', 'Dress', 'Coat',\n",
    "               'Sandal', 'Shirt', 'Sneaker', 'Bag', 'Ankle boot']\n",
    "    prediction = model.predict(np.array([image]))\n",
    "    predicted_class = class_names[np.argmax(prediction)]\n",
    "\n",
    "    show_image(image, class_names[correct_label], predicted_class)\n",
    "\n",
    "\n",
    "# Plots image\n",
    "def show_image(img, label, guess):\n",
    "    plt.figure()\n",
    "    plt.imshow(img, cmap=plt.cm.binary)  # cmap argument greyscales the image\n",
    "    plt.colorbar()\n",
    "    plt.title(\"Excpected: \" + label)\n",
    "    plt.xlabel(\"Guess: \" + guess)\n",
    "    plt.grid(False)\n",
    "    plt.show()\n",
    "\n",
    "\n",
    "# Asks user for number\n",
    "def get_number():\n",
    "    while True:\n",
    "        num = input(\"Pick a number: \")\n",
    "        if num.isdigit():\n",
    "            num = int(num)\n",
    "        if 0 <= num <= 1000:\n",
    "            return int(num)\n",
    "        else:\n",
    "            print(\"Try again...\")\n",
    "\n",
    "num = get_number()\n",
    "image = test_images[num]\n",
    "label = test_labels[num]\n",
    "predict(model, image, label)"
   ]
  }
 ],
 "metadata": {
  "kernelspec": {
   "display_name": "Python 3",
   "language": "python",
   "name": "python3"
  },
  "language_info": {
   "codemirror_mode": {
    "name": "ipython",
    "version": 3
   },
   "file_extension": ".py",
   "mimetype": "text/x-python",
   "name": "python",
   "nbconvert_exporter": "python",
   "pygments_lexer": "ipython3",
   "version": "3.8.8"
  }
 },
 "nbformat": 4,
 "nbformat_minor": 5
}
