{
 "cells": [
  {
   "cell_type": "markdown",
   "id": "066fac30",
   "metadata": {},
   "source": [
    "<h1>Python Syntax as Examples</h1>\n",
    "    <p>These are a few possible ways to implement some functions/methods.</p>"
   ]
  },
  {
   "cell_type": "markdown",
   "id": "bda4fe60",
   "metadata": {},
   "source": [
    "<h2>Editing files</h2>\n",
    "    <p>How to open/close and edit (read, write, append) files.</p>"
   ]
  },
  {
   "cell_type": "code",
   "execution_count": 5,
   "id": "c40c8b2c",
   "metadata": {},
   "outputs": [],
   "source": [
    "test_file = open(\"test.txt\", \"w\")\n",
    "test_file.write(\"HELLO WORLD!\\n\")\n",
    "test_file.write(\"GOODBYE!\")\n",
    "test_file.close()"
   ]
  },
  {
   "cell_type": "code",
   "execution_count": 21,
   "id": "bd84b6c0",
   "metadata": {
    "scrolled": true
   },
   "outputs": [
    {
     "name": "stdout",
     "output_type": "stream",
     "text": [
      "['HELLO WORLD!\\n', 'GOODBYE!']\n"
     ]
    }
   ],
   "source": [
    "test_file = open(\"test.txt\", \"r\")\n",
    "f = test_file.readlines()\n",
    "print(f)\n",
    "test_file.close()"
   ]
  },
  {
   "cell_type": "markdown",
   "id": "a25d500b",
   "metadata": {},
   "source": [
    "<h2>String operations</h2>\n",
    "    <p>How to use .split(), .find() and .count().</p>"
   ]
  },
  {
   "cell_type": "code",
   "execution_count": 22,
   "id": "c2991c9e",
   "metadata": {},
   "outputs": [
    {
     "name": "stdout",
     "output_type": "stream",
     "text": [
      "['hello', 'bye', 'hello']\n",
      "-1\n",
      "7\n",
      "2\n"
     ]
    }
   ],
   "source": [
    "string = \"hello, bye, hello\"\n",
    "print(string.split(\", \"))\n",
    "print(string.find(\"chicken\"))\n",
    "print(string.find(\"bye\"))\n",
    "print(string.count(\"hello\"))"
   ]
  },
  {
   "cell_type": "markdown",
   "id": "e390fa6f",
   "metadata": {},
   "source": [
    "<h2>List operations</h2>\n",
    "    <p>How to use .filter(), .map() and lambda functions.</p>"
   ]
  },
  {
   "cell_type": "code",
   "execution_count": 23,
   "id": "d45746f2",
   "metadata": {},
   "outputs": [
    {
     "name": "stdout",
     "output_type": "stream",
     "text": [
      "['Joe']\n",
      "['Who is Ligma?', 'Who is Joe?', 'Who is Candice?']\n"
     ]
    }
   ],
   "source": [
    "lst = [\"Ligma\", \"Joe\", \"Candice\"]\n",
    "three_letters = list(filter(lambda x : len(x) == 3, lst))\n",
    "print(three_letters)\n",
    "who_is = list(map(lambda x : f\"Who is {x}?\", lst))\n",
    "print(who_is)"
   ]
  },
  {
   "cell_type": "markdown",
   "id": "5b5c510c",
   "metadata": {},
   "source": [
    "<h2>Collections (Counter())</h2>\n",
    "    <p>How to user Counter() in the Collections module.</p>"
   ]
  },
  {
   "cell_type": "code",
   "execution_count": 55,
   "id": "40a583b3",
   "metadata": {},
   "outputs": [
    {
     "name": "stdout",
     "output_type": "stream",
     "text": [
      "Counter({'l': 2, 'h': 1, 'e': 1, 'o': 1})\n",
      "[('hello', 3), ('hola', 1), ('salam', 1)]\n",
      "Counter({'hello': 3, 'hola': 1, 'salam': 1, 'konnichiwa': 1})\n",
      "Counter({'hello': 3, 'hola': 2, 'salam': 1, 'konnichiwa': 1})\n",
      "['hello', 'hello', 'hello', 'hola', 'hola', 'salam', 'konnichiwa']\n",
      "Counter({'hello': 3, 'hola': 2, 'salam': 1, 'konnichiwa': 1})\n",
      "0\n",
      "Counter({'hello': 0, 'hola': 0, 'salam': 0, 'konnichiwa': 0})\n",
      "Counter({'adios': 4, 'goodbye': 2, 'wadaean': 1, 'hello': 0, 'hola': 0, 'salam': 0, 'konnichiwa': 0, 'sayonara': 0})\n",
      "Counter({'goodbye': 2})\n",
      "Counter({'hello': 5, 'adios': 4, 'goodbye': 3, 'good_morning': 2, 'wadaean': 1})\n"
     ]
    }
   ],
   "source": [
    "from collections import Counter\n",
    "\n",
    "hello = Counter(\"hello\")\n",
    "print(hello)\n",
    "\n",
    "greetings = Counter([\"hello\", \"hola\", \"salam\", \"konnichiwa\", \"hello\", \"hello\"])\n",
    "print(greetings.most_common(3))  # Find top nth most common elements\n",
    "print(greetings)\n",
    "\n",
    "greetings = Counter({\"hello\" : 3, \"hola\" : 2, \"salam\" : 1, \"konnichiwa\" : 1})\n",
    "print(greetings)\n",
    "print(list(greetings.elements()))\n",
    "\n",
    "greetings = Counter(hello=3, hola=2, salam=1, konnichiwa=1)\n",
    "print(greetings)\n",
    "print(greetings[\"goodbye\"])\n",
    "greetings.subtract(greetings)\n",
    "print(greetings)\n",
    "\n",
    "farewells = Counter({\"goodbye\" : 2, \"adios\" : 4, \"wadaean\" : 1, \"sayonara\" : 0})\n",
    "greetings.update(farewells)\n",
    "print(greetings)\n",
    "salutations = Counter(hello=5, goodbye=3, good_morning=2)\n",
    "print(greetings & salutations)  # Intersection\n",
    "print(greetings | salutations)  # Union"
   ]
  },
  {
   "cell_type": "markdown",
   "id": "149cb151",
   "metadata": {},
   "source": [
    "<h2>Collections (namedtuple())</h2>\n",
    "    <p>How to use namedtuple().</p>"
   ]
  },
  {
   "cell_type": "code",
   "execution_count": 68,
   "id": "ef382711",
   "metadata": {},
   "outputs": [
    {
     "name": "stdout",
     "output_type": "stream",
     "text": [
      "red blue green\n",
      "{'Tom': 'red', 'Dick': 'blue', 'Harry': 'green'}\n",
      "('Tom', 'Dick', 'Harry')\n",
      "Colour(Tom='red', Dick='black', Harry='green')\n",
      "Colour(Tom='green', Dick='blue', Harry='red')\n"
     ]
    }
   ],
   "source": [
    "from collections import namedtuple\n",
    "Colour = namedtuple(\"Colour\", \"Tom Dick Harry\")\n",
    "favC = Colour(\"red\", \"blue\", \"green\")\n",
    "print(favC.Tom, favC.Dick, favC.Harry)\n",
    "print(favC._asdict())\n",
    "print(favC._fields)\n",
    "\n",
    "favC = favC._replace(Dick = \"black\")\n",
    "print(favC)\n",
    "\n",
    "favC = favC._make([\"green\", \"blue\", \"red\"])\n",
    "print(favC)"
   ]
  },
  {
   "cell_type": "markdown",
   "id": "06f4f9b5",
   "metadata": {},
   "source": [
    "<h2>Collections (deque())</h2>\n",
    "    <p>How to use deque().</p>"
   ]
  },
  {
   "cell_type": "code",
   "execution_count": 127,
   "id": "a42edb55",
   "metadata": {},
   "outputs": [
    {
     "name": "stdout",
     "output_type": "stream",
     "text": [
      "deque(['T', 'i', 'm'])\n",
      "deque(['T', 'i', 'm', 'o', 't', 'h', 'y'])\n",
      "deque(['T', 'i', 'n', 'y', ' ', 'T', 'i', 'm', 'o', 't', 'h', 'y'])\n",
      "deque(['T', 'i', 'm'])\n",
      "deque([])\n",
      "deque(['T', 'i', 'm'])\n",
      "deque(['i', 'n', 'y', ' ', 'T', 'i', 'm', 'T'])\n",
      "deque(['t', 'h', 'y'], maxlen=3)\n"
     ]
    }
   ],
   "source": [
    "from collections import deque\n",
    "\n",
    "name = deque(\"Tim\")\n",
    "print(name)\n",
    "\n",
    "[name.append(i) for i in \"othy\"]\n",
    "print(name)\n",
    "\n",
    "[name.appendleft(i) for i in \" yniT\"]\n",
    "print(name)\n",
    "\n",
    "count = 0\n",
    "while count < 4:\n",
    "    name.pop()\n",
    "    name.popleft()\n",
    "    count += 1\n",
    "name.popleft()\n",
    "print(name)\n",
    "\n",
    "name.clear()\n",
    "print(name)\n",
    "\n",
    "name.extend(\"Tim\")\n",
    "print(name)\n",
    "\n",
    "name.extendleft(\" yniT\")\n",
    "name.rotate(-1)\n",
    "print(name)\n",
    "\n",
    "name = deque(\"Tim\", maxlen=3)\n",
    "name.extend(\"mothy\")\n",
    "print(name)"
   ]
  },
  {
   "cell_type": "markdown",
   "id": "1eced62f",
   "metadata": {},
   "source": [
    "<h2>Arguments and Keyword Arguments</h2>\n",
    "    <p>How to use *args and **kwargs.</p>"
   ]
  },
  {
   "cell_type": "code",
   "execution_count": 1,
   "id": "14eb511d",
   "metadata": {
    "scrolled": true
   },
   "outputs": [
    {
     "name": "stdout",
     "output_type": "stream",
     "text": [
      "Dumb is a 12-year-old Bigot!\n",
      "Dumber is a 23-year-old Idiot!\n"
     ]
    }
   ],
   "source": [
    "def insult(*args, **kwargs):\n",
    "    for (age, name, swear) in zip(args, kwargs.keys(), kwargs.values()):\n",
    "            print(f\"{name} is a {age}-year-old {swear}!\")\n",
    "            \n",
    "insult(12, 23,\n",
    "      Dumb = \"Bigot\",\n",
    "      Dumber = \"Idiot\")"
   ]
  },
  {
   "cell_type": "markdown",
   "id": "f9458787",
   "metadata": {},
   "source": [
    "<h2>Classes</h2>\n",
    "<h3>Inheritance</h3>\n",
    "<p>How to use subclasses and inheritance.</p>"
   ]
  },
  {
   "cell_type": "code",
   "execution_count": 1,
   "id": "f749e019",
   "metadata": {},
   "outputs": [
    {
     "name": "stdout",
     "output_type": "stream",
     "text": [
      "Pimps\n",
      "79.5\n",
      "0.8\n",
      "73.2\n",
      "True\n",
      "False\n"
     ]
    }
   ],
   "source": [
    " class Group:\n",
    "    grp_weightage = 0.5  # Class variable\n",
    "    \n",
    "    def __init__(self, group_name, group_score):\n",
    "        self.group_name = group_name\n",
    "        self.group_score = group_score\n",
    "        \n",
    "    def add_student(self, student):\n",
    "        student.group_name = self.group_name\n",
    "        student.group_score = self.group_score\n",
    "        \n",
    "    @classmethod\n",
    "    def change_weightage(cls, new_weightage):\n",
    "        cls.grp_weightage = new_weightage\n",
    "        return cls.grp_weightage\n",
    "    \n",
    "    @staticmethod\n",
    "    def show_weightage():\n",
    "        print(Group.grp_weightage)\n",
    "        \n",
    "class Student(Group):\n",
    "    \n",
    "    def __init__(self, name, indiv_score, group_name=None, group_score=None):\n",
    "        self.name = name\n",
    "        self.indiv_score = indiv_score\n",
    "        super().__init__(group_name, group_score)\n",
    "        \n",
    "    def change_group(self, new_group):\n",
    "        self.group_name = new_group\n",
    "        \n",
    "    def overall_score(self):\n",
    "        return (self.group_score * Group.grp_weightage) + (self.indiv_score * (1 - Group.grp_weightage))\n",
    "\n",
    "pimps = Group(\"Pimps\", 69)\n",
    "tim = Student(\"Tim\", 90)\n",
    "jim = Student(\"Jim\", 80)\n",
    "kim = Student(\"Kim\", 70)\n",
    "\n",
    "pimps.add_student(tim)\n",
    "pimps.add_student(jim)\n",
    "pimps.add_student(kim)\n",
    "print(kim.group_name)\n",
    "\n",
    "print(tim.overall_score())\n",
    "pimps.change_weightage(0.8)\n",
    "tim.show_weightage()\n",
    "print(tim.overall_score())\n",
    "\n",
    "# print(help(kim))\n",
    "print(isinstance(kim, Group))\n",
    "print(issubclass(Group, Student))"
   ]
  },
  {
   "cell_type": "markdown",
   "id": "8785bb0b",
   "metadata": {},
   "source": [
    "<h2>Asynchronous Programming</h2>\n",
    "    <p>How to use asyncio.</p>"
   ]
  },
  {
   "cell_type": "code",
   "execution_count": 17,
   "id": "e5f164fa",
   "metadata": {},
   "outputs": [
    {
     "name": "stdout",
     "output_type": "stream",
     "text": [
      "Hello!\n",
      "Wait 3 seconds for block() to finish running.\n",
      "block() is done!\n",
      "main() is done!\n",
      "Wait 3 seconds for bypass() to finish running.\n",
      "bypass() is done!\n"
     ]
    }
   ],
   "source": [
    "import asyncio\n",
    "\n",
    "async def main():\n",
    "    print(\"Hello!\")\n",
    "    await block()\n",
    "    asyncio.create_task(bypass())\n",
    "    print(\"main() is done!\")\n",
    "\n",
    "async def block():\n",
    "    print(\"Wait 3 seconds for block() to finish running.\")\n",
    "    await asyncio.sleep(3)\n",
    "    print(\"block() is done!\")\n",
    "    \n",
    "async def bypass():\n",
    "    print(\"Wait 3 seconds for bypass() to finish running.\")\n",
    "    await asyncio.sleep(3)\n",
    "    print(\"bypass() is done!\")\n",
    "    \n",
    "# In Python 3 modules, run the following command. Await applies to jupyter, ipython\n",
    "# asyncio.run(main())\n",
    "\n",
    "await main()  # Await would only work within an async function outside of jupyter"
   ]
  },
  {
   "cell_type": "code",
   "execution_count": 25,
   "id": "b9b6a82f",
   "metadata": {
    "collapsed": true
   },
   "outputs": [
    {
     "name": "stdout",
     "output_type": "stream",
     "text": [
      "10up in 1.7582323751912827sec\n",
      "1down in 2.1563124829588576sec\n",
      "9up in 2.0654490615197347sec\n",
      "2down in 1.3197559647983925sec\n",
      "3down in 0.7288555384129716sec\n",
      "8up in 0.508706427480496sec\n",
      "4down in 1.4877065219032921sec\n",
      "7up in 1.643531164946876sec\n",
      "5down in 0.5712422583040104sec\n",
      "6up in 1.2033803132061889sec\n",
      "6down in 1.4080700393330987sec\n",
      "5up in 2.16658061509903sec\n",
      "7down in 0.8648469282840765sec\n",
      "8down in 0.583036857827032sec\n",
      "9down in 2.2202072878724577sec\n",
      "4up in 1.359118211048734sec\n",
      "3up in 1.265699768189632sec\n",
      "10down in 2.372819028542425sec\n",
      "2up in 0.5007347458878959sec\n",
      "1up in 2.09028277699001sec\n",
      "0up in 2.2713467183783322sec\n"
     ]
    }
   ],
   "source": [
    "import asyncio\n",
    "import numpy as np\n",
    "\n",
    "async def main():\n",
    "    asyncio.create_task(countdown())\n",
    "    await countup()\n",
    "    \n",
    "async def countdown():\n",
    "    for j in range(1, 11):\n",
    "        i = np.random.uniform(0.5 , 2.5)\n",
    "        print(f\"{j}down in {i}sec\")\n",
    "        await asyncio.sleep(i)\n",
    "        \n",
    "async def countup():\n",
    "    for j in range(10, -1, -1):\n",
    "        i = np.random.uniform(0.5 , 2.5)\n",
    "        print(f\"{j}up in {i}sec\")\n",
    "        await asyncio.sleep(i)\n",
    "    \n",
    "await main()"
   ]
  }
 ],
 "metadata": {
  "kernelspec": {
   "display_name": "Python 3",
   "language": "python",
   "name": "python3"
  },
  "language_info": {
   "codemirror_mode": {
    "name": "ipython",
    "version": 3
   },
   "file_extension": ".py",
   "mimetype": "text/x-python",
   "name": "python",
   "nbconvert_exporter": "python",
   "pygments_lexer": "ipython3",
   "version": "3.8.8"
  }
 },
 "nbformat": 4,
 "nbformat_minor": 5
}
