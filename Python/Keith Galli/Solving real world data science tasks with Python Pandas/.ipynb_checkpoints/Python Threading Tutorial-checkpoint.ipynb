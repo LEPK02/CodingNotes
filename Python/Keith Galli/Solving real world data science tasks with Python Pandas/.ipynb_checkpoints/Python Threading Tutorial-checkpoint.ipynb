{
 "cells": [
  {
   "cell_type": "markdown",
   "id": "c6223506",
   "metadata": {},
   "source": [
    "<h1>Threading</h1>"
   ]
  },
  {
   "cell_type": "markdown",
   "id": "da391c6b",
   "metadata": {},
   "source": [
    "<h2>.Thread, .start and .join</h2>"
   ]
  },
  {
   "cell_type": "code",
   "execution_count": 8,
   "id": "567570c4",
   "metadata": {},
   "outputs": [
    {
     "name": "stdout",
     "output_type": "stream",
     "text": [
      "Sleeping for 1 second...\n",
      "Sleeping for 1 second...\n",
      "Done sleeping!\n",
      "Done sleeping!\n",
      "Finished in 1.02 seconds\n"
     ]
    }
   ],
   "source": [
    "import threading\n",
    "import time\n",
    "\n",
    "start = time.perf_counter()\n",
    "\n",
    "# Sleeps for 1 second\n",
    "def pause_1():\n",
    "    print(\"Sleeping for 1 second...\")\n",
    "    time.sleep(1)\n",
    "    print(\"Done sleeping!\")\n",
    "    \n",
    "t1 = threading.Thread(target=pause_1)\n",
    "t2 = threading.Thread(target=pause_1)\n",
    "\n",
    "# Runs threads asynchronously\n",
    "t1.start()\n",
    "t2.start()\n",
    "\n",
    "# Waits for joined threads to finish running before moving on\n",
    "t1.join()\n",
    "t2.join()\n",
    "\n",
    "finish = time.perf_counter()\n",
    "\n",
    "print(f\"Finished in {round(finish - start, 2)} seconds\")"
   ]
  },
  {
   "cell_type": "markdown",
   "id": "3705e81f",
   "metadata": {},
   "source": [
    "<h2>Using iterations</h2>"
   ]
  },
  {
   "cell_type": "code",
   "execution_count": 4,
   "id": "2a8d6306",
   "metadata": {},
   "outputs": [
    {
     "name": "stdout",
     "output_type": "stream",
     "text": [
      "Sleeping for 2 second(s)...\n",
      "Sleeping for 2 second(s)...Sleeping for 2 second(s)...\n",
      "Sleeping for 2 second(s)...\n",
      "Sleeping for 2 second(s)...\n",
      "\n",
      "Sleeping for 2 second(s)...\n",
      "Sleeping for 2 second(s)...\n",
      "Sleeping for 2 second(s)...\n",
      "Sleeping for 2 second(s)...Sleeping for 2 second(s)...\n",
      "\n",
      "Done sleeping!\n",
      "Done sleeping!\n",
      "Done sleeping!Done sleeping!\n",
      "Done sleeping!\n",
      "\n",
      "Done sleeping!\n",
      "Done sleeping!\n",
      "Done sleeping!\n",
      "Done sleeping!Done sleeping!\n",
      "\n",
      "Finished in 2.05 seconds\n"
     ]
    }
   ],
   "source": [
    "import threading\n",
    "import time\n",
    "\n",
    "start = time.perf_counter()\n",
    "\n",
    "# Sleeps for n seconds\n",
    "def pause_1(seconds):\n",
    "    print(f\"Sleeping for {seconds} second(s)...\")\n",
    "    time.sleep(seconds)\n",
    "    print(\"Done sleeping!\")\n",
    "    \n",
    "threads = []\n",
    "\n",
    "for _ in range(10):\n",
    "    t = threading.Thread(target=pause_1, args=[2])\n",
    "    t.start()\n",
    "    threads.append(t)\n",
    "    \n",
    "for thread in threads:\n",
    "    thread.join()\n",
    "    \n",
    "finish = time.perf_counter()\n",
    "\n",
    "print(f\"Finished in {round(finish - start, 2)} seconds\")"
   ]
  },
  {
   "cell_type": "markdown",
   "id": "ecee5efe",
   "metadata": {},
   "source": [
    "<h1>Thread Pool Executors</h1>"
   ]
  },
  {
   "cell_type": "code",
   "execution_count": 16,
   "id": "0da50ea6",
   "metadata": {},
   "outputs": [
    {
     "name": "stdout",
     "output_type": "stream",
     "text": [
      "Sleeping for 5 second(s)...\n",
      "Sleeping for 4 second(s)...Sleeping for 3 second(s)...\n",
      "\n",
      "Sleeping for 2 second(s)...\n",
      "Sleeping for 1 second(s)...\n",
      "Done sleeping...1\n",
      "Done sleeping...2\n",
      "Done sleeping...3\n",
      "Done sleeping...4\n",
      "Done sleeping...5\n",
      "Finished in 5.03 seconds\n"
     ]
    }
   ],
   "source": [
    "import concurrent.futures\n",
    "import time\n",
    "\n",
    "start = time.perf_counter()\n",
    "\n",
    "# Sleeps for n seconds\n",
    "def pause_1(seconds):\n",
    "    print(f\"Sleeping for {seconds} second(s)...\")\n",
    "    time.sleep(seconds)\n",
    "    return f\"Done sleeping...{seconds}\"\n",
    "    \n",
    "# Returns future results in the order in which they were completed\n",
    "with concurrent.futures.ThreadPoolExecutor() as executor:\n",
    "    results = [executor.submit(pause_1, sec) for sec in range(5,0,-1)]\n",
    "    \n",
    "    for f in concurrent.futures.as_completed(results):\n",
    "        print(f.result())\n",
    "    \n",
    "finish = time.perf_counter()\n",
    "\n",
    "print(f\"Finished in {round(finish - start, 2)} seconds\")\n"
   ]
  },
  {
   "cell_type": "code",
   "execution_count": 19,
   "id": "285b34f6",
   "metadata": {},
   "outputs": [
    {
     "name": "stdout",
     "output_type": "stream",
     "text": [
      "Sleeping for 5 second(s)...Sleeping for 4 second(s)...\n",
      "Sleeping for 3 second(s)...\n",
      "\n",
      "Sleeping for 2 second(s)...\n",
      "Sleeping for 1 second(s)...\n",
      "Done sleeping...5\n",
      "Done sleeping...4\n",
      "Done sleeping...3\n",
      "Done sleeping...2\n",
      "Done sleeping...1\n",
      "Finished in 5.05 seconds\n"
     ]
    }
   ],
   "source": [
    "import concurrent.futures\n",
    "import time\n",
    "\n",
    "start = time.perf_counter()\n",
    "\n",
    "# Sleeps for n seconds\n",
    "def pause_1(seconds):\n",
    "    print(f\"Sleeping for {seconds} second(s)...\")\n",
    "    time.sleep(seconds)\n",
    "    return f\"Done sleeping...{seconds}\"\n",
    "    \n",
    "# Returns future results in the order in which they were started\n",
    "with concurrent.futures.ThreadPoolExecutor() as executor:\n",
    "    results = executor.map(pause_1, range(5,0,-1))\n",
    "    \n",
    "    for result in results:\n",
    "        print(result)\n",
    "    \n",
    "finish = time.perf_counter()\n",
    "\n",
    "print(f\"Finished in {round(finish - start, 2)} seconds\")\n"
   ]
  }
 ],
 "metadata": {
  "kernelspec": {
   "display_name": "Python 3 (ipykernel)",
   "language": "python",
   "name": "python3"
  },
  "language_info": {
   "codemirror_mode": {
    "name": "ipython",
    "version": 3
   },
   "file_extension": ".py",
   "mimetype": "text/x-python",
   "name": "python",
   "nbconvert_exporter": "python",
   "pygments_lexer": "ipython3",
   "version": "3.8.3"
  }
 },
 "nbformat": 4,
 "nbformat_minor": 5
}
