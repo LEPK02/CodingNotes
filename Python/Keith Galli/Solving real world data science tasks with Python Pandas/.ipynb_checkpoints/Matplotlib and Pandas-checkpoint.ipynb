{
 "cells": [
  {
   "cell_type": "code",
   "execution_count": 4,
   "id": "21951730",
   "metadata": {},
   "outputs": [],
   "source": [
    "import pandas as pd\n",
    "import matplotlib.pyplot as plt\n",
    "import seaborn as sns\n",
    "\n",
    "def split_multicolumn(col_series):\n",
    "#     Converts Series object to dataframe\n",
    "    result_df = col_series.to_frame()\n",
    "    print(result_df)\n",
    "    \n",
    "    options = []\n",
    "#     Iterates over the column\n",
    "    for idx, value in col_series[col_series.notnull()].iteritems():\n",
    "#         Breaks each value into a list of options\n",
    "        print(f\"Index: {idx}\\nValue: {value}\")\n",
    "        for option in value.split(\";\"):\n",
    "            if option not in result_df.columns:\n",
    "                options.append(option)\n",
    "                result_df[option] = False\n",
    "            result_df.at[idx, option] =  True\n",
    "        return result_df[options]"
   ]
  }
 ],
 "metadata": {
  "kernelspec": {
   "display_name": "Python 3 (ipykernel)",
   "language": "python",
   "name": "python3"
  },
  "language_info": {
   "codemirror_mode": {
    "name": "ipython",
    "version": 3
   },
   "file_extension": ".py",
   "mimetype": "text/x-python",
   "name": "python",
   "nbconvert_exporter": "python",
   "pygments_lexer": "ipython3",
   "version": "3.8.3"
  }
 },
 "nbformat": 4,
 "nbformat_minor": 5
}
