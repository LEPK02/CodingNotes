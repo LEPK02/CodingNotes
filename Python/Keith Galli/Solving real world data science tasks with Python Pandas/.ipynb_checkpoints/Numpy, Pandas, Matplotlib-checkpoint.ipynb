{
 "cells": [
  {
   "cell_type": "markdown",
   "id": "2385a776",
   "metadata": {},
   "source": [
    "<h1>Numpy</h1>"
   ]
  },
  {
   "cell_type": "markdown",
   "id": "4bb694b8",
   "metadata": {},
   "source": [
    "<p>Operating on numpy arrays</p>"
   ]
  },
  {
   "cell_type": "code",
   "execution_count": 42,
   "id": "b33b8614",
   "metadata": {},
   "outputs": [
    {
     "name": "stdout",
     "output_type": "stream",
     "text": [
      "1.7000000000000002\n",
      "6.7\n",
      "[0.1 1.2 0.4]\n",
      "[11 13 12]\n",
      "5\n"
     ]
    }
   ],
   "source": [
    "import numpy as np\n",
    "\n",
    "quantity = np.array([1, 3, 2])\n",
    "price = np.array([0.1, 0.4, 0.2])\n",
    "# print(type(price))\n",
    "\n",
    "# help(np.dot)\n",
    "print(np.dot(quantity, price))\n",
    "print(np.sum([quantity, price]))\n",
    "print(quantity * price)\n",
    "print(quantity + 10)\n",
    "print(quantity[2] + 3)"
   ]
  },
  {
   "cell_type": "code",
   "execution_count": 48,
   "id": "6535ff8b",
   "metadata": {},
   "outputs": [
    {
     "name": "stdout",
     "output_type": "stream",
     "text": [
      "[[ True  True  True]\n",
      " [False False False]\n",
      " [False False False]]\n",
      "6\n"
     ]
    }
   ],
   "source": [
    "import numpy as np\n",
    "\n",
    "arr1 = np.array([[1, 2, 3],\n",
    "                [4, 5, 6],\n",
    "                [7, 8, 9]])\n",
    "arr2 = np.array([[1, 2, 3],\n",
    "                [7, 8, 9],\n",
    "                [4, 5, 6]])\n",
    "print(arr1 == arr2)\n",
    "\n",
    "# Counts total number of mismatches; True = 1, False = 0\n",
    "print((arr1 != arr2).sum())"
   ]
  },
  {
   "cell_type": "code",
   "execution_count": 56,
   "id": "2ec41f5f",
   "metadata": {},
   "outputs": [
    {
     "name": "stdout",
     "output_type": "stream",
     "text": [
      "(2, 3, 2)\n",
      "85\n",
      "[[1 2]]\n"
     ]
    }
   ],
   "source": [
    "import numpy as np\n",
    "\n",
    "arr1 = np.array([\n",
    "    [[1, 3],\n",
    "    [2, 4],\n",
    "    [6, 9]],\n",
    "    \n",
    "    [[12, 86],\n",
    "    [63,94],\n",
    "    [42, 85]]])\n",
    "print(arr1.shape)\n",
    "print(arr1[1, 2, 1])\n",
    "print(arr1[:1, :-1, 0])"
   ]
  },
  {
   "cell_type": "markdown",
   "id": "91ba95ec",
   "metadata": {},
   "source": [
    "<p>Multi-dimensional arrays</p>"
   ]
  },
  {
   "cell_type": "code",
   "execution_count": 6,
   "id": "132fd405",
   "metadata": {},
   "outputs": [
    {
     "name": "stdout",
     "output_type": "stream",
     "text": [
      "(3, 2)\n",
      "float64\n"
     ]
    }
   ],
   "source": [
    "import numpy as np\n",
    "\n",
    "market_data = np.array([[0.8, 10],\n",
    "              [1, 20],\n",
    "              [1.5, 12]])\n",
    "print(market_data.shape)\n",
    "print(market_data.dtype)"
   ]
  },
  {
   "cell_type": "markdown",
   "id": "b44b7f3f",
   "metadata": {},
   "source": [
    "<p>Matrix multiplication (dot product)</p>"
   ]
  },
  {
   "cell_type": "code",
   "execution_count": 13,
   "id": "21a59749",
   "metadata": {},
   "outputs": [
    {
     "name": "stdout",
     "output_type": "stream",
     "text": [
      "[11.58 22.5  14.49]\n",
      "[11.58 22.5  14.49]\n"
     ]
    }
   ],
   "source": [
    "import numpy as np\n",
    "\n",
    "market_data = np.array([[0.8, 10],\n",
    "              [1, 20],\n",
    "              [1.5, 12]])\n",
    "\n",
    "tax = np.array([1.1, 1.07])\n",
    "\n",
    "print(np.matmul(market_data, tax))\n",
    "print(market_data @ tax)"
   ]
  },
  {
   "cell_type": "markdown",
   "id": "04c3af75",
   "metadata": {},
   "source": [
    "<p>Broadcasting</p>"
   ]
  },
  {
   "cell_type": "code",
   "execution_count": 41,
   "id": "8f3b9d3a",
   "metadata": {
    "scrolled": true
   },
   "outputs": [
    {
     "name": "stdout",
     "output_type": "stream",
     "text": [
      "(3,)\n",
      "ValueError. Unable to broadcast arrays of different shapes.\n",
      "[[ 37  46  40]\n",
      " [104  86 171]\n",
      " [ 99 129  96]]\n"
     ]
    }
   ],
   "source": [
    "import numpy as np\n",
    "\n",
    "arr1 = np.array([[1, 3, 28, 10],\n",
    "               [9, 147, 2, 3],\n",
    "               [23]])\n",
    "print(arr1.shape)\n",
    "\n",
    "arr2 = np.array([[3, 12, 6],\n",
    "                [23, 5, 90],\n",
    "                [4, 34, 1]])\n",
    "arr3 = np.array([[5, 123, 9],\n",
    "                [123, 5, 39]])\n",
    "try:\n",
    "    print(arr2 + arr3)\n",
    "except ValueError:\n",
    "    print(\"ValueError. Unable to broadcast arrays of different shapes.\")\n",
    "    \n",
    "arr4 = np.array([[34],\n",
    "                [81],\n",
    "                [95]])\n",
    "print(arr2 + arr4)"
   ]
  },
  {
   "cell_type": "markdown",
   "id": "a63c5c9d",
   "metadata": {},
   "source": [
    "<p>CSV files</p>"
   ]
  },
  {
   "cell_type": "code",
   "execution_count": 24,
   "id": "592d1ca3",
   "metadata": {},
   "outputs": [
    {
     "name": "stdout",
     "output_type": "stream",
     "text": [
      "[[65. 12. 28.]\n",
      " [25.  9. 40.]\n",
      " [91. 11. 34.]\n",
      " ...\n",
      " [17. 99. 24.]\n",
      " [17. 26. 63.]\n",
      " [25. 75. 10.]]\n",
      "(1000, 3)\n",
      "<class 'numpy.ndarray'>\n",
      "(1000,)\n",
      "[[65.   12.   28.   33.25]\n",
      " [25.    9.   40.   28.5 ]\n",
      " [91.   11.   34.   42.5 ]\n",
      " ...\n",
      " [17.   99.   24.   41.  ]\n",
      " [17.   26.   63.   42.25]\n",
      " [25.   75.   10.   30.  ]]\n",
      "(1000, 4)\n"
     ]
    }
   ],
   "source": [
    "import csv\n",
    "import random\n",
    "import numpy as np\n",
    "\n",
    "header = [\"test_1\", \"test_2\", \"test_3\"]\n",
    "data = []\n",
    "for _ in range(1000):\n",
    "    score = [random.randint(1, 100) for _ in range(3)]\n",
    "    data.append(score)\n",
    "    \n",
    "with open(\"test_scores.csv\", \"w\", encoding=\"UTF8\") as f:\n",
    "    writer = csv.writer(f)\n",
    "    \n",
    "    writer.writerow(header)\n",
    "    for i in data:\n",
    "        writer.writerow(i)\n",
    "    \n",
    "scores = np.genfromtxt(\"test_scores.csv\", delimiter=\",\", skip_header=1)\n",
    "print(scores)\n",
    "print(scores.shape)\n",
    "print(type(scores))\n",
    "\n",
    "weights = np.array([0.25, 0.25, 0.5])\n",
    "total_scores = np.matmul(scores, weights)\n",
    "print(total_scores.shape)\n",
    "\n",
    "final_scores = np.concatenate((scores, total_scores.reshape(1000, 1)), axis=1)\n",
    "print(final_scores)\n",
    "print(final_scores.shape)\n",
    "\n",
    "np.savetxt(\"final_scores.txt\",\n",
    "           final_scores,\n",
    "           fmt=\"%.2f\",\n",
    "           header=\"test_1,test_2,test_3,total\",\n",
    "           comments=\"#\")"
   ]
  },
  {
   "cell_type": "markdown",
   "id": "026cb431",
   "metadata": {},
   "source": [
    "<p>Special arrays</p>"
   ]
  },
  {
   "cell_type": "code",
   "execution_count": 76,
   "id": "7ef791b6",
   "metadata": {},
   "outputs": [
    {
     "name": "stdout",
     "output_type": "stream",
     "text": [
      "[[0. 0. 0. 0. 0. 0. 0. 0. 0.]\n",
      " [0. 0. 0. 0. 0. 0. 0. 0. 0.]\n",
      " [0. 0. 0. 0. 0. 0. 0. 0. 0.]]\n",
      "[[[1. 1. 1. 1. 1. 1.]\n",
      "  [1. 1. 1. 1. 1. 1.]]\n",
      "\n",
      " [[1. 1. 1. 1. 1. 1.]\n",
      "  [1. 1. 1. 1. 1. 1.]]\n",
      "\n",
      " [[1. 1. 1. 1. 1. 1.]\n",
      "  [1. 1. 1. 1. 1. 1.]]]\n",
      "[[1. 0. 0. 0.]\n",
      " [0. 1. 0. 0.]\n",
      " [0. 0. 1. 0.]\n",
      " [0. 0. 0. 1.]]\n",
      "[0.08133636 0.08088673 0.45888774 0.7056022  0.88494726]\n",
      "[[ 1.29945472]\n",
      " [ 0.19333872]\n",
      " [ 0.37121992]\n",
      " [-0.51284618]\n",
      " [ 0.08074345]]\n",
      "[[3 3 3]\n",
      " [3 3 3]\n",
      " [3 3 3]]\n",
      "[1 3 5 7 9]\n",
      "[[1]\n",
      " [3]\n",
      " [5]\n",
      " [7]\n",
      " [9]]\n",
      "[  1.   50.5 100. ]\n"
     ]
    }
   ],
   "source": [
    "import numpy as np\n",
    "\n",
    "print(np.zeros([3, 9]))\n",
    "print(np.ones([3, 2, 6]))\n",
    "print(np.eye(4))\n",
    "print(np.random.rand(5))\n",
    "print(np.random.randn(5, 1))\n",
    "print(np.full([3, 3], 3))\n",
    "print(np.arange(1, 10, 2))\n",
    "print(np.arange(1, 10, 2).reshape(5, 1))\n",
    "print(np.linspace(1, 100, 3))"
   ]
  },
  {
   "cell_type": "markdown",
   "id": "de1c8591",
   "metadata": {},
   "source": [
    "<h1>OS</h1>"
   ]
  },
  {
   "cell_type": "markdown",
   "id": "a95d458b",
   "metadata": {},
   "source": [
    "<p>Reading/Writing Files</p>"
   ]
  },
  {
   "cell_type": "code",
   "execution_count": 18,
   "id": "e3af84e6",
   "metadata": {},
   "outputs": [
    {
     "name": "stdout",
     "output_type": "stream",
     "text": [
      "/storage/emulated/0/Coding\n",
      "['test_scores.csv', '.ipynb_checkpoints', 'Numpy, Pandas, Matplotlib.ipynb', 'final_scores.txt', 'data']\n",
      "True\n"
     ]
    }
   ],
   "source": [
    "import os\n",
    "\n",
    "print(os.getcwd())\n",
    "print(os.listdir(\"/storage/emulated/0/Coding\"))\n",
    "os.makedirs(\"./data\", exist_ok=True)\n",
    "print(\"data\" in os.listdir())"
   ]
  },
  {
   "cell_type": "code",
   "execution_count": 69,
   "id": "998bb31a",
   "metadata": {},
   "outputs": [
    {
     "name": "stdout",
     "output_type": "stream",
     "text": [
      "4498.971428571429\n",
      "219999.9999999998\n",
      "22961.353107335326\n",
      "44176.544669821364\n",
      "710.0473914416413\n",
      "276622.65843976097\n",
      "1482.76905206747\n",
      "18918.682030460302\n",
      "31818.254857148786\n"
     ]
    }
   ],
   "source": [
    "import urllib.request\n",
    "import math\n",
    "\n",
    "url1 = 'https://gist.githubusercontent.com/aakashns/257f6e6c8719c17d0e498ea287d1a386/raw/7def9ef4234ddf0bc82f855ad67dac8b971852ef/loans1.txt'\n",
    "url2 = 'https://gist.githubusercontent.com/aakashns/257f6e6c8719c17d0e498ea287d1a386/raw/7def9ef4234ddf0bc82f855ad67dac8b971852ef/loans2.txt'\n",
    "url3 = 'https://gist.githubusercontent.com/aakashns/257f6e6c8719c17d0e498ea287d1a386/raw/7def9ef4234ddf0bc82f855ad67dac8b971852ef/loans3.txt'\n",
    "\n",
    "urllib.request.urlretrieve(url1, \"./data/loans1.txt\")\n",
    "urllib.request.urlretrieve(url2, \"./data/loans2.txt\")\n",
    "urllib.request.urlretrieve(url3, \"./data/loans3.txt\")\n",
    "\n",
    "# print(os.listdir(\"./data\"))\n",
    "\n",
    "def read_csv(path):\n",
    "    result = []\n",
    "\n",
    "#     Reads CSV file\n",
    "    with open(path, \"r\") as f:\n",
    "        file1_contents = f.readlines()\n",
    "\n",
    "#     Parses headers\n",
    "    headers = file1_contents[0].strip().split(\",\")\n",
    "\n",
    "#     Appends each row of data as a list to values\n",
    "    values = []\n",
    "    for line in file1_contents[1:]:\n",
    "        lst = []\n",
    "        for data in line.strip().split(\",\"):\n",
    "            if data != \"\":\n",
    "                lst.append(float(data))\n",
    "            else:\n",
    "                lst.append(0.0)\n",
    "        values.append(lst)\n",
    "\n",
    "#     Creates dictionary with header:value and appends the dictionary to result\n",
    "    for row in values:\n",
    "        data_dict = {}\n",
    "        for header, value in zip(headers, row):\n",
    "            data_dict[header] = value\n",
    "        \n",
    "        result.append(data_dict)\n",
    "        \n",
    "    return result\n",
    "\n",
    "# Calculates equal monthly installment(EMI) of a loan\n",
    "def loan_emi(amount, duration, rate, down_payment=0):\n",
    "    loan_amount = amount - down_payment\n",
    "    emi = (amount * rate * (1+rate)**duration) / ((1+rate)*duration-1)\n",
    "    return emi\n",
    "\n",
    "\n",
    "loans1 = read_csv(\"./data/loans1.txt\")\n",
    "for loan in loans1:\n",
    "    print(loan_emi(loan[\"amount\"], loan[\"duration\"]/12, loan[\"rate\"], loan[\"down_payment\"]))"
   ]
  }
 ],
 "metadata": {
  "kernelspec": {
   "display_name": "Python 3 (ipykernel)",
   "language": "python",
   "name": "python3"
  },
  "language_info": {
   "codemirror_mode": {
    "name": "ipython",
    "version": 3
   },
   "file_extension": ".py",
   "mimetype": "text/x-python",
   "name": "python",
   "nbconvert_exporter": "python",
   "pygments_lexer": "ipython3",
   "version": "3.8.3"
  }
 },
 "nbformat": 4,
 "nbformat_minor": 5
}
