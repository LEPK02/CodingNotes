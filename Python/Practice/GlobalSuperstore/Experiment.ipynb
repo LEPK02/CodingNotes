{
 "cells": [
  {
   "cell_type": "code",
   "execution_count": 1,
   "id": "3ce8aa38",
   "metadata": {},
   "outputs": [],
   "source": [
    "import numpy as np\n",
    "import pandas as pd\n",
    "\n",
    "import matplotlib\n",
    "import matplotlib.pyplot as plt\n",
    "import seaborn as sns\n",
    "\n",
    "# Makes graphs are embedded in Jupyter notebook instead of displaying as pop-ups\n",
    "%matplotlib inline"
   ]
  },
  {
   "cell_type": "markdown",
   "id": "75b769d2",
   "metadata": {},
   "source": [
    "What is the % of primary school teachers who have been in service from 5-9 yrs in the year 1998?"
   ]
  },
  {
   "cell_type": "code",
   "execution_count": 24,
   "id": "9d05b542",
   "metadata": {
    "scrolled": true
   },
   "outputs": [
    {
     "data": {
      "text/html": [
       "<div>\n",
       "<style scoped>\n",
       "    .dataframe tbody tr th:only-of-type {\n",
       "        vertical-align: middle;\n",
       "    }\n",
       "\n",
       "    .dataframe tbody tr th {\n",
       "        vertical-align: top;\n",
       "    }\n",
       "\n",
       "    .dataframe thead th {\n",
       "        text-align: right;\n",
       "    }\n",
       "</style>\n",
       "<table border=\"1\" class=\"dataframe\">\n",
       "  <thead>\n",
       "    <tr style=\"text-align: right;\">\n",
       "      <th></th>\n",
       "      <th>year</th>\n",
       "      <th>sex</th>\n",
       "      <th>level_of_school</th>\n",
       "      <th>length_of_service</th>\n",
       "      <th>no_of_teachers</th>\n",
       "    </tr>\n",
       "  </thead>\n",
       "  <tbody>\n",
       "    <tr>\n",
       "      <th>468</th>\n",
       "      <td>1998</td>\n",
       "      <td>MF</td>\n",
       "      <td>PRIMARY</td>\n",
       "      <td>5 - 9 YEARS</td>\n",
       "      <td>1510</td>\n",
       "    </tr>\n",
       "    <tr>\n",
       "      <th>469</th>\n",
       "      <td>1998</td>\n",
       "      <td>F</td>\n",
       "      <td>PRIMARY</td>\n",
       "      <td>5 - 9 YEARS</td>\n",
       "      <td>1361</td>\n",
       "    </tr>\n",
       "  </tbody>\n",
       "</table>\n",
       "</div>"
      ],
      "text/plain": [
       "     year sex level_of_school length_of_service  no_of_teachers\n",
       "468  1998  MF         PRIMARY       5 - 9 YEARS            1510\n",
       "469  1998   F         PRIMARY       5 - 9 YEARS            1361"
      ]
     },
     "metadata": {},
     "output_type": "display_data"
    },
    {
     "name": "stdout",
     "output_type": "stream",
     "text": [
      "20376\n",
      "14.090106007067138\n"
     ]
    }
   ],
   "source": [
    "q1_df = pd.read_csv(\"C:/Users/Janice/Desktop/Coding/Code/Python/Notes/Practice/Tableau-SP-2021/dvt-test/Q1.csv\")\n",
    "\n",
    "sorted_q1_df = q1_df[(q1_df.year == 1998) & (q1_df.length_of_service == \"5 - 9 YEARS\") & (q1_df.level_of_school == \"PRIMARY\")]\n",
    "\n",
    "display(sorted_q1_df)\n",
    "print(q1_df[(q1_df.level_of_school == \"PRIMARY\") & (q1_df.year == 1998)].no_of_teachers.sum())\n",
    "print(sorted_q1_df.no_of_teachers.sum()/ 20376 * 100)"
   ]
  },
  {
   "cell_type": "markdown",
   "id": "67860a7d",
   "metadata": {},
   "source": [
    "What is the average resale prices for 5-rm flats in the year 2013?"
   ]
  },
  {
   "cell_type": "code",
   "execution_count": 82,
   "id": "8dd5bd2b",
   "metadata": {
    "scrolled": true
   },
   "outputs": [
    {
     "name": "stderr",
     "output_type": "stream",
     "text": [
      "<ipython-input-82-cdb6d68be4a2>:7: UserWarning: Boolean Series key will be reindexed to match DataFrame index.\n",
      "  cleaned_q2_df = filter_q2_df[pd.to_numeric(q2_df['price'], errors='coerce').notnull()].reset_index(drop=True)\n"
     ]
    },
    {
     "data": {
      "text/plain": [
       "570035.9375"
      ]
     },
     "execution_count": 82,
     "metadata": {},
     "output_type": "execute_result"
    }
   ],
   "source": [
    "q2_df = pd.read_csv(\"C:/Users/Janice/Desktop/Coding/Code/Python/Notes/Practice/Tableau-SP-2021/dvt-test/Q2.csv\")\n",
    "\n",
    "q2_df[\"date\"] = pd.to_datetime(q2_df.quarter)\n",
    "q2_df[\"year\"] = pd.DatetimeIndex(q2_df.date).year\n",
    "\n",
    "filter_q2_df = q2_df[(q2_df.flat_type==\"5-room\") & (q2_df.year==2013)]\n",
    "cleaned_q2_df = filter_q2_df[pd.to_numeric(q2_df['price'], errors='coerce').notnull()].reset_index(drop=True)\n",
    "print(cleaned_q2_df.price.astype(\"float\").mean())"
   ]
  },
  {
   "cell_type": "markdown",
   "id": "65f53b30",
   "metadata": {},
   "source": [
    "What is the total number of 3-room flat resale transactions in the Bukit Merah town in Q1 to Q3 of 2017?"
   ]
  },
  {
   "cell_type": "code",
   "execution_count": 93,
   "id": "4cc31583",
   "metadata": {},
   "outputs": [
    {
     "data": {
      "text/plain": [
       "month                  177\n",
       "town                   177\n",
       "flat_type              177\n",
       "block                  177\n",
       "street_name            177\n",
       "storey_range           177\n",
       "floor_area_sqm         177\n",
       "flat_model             177\n",
       "lease_commence_date    177\n",
       "resale_price           177\n",
       "date                   177\n",
       "year                   177\n",
       "dtype: int64"
      ]
     },
     "execution_count": 93,
     "metadata": {},
     "output_type": "execute_result"
    }
   ],
   "source": [
    "q3_df = pd.read_csv(\"C:/Users/Janice/Desktop/Coding/Code/Python/Notes/Practice/Tableau-SP-2021/dvt-test/Q3.csv\")\n",
    "\n",
    "q3_df[\"date\"] = pd.to_datetime(q3_df.month)\n",
    "q3_df[\"year\"] = pd.DatetimeIndex(q3_df.date).year\n",
    "q3_df[\"month\"] = pd.DatetimeIndex(q3_df.date).month\n",
    "\n",
    "q3_df[(q3_df.flat_type == '3 ROOM') & (q3_df.town == \"BUKIT MERAH\") & (q3_df.year == 2017) & (q3_df.month >=1) & (q3_df.month <=9)].count()"
   ]
  },
  {
   "cell_type": "markdown",
   "id": "71151d85",
   "metadata": {},
   "source": [
    "In which year was the number of rental cars population 27988?"
   ]
  },
  {
   "cell_type": "code",
   "execution_count": 129,
   "id": "c6789a9c",
   "metadata": {},
   "outputs": [
    {
     "data": {
      "text/html": [
       "<div>\n",
       "<style scoped>\n",
       "    .dataframe tbody tr th:only-of-type {\n",
       "        vertical-align: middle;\n",
       "    }\n",
       "\n",
       "    .dataframe tbody tr th {\n",
       "        vertical-align: top;\n",
       "    }\n",
       "\n",
       "    .dataframe thead th {\n",
       "        text-align: right;\n",
       "    }\n",
       "</style>\n",
       "<table border=\"1\" class=\"dataframe\">\n",
       "  <thead>\n",
       "    <tr style=\"text-align: right;\">\n",
       "      <th></th>\n",
       "      <th>month</th>\n",
       "      <th>vehicle_type</th>\n",
       "      <th>number</th>\n",
       "    </tr>\n",
       "  </thead>\n",
       "  <tbody>\n",
       "    <tr>\n",
       "      <th>277</th>\n",
       "      <td>2015-11</td>\n",
       "      <td>Rental Cars</td>\n",
       "      <td>27988</td>\n",
       "    </tr>\n",
       "  </tbody>\n",
       "</table>\n",
       "</div>"
      ],
      "text/plain": [
       "       month vehicle_type  number\n",
       "277  2015-11  Rental Cars   27988"
      ]
     },
     "metadata": {},
     "output_type": "display_data"
    }
   ],
   "source": [
    "q4_df = pd.read_csv(\"C:/Users/Janice/Desktop/Coding/Code/Python/Notes/Practice/Tableau-SP-2021/dvt-test/Q4.csv\")\n",
    "\n",
    "display(q4_df[(q4_df.vehicle_type == \"Rental Cars\") & (q4_df.number == 27988)])"
   ]
  },
  {
   "cell_type": "markdown",
   "id": "f76a803d",
   "metadata": {},
   "source": [
    "In which years was the average number of rainy days less or equal to 12?"
   ]
  },
  {
   "cell_type": "code",
   "execution_count": 136,
   "id": "ffeb998b",
   "metadata": {},
   "outputs": [
    {
     "data": {
      "text/html": [
       "<div>\n",
       "<style scoped>\n",
       "    .dataframe tbody tr th:only-of-type {\n",
       "        vertical-align: middle;\n",
       "    }\n",
       "\n",
       "    .dataframe tbody tr th {\n",
       "        vertical-align: top;\n",
       "    }\n",
       "\n",
       "    .dataframe thead th {\n",
       "        text-align: right;\n",
       "    }\n",
       "</style>\n",
       "<table border=\"1\" class=\"dataframe\">\n",
       "  <thead>\n",
       "    <tr style=\"text-align: right;\">\n",
       "      <th></th>\n",
       "      <th>no_of_rainy_days</th>\n",
       "    </tr>\n",
       "    <tr>\n",
       "      <th>year</th>\n",
       "      <th></th>\n",
       "    </tr>\n",
       "  </thead>\n",
       "  <tbody>\n",
       "    <tr>\n",
       "      <th>1982</th>\n",
       "      <td>10.833333</td>\n",
       "    </tr>\n",
       "    <tr>\n",
       "      <th>1990</th>\n",
       "      <td>11.833333</td>\n",
       "    </tr>\n",
       "    <tr>\n",
       "      <th>1997</th>\n",
       "      <td>9.666667</td>\n",
       "    </tr>\n",
       "    <tr>\n",
       "      <th>2002</th>\n",
       "      <td>11.583333</td>\n",
       "    </tr>\n",
       "    <tr>\n",
       "      <th>2015</th>\n",
       "      <td>10.416667</td>\n",
       "    </tr>\n",
       "  </tbody>\n",
       "</table>\n",
       "</div>"
      ],
      "text/plain": [
       "      no_of_rainy_days\n",
       "year                  \n",
       "1982         10.833333\n",
       "1990         11.833333\n",
       "1997          9.666667\n",
       "2002         11.583333\n",
       "2015         10.416667"
      ]
     },
     "execution_count": 136,
     "metadata": {},
     "output_type": "execute_result"
    }
   ],
   "source": [
    "q5_df = pd.read_csv(\"C:/Users/Janice/Desktop/Coding/Code/Python/Notes/Practice/Tableau-SP-2021/dvt-test/Q5.csv\")\n",
    "\n",
    "q5_df[\"date\"] = pd.to_datetime(q5_df.month)\n",
    "q5_df[\"year\"] = pd.DatetimeIndex(q5_df.date).year\n",
    "\n",
    "grouped_q5_df = q5_df.groupby(\"year\").mean()\n",
    "grouped_q5_df[(grouped_q5_df.no_of_rainy_days <= 12)]"
   ]
  },
  {
   "cell_type": "markdown",
   "id": "16b1f95f",
   "metadata": {},
   "source": [
    "What are the TOP 3 States with the most sales, ranked in descending order (highest first)?"
   ]
  },
  {
   "cell_type": "code",
   "execution_count": 143,
   "id": "771deb30",
   "metadata": {},
   "outputs": [],
   "source": [
    "xlsx = pd.ExcelFile('C:/Users/Janice/Desktop/Coding/Code/Python/Notes/Practice/Tableau-SP-2021/dvt-test/Q6Q7.xlsx')\n",
    "orders_df = pd.read_excel(xlsx, \"Orders\")\n",
    "returns_df = pd.read_excel(xlsx, \"Returns\")\n",
    "People_df = pd.read_excel(xlsx, \"People\")"
   ]
  },
  {
   "cell_type": "code",
   "execution_count": 165,
   "id": "26fc7260",
   "metadata": {},
   "outputs": [
    {
     "name": "stdout",
     "output_type": "stream",
     "text": [
      "Index(['Row ID', 'Order ID', 'Order Date', 'Ship Date', 'Ship Mode',\n",
      "       'Customer ID', 'Customer Name', 'Segment', 'Country', 'City', 'State',\n",
      "       'Postal Code', 'Region', 'Product ID', 'Category', 'Sub-Category',\n",
      "       'Product Name', 'Sales', 'Quantity', 'Discount', 'Profit'],\n",
      "      dtype='object')\n"
     ]
    },
    {
     "data": {
      "text/html": [
       "<div>\n",
       "<style scoped>\n",
       "    .dataframe tbody tr th:only-of-type {\n",
       "        vertical-align: middle;\n",
       "    }\n",
       "\n",
       "    .dataframe tbody tr th {\n",
       "        vertical-align: top;\n",
       "    }\n",
       "\n",
       "    .dataframe thead th {\n",
       "        text-align: right;\n",
       "    }\n",
       "</style>\n",
       "<table border=\"1\" class=\"dataframe\">\n",
       "  <thead>\n",
       "    <tr style=\"text-align: right;\">\n",
       "      <th></th>\n",
       "      <th>Sales</th>\n",
       "    </tr>\n",
       "    <tr>\n",
       "      <th>State</th>\n",
       "      <th></th>\n",
       "    </tr>\n",
       "  </thead>\n",
       "  <tbody>\n",
       "    <tr>\n",
       "      <th>California</th>\n",
       "      <td>457687.6315</td>\n",
       "    </tr>\n",
       "    <tr>\n",
       "      <th>New York</th>\n",
       "      <td>310876.2710</td>\n",
       "    </tr>\n",
       "    <tr>\n",
       "      <th>Texas</th>\n",
       "      <td>170188.0458</td>\n",
       "    </tr>\n",
       "  </tbody>\n",
       "</table>\n",
       "</div>"
      ],
      "text/plain": [
       "                  Sales\n",
       "State                  \n",
       "California  457687.6315\n",
       "New York    310876.2710\n",
       "Texas       170188.0458"
      ]
     },
     "metadata": {},
     "output_type": "display_data"
    }
   ],
   "source": [
    "print(orders_df.columns)\n",
    "display(orders_df[[\"State\", \"Sales\"]].groupby(\"State\").sum().sort_values(by=\"Sales\", ascending=False).head(3))"
   ]
  },
  {
   "cell_type": "markdown",
   "id": "781fed04",
   "metadata": {},
   "source": [
    "(cont'd) How many customers had at least $10,000 in sales?"
   ]
  },
  {
   "cell_type": "code",
   "execution_count": 169,
   "id": "dbd58ffb",
   "metadata": {},
   "outputs": [
    {
     "data": {
      "text/plain": [
       "Sales    20\n",
       "dtype: int64"
      ]
     },
     "execution_count": 169,
     "metadata": {},
     "output_type": "execute_result"
    }
   ],
   "source": [
    "customer_sales_df = orders_df[[\"Customer ID\", \"Sales\"]].groupby(\"Customer ID\").sum()\n",
    "customer_sales_df[customer_sales_df[\"Sales\"] >= 10000].count()"
   ]
  },
  {
   "cell_type": "markdown",
   "id": "a6647717",
   "metadata": {},
   "source": [
    "Find the customer with the highest profit. What is his/her average shipping cost per order?"
   ]
  },
  {
   "cell_type": "code",
   "execution_count": 171,
   "id": "cc300798",
   "metadata": {},
   "outputs": [],
   "source": [
    "xlsx = pd.ExcelFile('C:/Users/Janice/Desktop/Coding/Code/Python/Notes/Practice/Tableau-SP-2021/dvt-test/Q8Q9Q10.xlsx')\n",
    "orders_df = pd.read_excel(xlsx, \"Orders\")\n",
    "returns_df = pd.read_excel(xlsx, \"Returns\")\n",
    "People_df = pd.read_excel(xlsx, \"Users\")"
   ]
  },
  {
   "cell_type": "code",
   "execution_count": 182,
   "id": "98492103",
   "metadata": {},
   "outputs": [
    {
     "name": "stdout",
     "output_type": "stream",
     "text": [
      "Index(['Row ID', 'Order Priority', 'Discount', 'Unit Price', 'Shipping Cost',\n",
      "       'Customer ID', 'Customer Name', 'Ship Mode', 'Customer Segment',\n",
      "       'Product Category', 'Product Sub-Category', 'Product Container',\n",
      "       'Product Name', 'Product Base Margin', 'Region', 'State or Province',\n",
      "       'City', 'Postal Code', 'Order Date', 'Ship Date', 'Profit',\n",
      "       'Quantity ordered new', 'Sales', 'Order ID'],\n",
      "      dtype='object')\n"
     ]
    },
    {
     "data": {
      "text/html": [
       "<div>\n",
       "<style scoped>\n",
       "    .dataframe tbody tr th:only-of-type {\n",
       "        vertical-align: middle;\n",
       "    }\n",
       "\n",
       "    .dataframe tbody tr th {\n",
       "        vertical-align: top;\n",
       "    }\n",
       "\n",
       "    .dataframe thead th {\n",
       "        text-align: right;\n",
       "    }\n",
       "</style>\n",
       "<table border=\"1\" class=\"dataframe\">\n",
       "  <thead>\n",
       "    <tr style=\"text-align: right;\">\n",
       "      <th></th>\n",
       "      <th>Profit</th>\n",
       "    </tr>\n",
       "    <tr>\n",
       "      <th>Customer ID</th>\n",
       "      <th></th>\n",
       "    </tr>\n",
       "  </thead>\n",
       "  <tbody>\n",
       "    <tr>\n",
       "      <th>3397</th>\n",
       "      <td>17536.851156</td>\n",
       "    </tr>\n",
       "  </tbody>\n",
       "</table>\n",
       "</div>"
      ],
      "text/plain": [
       "                   Profit\n",
       "Customer ID              \n",
       "3397         17536.851156"
      ]
     },
     "metadata": {},
     "output_type": "display_data"
    },
    {
     "name": "stdout",
     "output_type": "stream",
     "text": [
      "10.493333333333334\n"
     ]
    }
   ],
   "source": [
    "# print(orders_df.columns)\n",
    "\n",
    "display(orders_df[[\"Customer ID\", \"Profit\"]].groupby(\"Customer ID\").sum().sort_values(by=\"Profit\", ascending=False).head(1))\n",
    "\n",
    "print(orders_df[(orders_df[\"Customer ID\"] == 3397)][\"Shipping Cost\"].mean())"
   ]
  },
  {
   "cell_type": "markdown",
   "id": "4b6a9621",
   "metadata": {},
   "source": [
    "(cont'd) For items shipped in July of 2012, what was the % of sales sent in a Large Box?"
   ]
  },
  {
   "cell_type": "code",
   "execution_count": 192,
   "id": "c2fbcae6",
   "metadata": {},
   "outputs": [
    {
     "data": {
      "text/plain": [
       "Row ID                  4.102564\n",
       "Order Priority          4.102564\n",
       "Discount                4.102564\n",
       "Unit Price              4.102564\n",
       "Shipping Cost           4.102564\n",
       "Customer ID             4.102564\n",
       "Customer Name           4.102564\n",
       "Ship Mode               4.102564\n",
       "Customer Segment        4.102564\n",
       "Product Category        4.102564\n",
       "Product Sub-Category    4.102564\n",
       "Product Container       4.102564\n",
       "Product Name            4.102564\n",
       "Product Base Margin     3.108808\n",
       "Region                  4.102564\n",
       "State or Province       4.102564\n",
       "City                    4.102564\n",
       "Postal Code             4.102564\n",
       "Order Date              4.102564\n",
       "Ship Date               4.102564\n",
       "Profit                  4.102564\n",
       "Quantity ordered new    4.102564\n",
       "Sales                   4.102564\n",
       "Order ID                4.102564\n",
       "date                    4.102564\n",
       "year                    4.102564\n",
       "month                   4.102564\n",
       "dtype: float64"
      ]
     },
     "execution_count": 192,
     "metadata": {},
     "output_type": "execute_result"
    }
   ],
   "source": [
    "orders_df[\"date\"] = pd.to_datetime(orders_df[\"Ship Date\"])\n",
    "orders_df[\"year\"] = pd.DatetimeIndex(orders_df.date).year\n",
    "orders_df[\"month\"] = pd.DatetimeIndex(orders_df.date).month\n",
    "\n",
    "orders_df[(orders_df[\"Product Container\"] == \"Large Box\") & (orders_df.year == 2012) & (orders_df.month == 7)].count() / orders_df[(orders_df.year == 2012) & (orders_df.month == 7)].count() * 100"
   ]
  },
  {
   "cell_type": "markdown",
   "id": "00e77725",
   "metadata": {},
   "source": [
    "What is the top product subcategory by Sales within the Regular Air Ship mode method?"
   ]
  },
  {
   "cell_type": "code",
   "execution_count": 198,
   "id": "98a58e5f",
   "metadata": {},
   "outputs": [
    {
     "data": {
      "text/html": [
       "<div>\n",
       "<style scoped>\n",
       "    .dataframe tbody tr th:only-of-type {\n",
       "        vertical-align: middle;\n",
       "    }\n",
       "\n",
       "    .dataframe tbody tr th {\n",
       "        vertical-align: top;\n",
       "    }\n",
       "\n",
       "    .dataframe thead th {\n",
       "        text-align: right;\n",
       "    }\n",
       "</style>\n",
       "<table border=\"1\" class=\"dataframe\">\n",
       "  <thead>\n",
       "    <tr style=\"text-align: right;\">\n",
       "      <th></th>\n",
       "      <th>Sales</th>\n",
       "    </tr>\n",
       "    <tr>\n",
       "      <th>Product Sub-Category</th>\n",
       "      <th></th>\n",
       "    </tr>\n",
       "  </thead>\n",
       "  <tbody>\n",
       "    <tr>\n",
       "      <th>Telephones and Communication</th>\n",
       "      <td>970177.62</td>\n",
       "    </tr>\n",
       "    <tr>\n",
       "      <th>Binders and Binder Accessories</th>\n",
       "      <td>579754.21</td>\n",
       "    </tr>\n",
       "    <tr>\n",
       "      <th>Copiers and Fax</th>\n",
       "      <td>506551.24</td>\n",
       "    </tr>\n",
       "    <tr>\n",
       "      <th>Storage &amp; Organization</th>\n",
       "      <td>460771.03</td>\n",
       "    </tr>\n",
       "    <tr>\n",
       "      <th>Computer Peripherals</th>\n",
       "      <td>436133.41</td>\n",
       "    </tr>\n",
       "    <tr>\n",
       "      <th>Office Furnishings</th>\n",
       "      <td>378729.32</td>\n",
       "    </tr>\n",
       "    <tr>\n",
       "      <th>Office Machines</th>\n",
       "      <td>294671.53</td>\n",
       "    </tr>\n",
       "    <tr>\n",
       "      <th>Appliances</th>\n",
       "      <td>266814.07</td>\n",
       "    </tr>\n",
       "    <tr>\n",
       "      <th>Paper</th>\n",
       "      <td>214587.83</td>\n",
       "    </tr>\n",
       "    <tr>\n",
       "      <th>Envelopes</th>\n",
       "      <td>120692.73</td>\n",
       "    </tr>\n",
       "    <tr>\n",
       "      <th>Chairs &amp; Chairmats</th>\n",
       "      <td>119347.54</td>\n",
       "    </tr>\n",
       "    <tr>\n",
       "      <th>Pens &amp; Art Supplies</th>\n",
       "      <td>84261.64</td>\n",
       "    </tr>\n",
       "    <tr>\n",
       "      <th>Tables</th>\n",
       "      <td>45865.60</td>\n",
       "    </tr>\n",
       "    <tr>\n",
       "      <th>Scissors, Rulers and Trimmers</th>\n",
       "      <td>36991.97</td>\n",
       "    </tr>\n",
       "    <tr>\n",
       "      <th>Labels</th>\n",
       "      <td>20149.72</td>\n",
       "    </tr>\n",
       "    <tr>\n",
       "      <th>Rubber Bands</th>\n",
       "      <td>7899.98</td>\n",
       "    </tr>\n",
       "    <tr>\n",
       "      <th>Bookcases</th>\n",
       "      <td>259.52</td>\n",
       "    </tr>\n",
       "  </tbody>\n",
       "</table>\n",
       "</div>"
      ],
      "text/plain": [
       "                                    Sales\n",
       "Product Sub-Category                     \n",
       "Telephones and Communication    970177.62\n",
       "Binders and Binder Accessories  579754.21\n",
       "Copiers and Fax                 506551.24\n",
       "Storage & Organization          460771.03\n",
       "Computer Peripherals            436133.41\n",
       "Office Furnishings              378729.32\n",
       "Office Machines                 294671.53\n",
       "Appliances                      266814.07\n",
       "Paper                           214587.83\n",
       "Envelopes                       120692.73\n",
       "Chairs & Chairmats              119347.54\n",
       "Pens & Art Supplies              84261.64\n",
       "Tables                           45865.60\n",
       "Scissors, Rulers and Trimmers    36991.97\n",
       "Labels                           20149.72\n",
       "Rubber Bands                      7899.98\n",
       "Bookcases                          259.52"
      ]
     },
     "execution_count": 198,
     "metadata": {},
     "output_type": "execute_result"
    }
   ],
   "source": [
    "orders_df[[\"Product Sub-Category\", \"Sales\"]][(orders_df[\"Ship Mode\"] == \"Regular Air\")].groupby(\"Product Sub-Category\").sum().sort_values(by=\"Sales\", ascending=False)"
   ]
  }
 ],
 "metadata": {
  "kernelspec": {
   "display_name": "Python 3",
   "language": "python",
   "name": "python3"
  },
  "language_info": {
   "codemirror_mode": {
    "name": "ipython",
    "version": 3
   },
   "file_extension": ".py",
   "mimetype": "text/x-python",
   "name": "python",
   "nbconvert_exporter": "python",
   "pygments_lexer": "ipython3",
   "version": "3.8.8"
  }
 },
 "nbformat": 4,
 "nbformat_minor": 5
}
