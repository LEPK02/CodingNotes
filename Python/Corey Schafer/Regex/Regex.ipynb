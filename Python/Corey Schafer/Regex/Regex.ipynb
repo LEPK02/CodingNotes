{
 "cells": [
  {
   "cell_type": "markdown",
   "id": "6b340d1e",
   "metadata": {},
   "source": [
    "<h1>Resources</h1>\n",
    "    <p>View cheatsheet <a href=\"https://medium.com/factory-mind/regex-tutorial-a-simple-cheatsheet-by-examples-649dc1c3f285\">here</a>.</p>\n",
    "    <p>View documentation <a href=\"https://docs.python.org/3/library/re.html\">here</a>.</p>\n",
    "    <p>View video <a href=\"https://www.youtube.com/watch?v=K8L6KVGG-7o&list=WL&index=5&t=1127s&ab_channel=CoreySchafer\">here</a>.</p>"
   ]
  },
  {
   "cell_type": "markdown",
   "id": "4e2c7504",
   "metadata": {},
   "source": [
    "<h1>Raw String</h1>\n",
    "    <p>Treats \"\\\" as a literal character</p>"
   ]
  },
  {
   "cell_type": "code",
   "execution_count": 2,
   "id": "a74fa2f3",
   "metadata": {},
   "outputs": [
    {
     "name": "stdout",
     "output_type": "stream",
     "text": [
      "\tTab\n",
      "\\tTab\n"
     ]
    }
   ],
   "source": [
    "print(\"\\tTab\")\n",
    "print(r\"\\tTab\")"
   ]
  },
  {
   "cell_type": "markdown",
   "id": "5e4266a6",
   "metadata": {},
   "source": [
    "<h1>Basics</h1>"
   ]
  },
  {
   "cell_type": "code",
   "execution_count": 82,
   "id": "8e93d496",
   "metadata": {},
   "outputs": [
    {
     "name": "stdout",
     "output_type": "stream",
     "text": [
      "<re.Match object; span=(1, 4), match='abc'>\n",
      "abc\n"
     ]
    }
   ],
   "source": [
    "import re\n",
    "\n",
    "text_to_search = \"\"\"\n",
    "abcdefghijklmnopqrstuvwxyzABCDEFGHIJKLMNOPQRSTUVWXYZ\n",
    ".\n",
    "1234567890\n",
    "Ha HaHa Hahaha\n",
    "\"\"\"\n",
    "\n",
    "pattern = re.compile(r\"abc\")\n",
    "\n",
    "matches = pattern.finditer(text_to_search)\n",
    "\n",
    "for match in matches:\n",
    "    print(match)\n",
    "    \n",
    "print(text_to_search[1:4])"
   ]
  },
  {
   "cell_type": "markdown",
   "id": "2b507e03",
   "metadata": {},
   "source": [
    "<h1>Meta Characters</h1>"
   ]
  },
  {
   "cell_type": "code",
   "execution_count": 7,
   "id": "5e339ed1",
   "metadata": {
    "collapsed": true
   },
   "outputs": [
    {
     "name": "stdout",
     "output_type": "stream",
     "text": [
      "<re.Match object; span=(0, 1), match='a'>\n",
      "<re.Match object; span=(1, 2), match='b'>\n",
      "<re.Match object; span=(2, 3), match='c'>\n",
      "<re.Match object; span=(3, 4), match='d'>\n",
      "<re.Match object; span=(4, 5), match='e'>\n",
      "<re.Match object; span=(5, 6), match='f'>\n",
      "<re.Match object; span=(6, 7), match='g'>\n",
      "<re.Match object; span=(7, 8), match='h'>\n",
      "<re.Match object; span=(8, 9), match='i'>\n",
      "<re.Match object; span=(9, 10), match='j'>\n",
      "<re.Match object; span=(10, 11), match='k'>\n",
      "<re.Match object; span=(11, 12), match='l'>\n",
      "<re.Match object; span=(12, 13), match='m'>\n",
      "<re.Match object; span=(13, 14), match='n'>\n",
      "<re.Match object; span=(14, 15), match='o'>\n",
      "<re.Match object; span=(15, 16), match='p'>\n",
      "<re.Match object; span=(16, 17), match='q'>\n",
      "<re.Match object; span=(17, 18), match='r'>\n",
      "<re.Match object; span=(18, 19), match='s'>\n",
      "<re.Match object; span=(19, 20), match='t'>\n",
      "<re.Match object; span=(20, 21), match='u'>\n",
      "<re.Match object; span=(21, 22), match='v'>\n",
      "<re.Match object; span=(22, 23), match='w'>\n",
      "<re.Match object; span=(23, 24), match='x'>\n",
      "<re.Match object; span=(24, 25), match='y'>\n",
      "<re.Match object; span=(25, 26), match='z'>\n",
      "<re.Match object; span=(26, 27), match='A'>\n",
      "<re.Match object; span=(27, 28), match='B'>\n",
      "<re.Match object; span=(28, 29), match='C'>\n",
      "<re.Match object; span=(29, 30), match='D'>\n",
      "<re.Match object; span=(30, 31), match='E'>\n",
      "<re.Match object; span=(31, 32), match='F'>\n",
      "<re.Match object; span=(32, 33), match='G'>\n",
      "<re.Match object; span=(33, 34), match='H'>\n",
      "<re.Match object; span=(34, 35), match='I'>\n",
      "<re.Match object; span=(35, 36), match='J'>\n",
      "<re.Match object; span=(36, 37), match='K'>\n",
      "<re.Match object; span=(37, 38), match='L'>\n",
      "<re.Match object; span=(38, 39), match='M'>\n",
      "<re.Match object; span=(39, 40), match='N'>\n",
      "<re.Match object; span=(40, 41), match='O'>\n",
      "<re.Match object; span=(41, 42), match='P'>\n",
      "<re.Match object; span=(42, 43), match='Q'>\n",
      "<re.Match object; span=(43, 44), match='R'>\n",
      "<re.Match object; span=(44, 45), match='S'>\n",
      "<re.Match object; span=(45, 46), match='T'>\n",
      "<re.Match object; span=(46, 47), match='U'>\n",
      "<re.Match object; span=(47, 48), match='V'>\n",
      "<re.Match object; span=(48, 49), match='W'>\n",
      "<re.Match object; span=(49, 50), match='X'>\n",
      "<re.Match object; span=(50, 51), match='Y'>\n",
      "<re.Match object; span=(51, 52), match='Z'>\n"
     ]
    }
   ],
   "source": [
    "pattern = re.compile(r\".\")    # Matches any character except newline\n",
    "\n",
    "matches = pattern.finditer(text_to_search)\n",
    "\n",
    "for match in matches:\n",
    "    print(match)"
   ]
  },
  {
   "cell_type": "code",
   "execution_count": 11,
   "id": "549fc4d1",
   "metadata": {},
   "outputs": [
    {
     "name": "stdout",
     "output_type": "stream",
     "text": [
      "<re.Match object; span=(54, 55), match='.'>\n"
     ]
    }
   ],
   "source": [
    "pattern = re.compile(r\"\\.\")\n",
    "\n",
    "matches = pattern.finditer(text_to_search)\n",
    "\n",
    "for match in matches:\n",
    "    print(match)"
   ]
  },
  {
   "cell_type": "markdown",
   "id": "ac44fcb7",
   "metadata": {},
   "source": [
    "<h1>Character Classes</h1>"
   ]
  },
  {
   "cell_type": "code",
   "execution_count": 15,
   "id": "d49868ba",
   "metadata": {
    "scrolled": true
   },
   "outputs": [
    {
     "name": "stdout",
     "output_type": "stream",
     "text": [
      "<re.Match object; span=(56, 57), match='1'>\n",
      "<re.Match object; span=(57, 58), match='2'>\n",
      "<re.Match object; span=(58, 59), match='3'>\n",
      "<re.Match object; span=(59, 60), match='4'>\n",
      "<re.Match object; span=(60, 61), match='5'>\n",
      "<re.Match object; span=(61, 62), match='6'>\n",
      "<re.Match object; span=(62, 63), match='7'>\n",
      "<re.Match object; span=(63, 64), match='8'>\n",
      "<re.Match object; span=(64, 65), match='9'>\n",
      "<re.Match object; span=(65, 66), match='0'>\n"
     ]
    }
   ],
   "source": [
    "pattern = re.compile(r\"\\d\")    # Matches any character that is a digit\n",
    "\n",
    "matches = pattern.finditer(text_to_search)\n",
    "\n",
    "for match in matches:\n",
    "    print(match)"
   ]
  },
  {
   "cell_type": "code",
   "execution_count": 16,
   "id": "3de972ea",
   "metadata": {
    "collapsed": true
   },
   "outputs": [
    {
     "name": "stdout",
     "output_type": "stream",
     "text": [
      "<re.Match object; span=(0, 1), match='\\n'>\n",
      "<re.Match object; span=(1, 2), match='a'>\n",
      "<re.Match object; span=(2, 3), match='b'>\n",
      "<re.Match object; span=(3, 4), match='c'>\n",
      "<re.Match object; span=(4, 5), match='d'>\n",
      "<re.Match object; span=(5, 6), match='e'>\n",
      "<re.Match object; span=(6, 7), match='f'>\n",
      "<re.Match object; span=(7, 8), match='g'>\n",
      "<re.Match object; span=(8, 9), match='h'>\n",
      "<re.Match object; span=(9, 10), match='i'>\n",
      "<re.Match object; span=(10, 11), match='j'>\n",
      "<re.Match object; span=(11, 12), match='k'>\n",
      "<re.Match object; span=(12, 13), match='l'>\n",
      "<re.Match object; span=(13, 14), match='m'>\n",
      "<re.Match object; span=(14, 15), match='n'>\n",
      "<re.Match object; span=(15, 16), match='o'>\n",
      "<re.Match object; span=(16, 17), match='p'>\n",
      "<re.Match object; span=(17, 18), match='q'>\n",
      "<re.Match object; span=(18, 19), match='r'>\n",
      "<re.Match object; span=(19, 20), match='s'>\n",
      "<re.Match object; span=(20, 21), match='t'>\n",
      "<re.Match object; span=(21, 22), match='u'>\n",
      "<re.Match object; span=(22, 23), match='v'>\n",
      "<re.Match object; span=(23, 24), match='w'>\n",
      "<re.Match object; span=(24, 25), match='x'>\n",
      "<re.Match object; span=(25, 26), match='y'>\n",
      "<re.Match object; span=(26, 27), match='z'>\n",
      "<re.Match object; span=(27, 28), match='A'>\n",
      "<re.Match object; span=(28, 29), match='B'>\n",
      "<re.Match object; span=(29, 30), match='C'>\n",
      "<re.Match object; span=(30, 31), match='D'>\n",
      "<re.Match object; span=(31, 32), match='E'>\n",
      "<re.Match object; span=(32, 33), match='F'>\n",
      "<re.Match object; span=(33, 34), match='G'>\n",
      "<re.Match object; span=(34, 35), match='H'>\n",
      "<re.Match object; span=(35, 36), match='I'>\n",
      "<re.Match object; span=(36, 37), match='J'>\n",
      "<re.Match object; span=(37, 38), match='K'>\n",
      "<re.Match object; span=(38, 39), match='L'>\n",
      "<re.Match object; span=(39, 40), match='M'>\n",
      "<re.Match object; span=(40, 41), match='N'>\n",
      "<re.Match object; span=(41, 42), match='O'>\n",
      "<re.Match object; span=(42, 43), match='P'>\n",
      "<re.Match object; span=(43, 44), match='Q'>\n",
      "<re.Match object; span=(44, 45), match='R'>\n",
      "<re.Match object; span=(45, 46), match='S'>\n",
      "<re.Match object; span=(46, 47), match='T'>\n",
      "<re.Match object; span=(47, 48), match='U'>\n",
      "<re.Match object; span=(48, 49), match='V'>\n",
      "<re.Match object; span=(49, 50), match='W'>\n",
      "<re.Match object; span=(50, 51), match='X'>\n",
      "<re.Match object; span=(51, 52), match='Y'>\n",
      "<re.Match object; span=(52, 53), match='Z'>\n",
      "<re.Match object; span=(53, 54), match='\\n'>\n",
      "<re.Match object; span=(54, 55), match='.'>\n",
      "<re.Match object; span=(55, 56), match='\\n'>\n",
      "<re.Match object; span=(66, 67), match='\\n'>\n"
     ]
    }
   ],
   "source": [
    "pattern = re.compile(r\"\\D\")    # Matches any character that is NOT a digit\n",
    "\n",
    "matches = pattern.finditer(text_to_search)\n",
    "\n",
    "for match in matches:\n",
    "    print(match)"
   ]
  },
  {
   "cell_type": "code",
   "execution_count": 8,
   "id": "7c432220",
   "metadata": {},
   "outputs": [
    {
     "name": "stdout",
     "output_type": "stream",
     "text": [
      "<re.Match object; span=(1, 10), match='9108 1023'>\n",
      "<re.Match object; span=(11, 20), match='9384 7438'>\n",
      "<re.Match object; span=(21, 30), match='9741 8345'>\n",
      "<re.Match object; span=(31, 40), match='8834 2934'>\n"
     ]
    }
   ],
   "source": [
    "phonebook = \"\"\"\n",
    "9108 1023\n",
    "9384 7438\n",
    "9741 8345\n",
    "8834 2934\n",
    "\"\"\"\n",
    "\n",
    "pattern = re.compile(r\"\\d{4}\\s\\d{4}\")    # Matches any phone number with the format \"XXXX XXXX\"\n",
    "\n",
    "matches = pattern.finditer(phonebook)\n",
    "\n",
    "for match in matches:\n",
    "    print(match)"
   ]
  },
  {
   "cell_type": "markdown",
   "id": "8f8757d5",
   "metadata": {},
   "source": [
    "<h2>Word Boundary</h2>"
   ]
  },
  {
   "cell_type": "code",
   "execution_count": 20,
   "id": "a238a73e",
   "metadata": {},
   "outputs": [
    {
     "name": "stdout",
     "output_type": "stream",
     "text": [
      "<re.Match object; span=(67, 69), match='Ha'>\n",
      "<re.Match object; span=(70, 72), match='Ha'>\n",
      "<re.Match object; span=(75, 77), match='Ha'>\n"
     ]
    }
   ],
   "source": [
    "pattern = re.compile(r\"\\bHa\")    # Matches \"Ha\" that are word boundaries\n",
    "\n",
    "matches = pattern.finditer(text_to_search)\n",
    "\n",
    "for match in matches:\n",
    "    print(match)"
   ]
  },
  {
   "cell_type": "code",
   "execution_count": 19,
   "id": "bccbb871",
   "metadata": {},
   "outputs": [
    {
     "name": "stdout",
     "output_type": "stream",
     "text": [
      "<re.Match object; span=(72, 74), match='Ha'>\n"
     ]
    }
   ],
   "source": [
    "pattern = re.compile(r\"\\BHa\")    # Matches \"Ha\" that are NOT word boundaries\n",
    "\n",
    "matches = pattern.finditer(text_to_search)\n",
    "\n",
    "for match in matches:\n",
    "    print(match)"
   ]
  },
  {
   "cell_type": "markdown",
   "id": "d31fac83",
   "metadata": {},
   "source": [
    "<h1>Anchors</h1>"
   ]
  },
  {
   "cell_type": "code",
   "execution_count": 25,
   "id": "ef4f57fe",
   "metadata": {},
   "outputs": [
    {
     "name": "stdout",
     "output_type": "stream",
     "text": [
      "<re.Match object; span=(0, 3), match='The'>\n"
     ]
    }
   ],
   "source": [
    "sentence = \"The quick brown fox jumped over the lazy dog.\"\n",
    "\n",
    "pattern = re.compile(r\"^The\")    # Checks if \"The\" can be found at the start of the string\n",
    "\n",
    "matches = pattern.finditer(sentence)\n",
    "\n",
    "for match in matches:\n",
    "    print(match)"
   ]
  },
  {
   "cell_type": "code",
   "execution_count": 28,
   "id": "dcf5fcd1",
   "metadata": {},
   "outputs": [
    {
     "name": "stdout",
     "output_type": "stream",
     "text": [
      "<re.Match object; span=(41, 45), match='dog.'>\n"
     ]
    }
   ],
   "source": [
    "sentence = \"The quick brown fox jumped over the lazy dog.\"\n",
    "\n",
    "pattern = re.compile(r\"dog\\.$\")    # Checks if \"dog.\" can be found at the start of the string\n",
    "\n",
    "matches = pattern.finditer(sentence)\n",
    "\n",
    "for match in matches:\n",
    "    print(match)"
   ]
  },
  {
   "cell_type": "markdown",
   "id": "b7ee3ea4",
   "metadata": {},
   "source": [
    "<h1>Character Sets</h1>"
   ]
  },
  {
   "cell_type": "code",
   "execution_count": 18,
   "id": "76803007",
   "metadata": {
    "collapsed": true
   },
   "outputs": [
    {
     "name": "stdout",
     "output_type": "stream",
     "text": [
      "<re.Match object; span=(0, 1), match='\\n'>\n",
      "<re.Match object; span=(53, 54), match='\\n'>\n",
      "<re.Match object; span=(54, 55), match='.'>\n",
      "<re.Match object; span=(55, 56), match='\\n'>\n",
      "<re.Match object; span=(56, 57), match='1'>\n",
      "<re.Match object; span=(57, 58), match='2'>\n",
      "<re.Match object; span=(58, 59), match='3'>\n",
      "<re.Match object; span=(59, 60), match='4'>\n",
      "<re.Match object; span=(60, 61), match='5'>\n",
      "<re.Match object; span=(61, 62), match='6'>\n",
      "<re.Match object; span=(62, 63), match='7'>\n",
      "<re.Match object; span=(63, 64), match='8'>\n",
      "<re.Match object; span=(64, 65), match='9'>\n",
      "<re.Match object; span=(65, 66), match='0'>\n",
      "<re.Match object; span=(66, 67), match='\\n'>\n",
      "<re.Match object; span=(69, 70), match=' '>\n",
      "<re.Match object; span=(74, 75), match=' '>\n",
      "<re.Match object; span=(81, 82), match='\\n'>\n"
     ]
    }
   ],
   "source": [
    "pattern = re.compile(r\"[^a-zA-z]\")    # Matches anything that is not an alphabet\n",
    "\n",
    "matches = pattern.finditer(text_to_search)\n",
    "\n",
    "for match in matches:\n",
    "    print(match)"
   ]
  },
  {
   "cell_type": "code",
   "execution_count": 20,
   "id": "3894333f",
   "metadata": {},
   "outputs": [
    {
     "name": "stdout",
     "output_type": "stream",
     "text": [
      "<re.Match object; span=(56, 57), match='1'>\n",
      "<re.Match object; span=(57, 58), match='2'>\n",
      "<re.Match object; span=(58, 59), match='3'>\n",
      "<re.Match object; span=(59, 60), match='4'>\n",
      "<re.Match object; span=(60, 61), match='5'>\n",
      "<re.Match object; span=(61, 62), match='6'>\n",
      "<re.Match object; span=(62, 63), match='7'>\n",
      "<re.Match object; span=(63, 64), match='8'>\n",
      "<re.Match object; span=(64, 65), match='9'>\n"
     ]
    }
   ],
   "source": [
    "pattern = re.compile(r\"[1-9]\")    # Matches anything that is a number\n",
    "\n",
    "matches = pattern.finditer(text_to_search)\n",
    "\n",
    "for match in matches:\n",
    "    print(match)"
   ]
  },
  {
   "cell_type": "markdown",
   "id": "3be596f7",
   "metadata": {},
   "source": [
    "<h1>Quantifiers and Groups</h1>"
   ]
  },
  {
   "cell_type": "code",
   "execution_count": 102,
   "id": "7b0f8d83",
   "metadata": {
    "collapsed": true
   },
   "outputs": [
    {
     "name": "stdout",
     "output_type": "stream",
     "text": [
      "1 Mr. Tickle (August 1971)\n",
      "2 Mr. Greedy (August 1971)\n",
      "3 Mr. Happy (August 1971)\n",
      "4 Mr. Nosey (August 1971)\n",
      "5 Mr. Sneeze (August 1971)\n",
      "6 Mr. Bump (August 1971)\n",
      "7 Mr. Snow (November 1971)\n",
      "8 Mr. Messy (August 1972)\n",
      "9 Mr. Topsy-Turvy (August 1972)\n",
      "10 Mr. Silly (August 1972)\n",
      "11 Mr. Uppity (August 1972)\n",
      "12 Mr. Small (August 1972)\n",
      "13 Mr. Daydream (August 1972)\n",
      "14 Mr. Forgetful (January 1976)\n",
      "15 Mr. Jelly (January 1976)\n",
      "16 Mr. Noisy (January 1976)\n",
      "17 Mr. Lazy (January 1976)\n",
      "18 Mr. Funny (January 1976)\n",
      "19 Mr. Mean (January 1976)\n",
      "20 Mr. Chatterbox (January 1976)\n",
      "21 Mr. Fussy (April 1976)\n",
      "22 Mr. Bounce (April 1976)\n",
      "23 Mr. Muddle (April 1976)\n",
      "24 Mr. Dizzy (April 1976)\n",
      "25 Mr. Impossible (April 1976)\n",
      "26 Mr. Strong (April 1976)\n",
      "27 Mr. Grumpy (March 1978)\n",
      "28 Mr. Clumsy (March 1978)\n",
      "29 Mr. Quiet (March 1978)\n",
      "30 Mr. Rush (March 1978)\n",
      "31 Mr. Tall (March 1978)\n",
      "32 Mr. Worry (March 1978)\n",
      "33 Mr. Nonsense (March 1978)\n",
      "34 Mr. Wrong (March 1978)\n",
      "35 Mr. Skinny (March 1978)\n",
      "36 Mr. Mischief (March 1978)\n",
      "37 Mr. Clever (March 1978)\n",
      "38 Mr. Busy (March 1978)\n",
      "39 Mr. Slow (October 1978)\n",
      "40 Mr. Christmas (1984)\n",
      "41 Mr. Brave (1990)\n",
      "42 Mr. Grumble (May 1990)\n",
      "43 Mr. Perfect (May 1990)\n",
      "44 Mr. Cheerful (May 1990)\n",
      "45 Mr. Cool (April 2003)\n",
      "46 Mr. Rude (April 2003)\n",
      "47 Mr. Good (September 2003)\n",
      "48 Mr. Nobody (1985/\n",
      "49 Mr. Christmas (2002)\n",
      "50 Mr. Birthday (2006)\n",
      "51 Mr. Mo (2013)\n",
      "52 Mr. Marvelous (2016)\n",
      "53 Mr. Adventure (2017)\n",
      "54 Mr. Calm (September 2021)\n",
      "55 Little Miss Bossy (September 1981)\n",
      "56 Little Miss Naughty (September 1981)\n",
      "57 Little Miss Neat (September 1981)\n",
      "58 Little Miss Sunshine (September 1981)\n",
      "59 Little Miss Tiny (September 1981)\n",
      "60 Little Miss Trouble (September 1981)\n",
      "61 Little Miss Helpful (September 1981)\n",
      "62 Little Miss Magic (September 1981)\n",
      "63 Little Miss Shy (September 1981)\n",
      "64 Little Miss Splendid (September 1981)\n",
      "65 Little Miss Late (September 1981)\n",
      "66 Little Miss Scatterbrain (September 1981)\n",
      "67 Little Miss Greedy (September 1981 \n",
      "68 Little Miss Giggles (1984)\n",
      "69 Little Miss Twins (1984)\n",
      "70 Little Miss Chatterbox (January 1984)\n",
      "71 Little Miss Dotty (1984 (\n",
      "72 Little Miss Lucky (1984)\n",
      "73 Little Miss Star (1984)\n",
      "74 Little Miss Fickle (1984)\n",
      "75 Little Miss Contrary (February 1984)\n",
      "76 Little Miss Busy (January 1990)\n",
      "77 Little Miss Quick (1990)\n",
      "78 Little Miss Wise (1990)\n",
      "79 Little Miss Tidy (1990)\n",
      "80 Little Miss Brainy (January 1990)\n",
      "81 Little Miss Stubborn (1990)\n",
      "82 Little Miss Curious (1990)\n",
      "83 Little Miss Fun (1990)\n",
      "84 Little Miss Somersault (1990)\n",
      "85 Little Miss Scary (April 2003)\n",
      "86 Little Miss Bad (April 2003)\n",
      "87 Little Miss Whoops (September 2003)\n",
      "88 Little Miss Princess (March 2011)\n",
      "89 Little Miss Christmas (2005)\n",
      "90 Little Miss Birthday (2006)\n",
      "91 Little Miss Hug (May 2014)\n",
      "92 Little Miss Fabulous (2016)\n",
      "93 Little Miss Sparkle (2016)\n",
      "94 Little Miss Inventor (2018)\n",
      "95 Little Miss Explorer (2018)\n",
      "96 Little Miss Valentine (2019)\n",
      "97 Little Miss Brave (September 2021)\n"
     ]
    }
   ],
   "source": [
    "with open(\"Mr Men and Little Miss.txt\", \"r\", encoding=\"utf-8\") as f:\n",
    "    names = f.read()\n",
    "    \n",
    "    pattern = re.compile(r\"(Mr|Little Miss)\\.?\\s[A-Z]\\w*-?\\w*\\s.[\\w|\\d]+\\s?\\d*.\")    # Matches \"Mr|Mrs. Name (Date)\"\n",
    "    \n",
    "    matches = pattern.finditer(names)\n",
    "    \n",
    "    counter = 1\n",
    "    for match in matches:\n",
    "        counter, print(counter, match.group(0))    # Prints out numbered \"list\" of pattern found\n",
    "        counter += 1"
   ]
  },
  {
   "cell_type": "markdown",
   "id": "91484492",
   "metadata": {},
   "source": [
    "<h2>Substitution</h2>"
   ]
  },
  {
   "cell_type": "code",
   "execution_count": 61,
   "id": "808db0d6",
   "metadata": {
    "collapsed": true
   },
   "outputs": [
    {
     "name": "stdout",
     "output_type": "stream",
     "text": [
      "MR/MRS Tickle (August 1971) (ISBN 0-8539-6003-8) (March 1978) (ISBN 0-8598-5090-0)\n",
      "MR/MRS Greedy (August 1971) (ISBN 0-8539-6000-3) (March 1978) (ISBN 0-8598-5084-6)\n",
      "MR/MRS Happy (August 1971) (ISBN 0-8539-6001-1) (March 1978) (ISBN 0-8598-5091-9)\n",
      "MR/MRS Nosey (August 1971) (ISBN 0-8539-6002-X) (March 1978) (ISBN 0-8598-5085-4)\n",
      "MR/MRS Sneeze (August 1971) (ISBN 0-8539-6004-6) (March 1978) (ISBN 0-8598-5086-2)\n",
      "MR/MRS Bump (August 1971) (ISBN 0-8539-6005-4) (March 1978) (ISBN 0-8598-5083-8)\n",
      "MR/MRS Snow (November 1971) (ISBN 0-8539-6008-9) (March 1978) (ISBN 0-8598-5093-5)\n",
      "MR/MRS Messy (August 1972) (ISBN 0-8539-6017-8) (March 1978) (ISBN 0-8598-5081-1)\n",
      "MR/MRS Topsy-Turvy (August 1972) (ISBN 0-8539-6018-6) (March 1978) (ISBN 0-8598-5092-7)\n",
      "MR/MRS Silly (August 1972) (ISBN 0-8539-6019-4) (March 1978) (ISBN 0-8598-5082-X)\n",
      "MR/MRS Uppity (August 1972) (ISBN 0-8539-6020-8) (March 1978) (ISBN 0-8598-5087-0), renamed in 2021 to MR/MRS Snooty)\n",
      "MR/MRS Small (August 1972) (ISBN 0-8539-6021-6) (March 1978) (ISBN 0-8598-5088-9)\n",
      "MR/MRS Daydream (August 1972) (ISBN 0-8539-6022-4) (March 1978) (ISBN 0-8598-5089-7)\n",
      "MR/MRS Forgetful (January 1976) (ISBN 0-8598-5040-4)\n",
      "MR/MRS Jelly (January 1976) (ISBN 0-8598-5041-2), published in US as MR/MRS Nervous)\n",
      "MR/MRS Noisy (January 1976) (ISBN 0-8598-5042-0)\n",
      "MR/MRS Lazy (January 1976)(ISBN 0-8598-5043-9)\n",
      "MR/MRS Funny (January 1976) (ISBN 0-8598-5044-7)\n",
      "MR/MRS Mean (January 1976) (ISBN 0-8598-5045-5), published in US as MR/MRS Stingy)\n",
      "MR/MRS Chatterbox (January 1976) (ISBN 0-8598-5046-3)\n",
      "MR/MRS Fussy (April 1976) (ISBN 0-8598-5047-1)\n",
      "MR/MRS Bounce (April 1976) (ISBN 0-8598-5048-X)\n",
      "MR/MRS Muddle (April 1976)(ISBN 0-8598-5049-8)\n",
      "MR/MRS Dizzy (April 1976) (ISBN 0-8598-5050-1)\n",
      "MR/MRS Impossible (April 1976) (ISBN 0-8598-5051-X)\n",
      "MR/MRS Strong (April 1976) (ISBN 0-8598-5052-8)\n",
      "MR/MRS Grumpy (March 1978) (ISBN 0-8598-5094-3)\n",
      "MR/MRS Clumsy (March 1978) (ISBN 0-8598-5095-1)\n",
      "MR/MRS Quiet (March 1978) (ISBN 0-8598-5097-8)\n",
      "MR/MRS Rush (March 1978) (ISBN 0-8598-5098-6)\n",
      "MR/MRS Tall (March 1978) (ISBN 0-8598-5099-4)\n",
      "MR/MRS Worry (March 1978) (ISBN 0-8598-5100-1)\n",
      "MR/MRS Nonsense (March 1978) (ISBN 0-8598-5101-X)\n",
      "MR/MRS Wrong (March 1978) (ISBN 0-8598-5102-8)\n",
      "MR/MRS Skinny (March 1978) (ISBN 0-8598-5103-6)\n",
      "MR/MRS Mischief (March 1978) (ISBN 0-8598-5104-4)\n",
      "MR/MRS Clever (March 1978) (ISBN 0-8598-5105-2)\n",
      "MR/MRS Busy (March 1978) (ISBN 0-8598-5106-0)\n",
      "MR/MRS Slow (October 1978) (ISBN 0-8598-5096-X)\n",
      "MR/MRS Christmas (1984) (ISBN 0-8598-5220-2)\n",
      "MR/MRS Brave (1990)\n",
      "MR/MRS Grumble (May 1990)\n",
      "MR/MRS Perfect (May 1990)\n",
      "MR/MRS Cheerful (May 1990)\n",
      "MR/MRS Cool (April 2003)\n",
      "MR/MRS Rude (April 2003)\n",
      "MR/MRS Good (September 2003)\n",
      "MR/MRS Nobody (1985/March 2010)\n",
      "MR/MRS Christmas (2002)\n",
      "MR/MRS Birthday (2006)\n",
      "MR/MRS Mo (2013)[11] (renamed later to MR/MRS Moustache)\n",
      "MR/MRS Marvelous (2016)\n",
      "MR/MRS Adventure (2017)\n",
      "MR/MRS Calm (September 2021)\n",
      "\n",
      "MR/MRS Bossy (September 1981) (ISBN 0-8598-5182-6)\n",
      "MR/MRS Naughty (September 1981) (ISBN 0-8598-5179-6)\n",
      "MR/MRS Neat (September 1981) (ISBN 0-8598-5181-8)\n",
      "MR/MRS Sunshine (September 1981) (ISBN 0-8598-5183-4)\n",
      "MR/MRS Tiny (September 1981) (ISBN 0-8598-5186-9)\n",
      "MR/MRS Trouble (September 1981) (ISBN 0-8598-5178-8)\n",
      "MR/MRS Helpful (September 1981) (ISBN 0-8598-5185-0)\n",
      "MR/MRS Magic (September 1981) (ISBN 0-8598-5198-2)\n",
      "MR/MRS Shy (September 1981) (ISBN 0-8598-5189-3)\n",
      "MR/MRS Splendid (September 1981) (ISBN 0-8598-5180-X)\n",
      "MR/MRS Late (September 1981) (ISBN 0-8598-5184-2)\n",
      "MR/MRS Scatterbrain (September 1981) (ISBN 0-8598-5187-7)\n",
      "MR/MRS Greedy (September 1981 (ISBN 0-8598-5188-5), originally published as MR/MRS Plump)\n",
      "MR/MRS Giggles (1984) (ISBN 0-8598-5211-3)\n",
      "MR/MRS Twins (1984) (ISBN 0-8598-5212-1)\n",
      "MR/MRS Chatterbox (January 1984) (ISBN 0-8598-5216-4)\n",
      "MR/MRS Dotty (1984 (ISBN 0-8598-5213-X), published in US as MR/MRS Ditzy)\n",
      "MR/MRS Lucky (1984) (ISBN 0-8598-5218-0)\n",
      "MR/MRS Star (1984)(ISBN 0-8598-5215-6)\n",
      "MR/MRS Fickle (1984) (ISBN 0-8598-5217-2)\n",
      "MR/MRS Contrary (February 1984) (ISBN 0-8598-5214-8)\n",
      "MR/MRS Busy (January 1990)\n",
      "MR/MRS Quick (1990)\n",
      "MR/MRS Wise (1990)\n",
      "MR/MRS Tidy (1990)\n",
      "MR/MRS Brainy (January 1990)\n",
      "MR/MRS Stubborn (1990)\n",
      "MR/MRS Curious (1990)\n",
      "MR/MRS Fun (1990)\n",
      "MR/MRS Somersault (1990)\n",
      "MR/MRS Scary (April 2003)\n",
      "MR/MRS Bad (April 2003)\n",
      "MR/MRS Whoops (September 2003)\n",
      "MR/MRS Princess (March 2011)\n",
      "MR/MRS Christmas (2005)\n",
      "MR/MRS Birthday (2006)\n",
      "MR/MRS Hug (May 2014)\n",
      "MR/MRS Fabulous (2016)\n",
      "MR/MRS Sparkle (2016)\n",
      "MR/MRS Inventor (2018)\n",
      "MR/MRS Explorer (2018)\n",
      "MR/MRS Valentine (2019) (ISBN 978-1-524-79360-9)\n",
      "MR/MRS Brave (September 2021)\n"
     ]
    }
   ],
   "source": [
    "with open(\"Mr Men and Little Miss.txt\", \"r\", encoding=\"utf-8\") as f:\n",
    "    names = f.read()\n",
    "    \n",
    "    pattern = re.compile(r\"(Mr\\.|Little Miss)\")    # Matches \"Mr|Mrs\"\n",
    "    \n",
    "    subbed = pattern.sub(\"MR/MRS\", names)\n",
    "    print(subbed)"
   ]
  },
  {
   "cell_type": "markdown",
   "id": "1f84e305",
   "metadata": {},
   "source": [
    "<h1>Other Functions</h1>"
   ]
  },
  {
   "cell_type": "code",
   "execution_count": 74,
   "id": "a69d08ed",
   "metadata": {},
   "outputs": [
    {
     "name": "stdout",
     "output_type": "stream",
     "text": [
      "<re.Match object; span=(0, 10), match='Mr. Tickle'>\n"
     ]
    }
   ],
   "source": [
    "with open(\"Mr Men and Little Miss.txt\", \"r\", encoding=\"utf-8\") as f:\n",
    "    names = f.read()\n",
    "    \n",
    "    pattern = re.compile(r\"((Mr|Little Miss)\\.?\\s[A-Z]\\w*-?\\w*)\")    # Matches \"Mr|Mrs. Name\"\n",
    "    \n",
    "    matches = pattern.match(names)    # Matches patterns at beginning of strings\n",
    "    \n",
    "    print(matches)"
   ]
  },
  {
   "cell_type": "markdown",
   "id": "71e98023",
   "metadata": {},
   "source": [
    "<h2>Findall</h2>"
   ]
  },
  {
   "cell_type": "code",
   "execution_count": 72,
   "id": "68308ca3",
   "metadata": {
    "collapsed": true
   },
   "outputs": [
    {
     "name": "stdout",
     "output_type": "stream",
     "text": [
      "Mr. Tickle\n",
      "Mr. Greedy\n",
      "Mr. Happy\n",
      "Mr. Nosey\n",
      "Mr. Sneeze\n",
      "Mr. Bump\n",
      "Mr. Snow\n",
      "Mr. Messy\n",
      "Mr. Topsy-Turvy\n",
      "Mr. Silly\n",
      "Mr. Uppity\n",
      "Mr. Snooty\n",
      "Mr. Small\n",
      "Mr. Daydream\n",
      "Mr. Forgetful\n",
      "Mr. Jelly\n",
      "Mr. Nervous\n",
      "Mr. Noisy\n",
      "Mr. Lazy\n",
      "Mr. Funny\n",
      "Mr. Mean\n",
      "Mr. Stingy\n",
      "Mr. Chatterbox\n",
      "Mr. Fussy\n",
      "Mr. Bounce\n",
      "Mr. Muddle\n",
      "Mr. Dizzy\n",
      "Mr. Impossible\n",
      "Mr. Strong\n",
      "Mr. Grumpy\n",
      "Mr. Clumsy\n",
      "Mr. Quiet\n",
      "Mr. Rush\n",
      "Mr. Tall\n",
      "Mr. Worry\n",
      "Mr. Nonsense\n",
      "Mr. Wrong\n",
      "Mr. Skinny\n",
      "Mr. Mischief\n",
      "Mr. Clever\n",
      "Mr. Busy\n",
      "Mr. Slow\n",
      "Mr. Christmas\n",
      "Mr. Brave\n",
      "Mr. Grumble\n",
      "Mr. Perfect\n",
      "Mr. Cheerful\n",
      "Mr. Cool\n",
      "Mr. Rude\n",
      "Mr. Good\n",
      "Mr. Nobody\n",
      "Mr. Christmas\n",
      "Mr. Birthday\n",
      "Mr. Mo\n",
      "Mr. Moustache\n",
      "Mr. Marvelous\n",
      "Mr. Adventure\n",
      "Mr. Calm\n",
      "Little Miss Bossy\n",
      "Little Miss Naughty\n",
      "Little Miss Neat\n",
      "Little Miss Sunshine\n",
      "Little Miss Tiny\n",
      "Little Miss Trouble\n",
      "Little Miss Helpful\n",
      "Little Miss Magic\n",
      "Little Miss Shy\n",
      "Little Miss Splendid\n",
      "Little Miss Late\n",
      "Little Miss Scatterbrain\n",
      "Little Miss Greedy\n",
      "Little Miss Plump\n",
      "Little Miss Giggles\n",
      "Little Miss Twins\n",
      "Little Miss Chatterbox\n",
      "Little Miss Dotty\n",
      "Little Miss Ditzy\n",
      "Little Miss Lucky\n",
      "Little Miss Star\n",
      "Little Miss Fickle\n",
      "Little Miss Contrary\n",
      "Little Miss Busy\n",
      "Little Miss Quick\n",
      "Little Miss Wise\n",
      "Little Miss Tidy\n",
      "Little Miss Brainy\n",
      "Little Miss Stubborn\n",
      "Little Miss Curious\n",
      "Little Miss Fun\n",
      "Little Miss Somersault\n",
      "Little Miss Scary\n",
      "Little Miss Bad\n",
      "Little Miss Whoops\n",
      "Little Miss Princess\n",
      "Little Miss Christmas\n",
      "Little Miss Birthday\n",
      "Little Miss Hug\n",
      "Little Miss Fabulous\n",
      "Little Miss Sparkle\n",
      "Little Miss Inventor\n",
      "Little Miss Explorer\n",
      "Little Miss Valentine\n",
      "Little Miss Brave\n"
     ]
    }
   ],
   "source": [
    "with open(\"Mr Men and Little Miss.txt\", \"r\", encoding=\"utf-8\") as f:\n",
    "    names = f.read()\n",
    "    \n",
    "    pattern = re.compile(r\"((Mr|Little Miss)\\.?\\s[A-Z]\\w*-?\\w*)\")    # Matches \"Mr|Mrs. Name\"\n",
    "    \n",
    "    matches = pattern.findall(names)\n",
    "    \n",
    "    for match in matches:\n",
    "        print(match[0])"
   ]
  },
  {
   "cell_type": "markdown",
   "id": "8ce1a361",
   "metadata": {},
   "source": [
    "<h2>Match</h2>"
   ]
  },
  {
   "cell_type": "code",
   "execution_count": 78,
   "id": "e205926d",
   "metadata": {},
   "outputs": [
    {
     "name": "stdout",
     "output_type": "stream",
     "text": [
      "None\n"
     ]
    }
   ],
   "source": [
    "with open(\"Mr Men and Little Miss.txt\", \"r\", encoding=\"utf-8\") as f:\n",
    "    names = f.read()\n",
    "    \n",
    "    pattern = re.compile(r\"Mr. Happy\")\n",
    "    \n",
    "    matches = pattern.match(names)    # Matches patterns at beginning of strings\n",
    "    \n",
    "    print(matches)"
   ]
  },
  {
   "cell_type": "markdown",
   "id": "6fc922b9",
   "metadata": {},
   "source": [
    "<h2>Search</h2>"
   ]
  },
  {
   "cell_type": "code",
   "execution_count": 80,
   "id": "e5146d7d",
   "metadata": {},
   "outputs": [
    {
     "name": "stdout",
     "output_type": "stream",
     "text": [
      "<re.Match object; span=(160, 169), match='Mr. Happy'>\n"
     ]
    }
   ],
   "source": [
    "with open(\"Mr Men and Little Miss.txt\", \"r\", encoding=\"utf-8\") as f:\n",
    "    names = f.read()\n",
    "    \n",
    "    pattern = re.compile(r\"Mr. Happy\")\n",
    "    \n",
    "    matches = pattern.search(names)    # Matches first instance of pattern in string\n",
    "    \n",
    "    print(matches)"
   ]
  },
  {
   "cell_type": "markdown",
   "id": "4ab63cb1",
   "metadata": {},
   "source": [
    "<h1>Flags</h1>"
   ]
  },
  {
   "cell_type": "code",
   "execution_count": 84,
   "id": "bd09243a",
   "metadata": {},
   "outputs": [
    {
     "name": "stdout",
     "output_type": "stream",
     "text": [
      "<re.Match object; span=(12, 13), match='l'>\n",
      "<re.Match object; span=(38, 39), match='L'>\n"
     ]
    }
   ],
   "source": [
    "pattern = re.compile(r\"l\", re.IGNORECASE)\n",
    "\n",
    "matches = pattern.finditer(text_to_search)\n",
    "\n",
    "for match in matches:\n",
    "    print(match)"
   ]
  }
 ],
 "metadata": {
  "kernelspec": {
   "display_name": "Python 3",
   "language": "python",
   "name": "python3"
  },
  "language_info": {
   "codemirror_mode": {
    "name": "ipython",
    "version": 3
   },
   "file_extension": ".py",
   "mimetype": "text/x-python",
   "name": "python",
   "nbconvert_exporter": "python",
   "pygments_lexer": "ipython3",
   "version": "3.8.8"
  }
 },
 "nbformat": 4,
 "nbformat_minor": 5
}
