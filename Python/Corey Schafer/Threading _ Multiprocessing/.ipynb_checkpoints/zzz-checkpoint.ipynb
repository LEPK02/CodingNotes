{
 "cells": [
  {
   "cell_type": "code",
   "execution_count": null,
   "id": "9a0fbe05",
   "metadata": {},
   "outputs": [],
   "source": [
    "def zzz(seconds):\n",
    "    print(f\"Sleeping {seconds} second(s)...\")\n",
    "    time.sleep(seconds)\n",
    "    return \"Done sleeping!\""
   ]
  }
 ],
 "metadata": {
  "kernelspec": {
   "display_name": "Python 3",
   "language": "python",
   "name": "python3"
  },
  "language_info": {
   "codemirror_mode": {
    "name": "ipython",
    "version": 3
   },
   "file_extension": ".py",
   "mimetype": "text/x-python",
   "name": "python",
   "nbconvert_exporter": "python",
   "pygments_lexer": "ipython3",
   "version": "3.8.8"
  }
 },
 "nbformat": 4,
 "nbformat_minor": 5
}
