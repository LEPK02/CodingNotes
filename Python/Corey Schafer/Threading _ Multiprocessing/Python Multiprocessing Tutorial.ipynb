{
 "cells": [
  {
   "cell_type": "code",
   "execution_count": 5,
   "id": "bbc0c64c",
   "metadata": {},
   "outputs": [
    {
     "name": "stdout",
     "output_type": "stream",
     "text": [
      "Number of processors:  4\n",
      "Done in 1.65 second(s).\n"
     ]
    }
   ],
   "source": [
    "import time\n",
    "import multiprocessing\n",
    "from zzz import zzz\n",
    "\n",
    "start = time.perf_counter()\n",
    "\n",
    "print(\"Number of processors: \", multiprocessing.cpu_count())\n",
    "\n",
    "processes = []\n",
    "\n",
    "for _ in range(10):\n",
    "    p = multiprocessing.Process(target=zzz, args=[1])\n",
    "    processes.append(p)\n",
    "    p.start()\n",
    "\n",
    "for process in processes:\n",
    "    process.join()\n",
    "\n",
    "finish = time.perf_counter()\n",
    "\n",
    "print(f\"Done in {round(finish-start, 2)} second(s).\")"
   ]
  },
  {
   "cell_type": "markdown",
   "id": "fcce00aa",
   "metadata": {},
   "source": [
    "<p>Process pull executor</p>"
   ]
  },
  {
   "cell_type": "code",
   "execution_count": 8,
   "id": "9839ff98",
   "metadata": {},
   "outputs": [
    {
     "name": "stdout",
     "output_type": "stream",
     "text": [
      "Done sleeping for 2 seconds!\n",
      "Done sleeping for 3 seconds!\n",
      "Done sleeping for 1 seconds!\n",
      "Done sleeping for 4 seconds!\n",
      "Done sleeping for 5 seconds!\n",
      "Done in 5.38 second(s).\n"
     ]
    }
   ],
   "source": [
    "import time\n",
    "import concurrent.futures\n",
    "from zzz import zzz\n",
    "\n",
    "start = time.perf_counter()\n",
    "\n",
    "# Returns results in the order in which they were completed\n",
    "with concurrent.futures.ProcessPoolExecutor() as executor:\n",
    "    results = [executor.submit(zzz, i) for i in range(5, 0, -1)]\n",
    "    \n",
    "    for f in concurrent.futures.as_completed(results):\n",
    "        print(f.result())\n",
    "\n",
    "finish = time.perf_counter()\n",
    "\n",
    "print(f\"Done in {round(finish-start, 2)} second(s).\")"
   ]
  },
  {
   "cell_type": "code",
   "execution_count": 9,
   "id": "c301fcd4",
   "metadata": {},
   "outputs": [
    {
     "name": "stdout",
     "output_type": "stream",
     "text": [
      "Done sleeping for 5 seconds!\n",
      "Done sleeping for 4 seconds!\n",
      "Done sleeping for 3 seconds!\n",
      "Done sleeping for 2 seconds!\n",
      "Done sleeping for 1 seconds!\n",
      "Done in 5.36 second(s).\n"
     ]
    }
   ],
   "source": [
    "import time\n",
    "import concurrent.futures\n",
    "from zzz import zzz\n",
    "\n",
    "start = time.perf_counter()\n",
    "\n",
    "# Returns results in the order in which they were started\n",
    "with concurrent.futures.ProcessPoolExecutor() as executor:\n",
    "    results = executor.map(zzz, range(5, 0, -1))\n",
    "    \n",
    "    for results in results:\n",
    "        print(results)\n",
    "\n",
    "finish = time.perf_counter()\n",
    "\n",
    "print(f\"Done in {round(finish-start, 2)} second(s).\")"
   ]
  }
 ],
 "metadata": {
  "kernelspec": {
   "display_name": "Python 3",
   "language": "python",
   "name": "python3"
  },
  "language_info": {
   "codemirror_mode": {
    "name": "ipython",
    "version": 3
   },
   "file_extension": ".py",
   "mimetype": "text/x-python",
   "name": "python",
   "nbconvert_exporter": "python",
   "pygments_lexer": "ipython3",
   "version": "3.8.8"
  }
 },
 "nbformat": 4,
 "nbformat_minor": 5
}
