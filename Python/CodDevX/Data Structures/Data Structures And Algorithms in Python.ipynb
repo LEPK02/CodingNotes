{
 "cells": [
  {
   "cell_type": "markdown",
   "id": "b7cee1e4",
   "metadata": {},
   "source": [
    "<h1>Data Structures And Algorithms in Python - Python Data Structures Full Tutorial (2020) by CodDevX</h1>\n",
    "<p>View the Youtube video <a href = \"https://www.youtube.com/watch?v=kQDxmjfkIKY&ab_channel=CodDevX\">here</a>.</p>"
   ]
  },
  {
   "cell_type": "markdown",
   "id": "72002d71",
   "metadata": {},
   "source": [
    "<h2>Basic Functions</h2>"
   ]
  },
  {
   "cell_type": "markdown",
   "id": "29b2b5f4",
   "metadata": {},
   "source": [
    "<p>enumerate()</p>"
   ]
  },
  {
   "cell_type": "code",
   "execution_count": 3,
   "id": "4a893693",
   "metadata": {},
   "outputs": [
    {
     "name": "stdout",
     "output_type": "stream",
     "text": [
      "chicken 1\n",
      "chicken 2\n",
      "chicken 3\n",
      "chicken 4\n",
      "chicken 5\n",
      "chicken 6\n",
      "chicken 7\n",
      "chicken 8\n",
      "chicken 9\n",
      "chicken 10\n"
     ]
    }
   ],
   "source": [
    "chickens = [\"chicken\" for i in range(10)]\n",
    "\n",
    "for index, item in enumerate(chickens):\n",
    "    print(f\"{item} {index + 1}\")"
   ]
  },
  {
   "cell_type": "markdown",
   "id": "705fd6bf",
   "metadata": {},
   "source": [
    "<p>min() and max()</p>"
   ]
  },
  {
   "cell_type": "code",
   "execution_count": 6,
   "id": "2c1b5094",
   "metadata": {},
   "outputs": [
    {
     "name": "stdout",
     "output_type": "stream",
     "text": [
      "chicken\n",
      "pig\n"
     ]
    }
   ],
   "source": [
    "animals = [\"dog\", \"pig\", \"cow\", \"horse\", \"chicken\"]\n",
    "\n",
    "print(min(animals))\n",
    "print(max(tuple(animals)))"
   ]
  },
  {
   "cell_type": "markdown",
   "id": "ac100e0a",
   "metadata": {},
   "source": [
    "<p>sum()</p>"
   ]
  },
  {
   "cell_type": "code",
   "execution_count": 8,
   "id": "37c3d920",
   "metadata": {},
   "outputs": [
    {
     "name": "stdout",
     "output_type": "stream",
     "text": [
      "18\n"
     ]
    }
   ],
   "source": [
    "print(sum(range(0, 10, 3)))"
   ]
  },
  {
   "cell_type": "markdown",
   "id": "2d3f8a05",
   "metadata": {},
   "source": [
    "<p>Sorting</p>"
   ]
  },
  {
   "cell_type": "code",
   "execution_count": 54,
   "id": "bd2e74bd",
   "metadata": {},
   "outputs": [
    {
     "name": "stdout",
     "output_type": "stream",
     "text": [
      "['chicken', 'cow', 'dog', 'horse', 'pig']\n",
      "None\n",
      "['pig', 'horse', 'dog', 'cow', 'chicken']\n",
      "['horse', 'pig', 'dog', 'chicken', 'cow']\n"
     ]
    }
   ],
   "source": [
    "animals = [\"dog\", \"pig\", \"cow\", \"horse\", \"chicken\"]\n",
    "\n",
    "# Out-of-place sort (in ascending order)\n",
    "sorted_animals = sorted(animals)\n",
    "print(sorted_animals)\n",
    "\n",
    "# Inplace sort (in descending order)\n",
    "hello = animals.sort(reverse=True)\n",
    "print(hello)\n",
    "print(animals)\n",
    "\n",
    "# Sort by second letter\n",
    "print(sorted(animals, key=lambda i : i[-1]))"
   ]
  },
  {
   "cell_type": "markdown",
   "id": "af04a999",
   "metadata": {},
   "source": [
    "<p>.count()</p>"
   ]
  },
  {
   "cell_type": "code",
   "execution_count": 21,
   "id": "ecce93ce",
   "metadata": {},
   "outputs": [
    {
     "name": "stdout",
     "output_type": "stream",
     "text": [
      "3\n"
     ]
    }
   ],
   "source": [
    "animals = (\"dog\", \"pig\", \"cow\", \"pig\", \"horse\", \"chicken\", \"pig\")\n",
    "\n",
    "print(animals.count(\"pig\"))"
   ]
  },
  {
   "cell_type": "markdown",
   "id": "04893879",
   "metadata": {},
   "source": [
    "<p>Searching</p>"
   ]
  },
  {
   "cell_type": "code",
   "execution_count": 31,
   "id": "990be230",
   "metadata": {},
   "outputs": [
    {
     "name": "stdout",
     "output_type": "stream",
     "text": [
      "0\n",
      "-1\n",
      "1\n",
      "'pork' not in list\n"
     ]
    }
   ],
   "source": [
    "animals = (\"dog\", \"pig\", \"cow\", \"pig\", \"horse\", \"chicken\", \"pig\")\n",
    "\n",
    "# Searching in strings\n",
    "print(\"piglet\".find(\"pig\"))\n",
    "print(\"animals\".find(\"pig\"))\n",
    "\n",
    "# Searching in lists/tuples\n",
    "print(animals.index(\"pig\"))\n",
    "\n",
    "try:\n",
    "    print(animals.index(\"pork\"))\n",
    "except ValueError:\n",
    "    print(\"'pork' not in list\")"
   ]
  },
  {
   "cell_type": "markdown",
   "id": "f07d3165",
   "metadata": {},
   "source": [
    "<h2>Lists</h2>"
   ]
  },
  {
   "cell_type": "code",
   "execution_count": 56,
   "id": "d95c98d6",
   "metadata": {},
   "outputs": [
    {
     "name": "stdout",
     "output_type": "stream",
     "text": [
      "del() applied: ['dog', 'cow', 'pig', 'chicken', 'pig', 'pig']\n",
      "pig\n",
      ".pop() applied: ['dog', 'cow', 'pig', 'chicken', 'pig']\n",
      ".remove() applied: ['dog', 'cow', 'chicken', 'pig']\n",
      ".append() applied: ['dog', 'cow', 'chicken', 'pig', 'sheep']\n",
      ".extend() applied: ['dog', 'cow', 'chicken', 'pig', 'sheep', 'duck', 'goose']\n",
      ".insert() applied: ['dog', 'cow', 'chicken', 'pig', 'pig', 'sheep', 'duck', 'goose']\n",
      ".reverse() applied: ['goose', 'duck', 'sheep', 'pig', 'pig', 'chicken', 'cow', 'dog']\n"
     ]
    }
   ],
   "source": [
    "animals = [\"dog\", \"pig\", \"cow\", \"pig\", \"horse\", \"chicken\", \"pig\", \"pig\"]\n",
    "\n",
    "# Remove item at index\n",
    "del(animals[1], animals[3])\n",
    "print(f\"del() applied: {animals}\")\n",
    "\n",
    "# Remove item at index and returns value\n",
    "print(animals.pop())\n",
    "print(f\".pop() applied: {animals}\")\n",
    "\n",
    "# Removes first instance of value\n",
    "animals.remove(\"pig\")\n",
    "print(f\".remove() applied: {animals}\")\n",
    "\n",
    "# Adds one item\n",
    "animals.append(\"sheep\")\n",
    "print(f\".append() applied: {animals}\")\n",
    "\n",
    "# Adds a list\n",
    "animals.extend([\"duck\", \"goose\"])\n",
    "print(f\".extend() applied: {animals}\")\n",
    "\n",
    "# Adds an item at index\n",
    "animals.insert(4, \"pig\")\n",
    "print(f\".insert() applied: {animals}\")\n",
    "\n",
    "# Reverses list order (inplace)\n",
    "animals.reverse()\n",
    "print(f\".reverse() applied: {animals}\")"
   ]
  },
  {
   "cell_type": "markdown",
   "id": "00c7ed41",
   "metadata": {},
   "source": [
    "<h2>Sets</h2>"
   ]
  },
  {
   "cell_type": "markdown",
   "id": "cd9b995c",
   "metadata": {},
   "source": [
    "<p>Basic set operations</p>"
   ]
  },
  {
   "cell_type": "code",
   "execution_count": 67,
   "id": "d765cead",
   "metadata": {},
   "outputs": [
    {
     "name": "stdout",
     "output_type": "stream",
     "text": [
      "{'chicken', 'cow', 'dog', 'pig', 'horse'}\n",
      ".add() applied: {'chicken', 'cow', 'dog', 'pig', 'goose', 'horse'}\n",
      ".remove() applied: {'chicken', 'cow', 'pig', 'goose', 'horse'}\n",
      "chicken\n",
      ".clear() applied: set()\n"
     ]
    }
   ],
   "source": [
    "animals = {\"dog\", \"pig\", \"cow\", \"pig\", \"horse\", \"chicken\", \"pig\", \"pig\"}\n",
    "print(animals)\n",
    "\n",
    "# Add item\n",
    "animals.add(\"goose\")\n",
    "print(f\".add() applied: {animals}\")\n",
    "\n",
    "# Remove item\n",
    "animals.remove(\"dog\")\n",
    "print(f\".remove() applied: {animals}\")\n",
    "\n",
    "# Pop random item\n",
    "print(animals.pop())\n",
    "\n",
    "# Delete all items\n",
    "animals.clear()\n",
    "print(f\".clear() applied: {animals}\")"
   ]
  },
  {
   "cell_type": "markdown",
   "id": "99231586",
   "metadata": {},
   "source": [
    "<p>Mathemathical operations</p>"
   ]
  },
  {
   "cell_type": "code",
   "execution_count": 77,
   "id": "55d3ebdd",
   "metadata": {},
   "outputs": [
    {
     "name": "stdout",
     "output_type": "stream",
     "text": [
      "Intersection is: {'chicken', 'dog'}\n",
      "Union is: {'chicken', 'cow', 'donkey', 'goat', 'dog', 'pig', 'fish', 'horse'}\n",
      "Symmetric difference is: {'chicken', 'dog'}\n",
      "ronald is subset of mcdonald: False\n",
      "ronald is superset of mcdonald: False\n"
     ]
    }
   ],
   "source": [
    "ronald = {\"fish\", \"goat\", \"donkey\", \"dog\", \"chicken\"}    # Set 1\n",
    "mcdonald = {\"dog\", \"pig\", \"cow\", \"horse\", \"chicken\"}     # Set 2\n",
    "\n",
    "print(f\"Intersection is: {ronald & mcdonald}\")\n",
    "print(f\"Union is: {ronald | mcdonald}\")\n",
    "print(f\"Symmetric difference is: {ronald & mcdonald}\")    # In set1 but not set2; i.e. set1 - set2\n",
    "print(f\"ronald is subset of mcdonald: {ronald <= mcdonald}\")\n",
    "print(f\"ronald is superset of mcdonald: {ronald >= mcdonald}\")"
   ]
  },
  {
   "cell_type": "markdown",
   "id": "fa6eda32",
   "metadata": {},
   "source": [
    "<h2>Stacks</h2>\n",
    "    <p>Last in, first out.</p>\n",
    "    <p>Functionalities: push, pop, peek, clear</p>"
   ]
  },
  {
   "cell_type": "markdown",
   "id": "aed19c17",
   "metadata": {},
   "source": [
    "<p><strong>Implementing using list</strong></p>"
   ]
  },
  {
   "cell_type": "code",
   "execution_count": 80,
   "id": "581d454e",
   "metadata": {},
   "outputs": [
    {
     "name": "stdout",
     "output_type": "stream",
     "text": [
      "Pushed \"mutton\" onto stack: ['beef', 'chicken', 'pork', 'mutton']\n",
      "Popped \"mutton\" off stack: ['beef', 'chicken', 'pork']\n"
     ]
    }
   ],
   "source": [
    "animals = [\"beef\", \"chicken\", \"pork\"]\n",
    "\n",
    "# Push\n",
    "animals.append(\"mutton\")\n",
    "print(f\"Pushed \\\"mutton\\\" onto stack: {animals}\")\n",
    "\n",
    "# Pop\n",
    "animals.pop()\n",
    "print(f\"Popped \\\"mutton\\\" off stack: {animals}\")"
   ]
  },
  {
   "cell_type": "markdown",
   "id": "11d84b40",
   "metadata": {},
   "source": [
    "<p><strong>Implementing using list with wrapper class</strong></p>"
   ]
  },
  {
   "cell_type": "code",
   "execution_count": 1,
   "id": "8cb05628",
   "metadata": {},
   "outputs": [
    {
     "name": "stdout",
     "output_type": "stream",
     "text": [
      "['chicken']\n",
      "['chicken', 'beef', 'pork', 'mutton']\n",
      "The item at the top of the stack is: mutton\n",
      "['chicken', 'beef', 'pork']\n"
     ]
    }
   ],
   "source": [
    "class Stack():\n",
    "    \n",
    "#     Creates empty stack\n",
    "    def __init__(self):\n",
    "        self.stack = []\n",
    "    \n",
    "#     Push function\n",
    "    def push(self, item):\n",
    "        if type(item) is list:\n",
    "            self.stack.extend(item)\n",
    "        else:\n",
    "            self.stack.append(item)   \n",
    "        return\n",
    "    \n",
    "#     Pop function\n",
    "    def pop(self):\n",
    "        if len(self.stack) > 0:\n",
    "            return self.stack.pop()\n",
    "        else:\n",
    "            return None\n",
    "\n",
    "#     Peek function\n",
    "    def peek(self):\n",
    "        if len(self.stack) > 0:\n",
    "            print(f\"The item at the top of the stack is: {self.stack[-1]}\")\n",
    "            return\n",
    "        else:\n",
    "            return None\n",
    "\n",
    "#     Shows all items in the stack\n",
    "    def display(self):\n",
    "        print(self.stack)\n",
    "    \n",
    "animals = Stack()\n",
    "animals.push(\"chicken\")\n",
    "animals.display()\n",
    "animals.push([\"beef\", \"pork\", \"mutton\"])\n",
    "animals.display()\n",
    "animals.peek()\n",
    "animals.pop()\n",
    "animals.display()"
   ]
  },
  {
   "cell_type": "markdown",
   "id": "69c61bf3",
   "metadata": {},
   "source": [
    "<h2>Queues</h2>\n",
    "    <p>First in, first out.</p>\n",
    "    <p>Functionalities: enqueue, dequeue, peek</p>"
   ]
  },
  {
   "cell_type": "markdown",
   "id": "a15012d2",
   "metadata": {},
   "source": [
    "<p><strong>Implementing using list with wrapper class</strong></p>"
   ]
  },
  {
   "cell_type": "code",
   "execution_count": 1,
   "id": "d561d28a",
   "metadata": {},
   "outputs": [
    {
     "name": "stdout",
     "output_type": "stream",
     "text": [
      "The item at the front of the queue is: chicken\n",
      "['pork', 'mutton']\n",
      "[]\n"
     ]
    }
   ],
   "source": [
    "class Queue():\n",
    "    \n",
    "#     Creates empty queue\n",
    "    def __init__(self):\n",
    "        self.queue = []\n",
    "\n",
    "#       Enqueue function  \n",
    "    def enqueue(self, item):\n",
    "        if type(item) is list:\n",
    "            self.queue.extend(item)\n",
    "        else:\n",
    "            self.queue.append(item)   \n",
    "        return\n",
    "    \n",
    "#     Dequeue function\n",
    "    def dequeue(self, num_items=1):\n",
    "        while num_items > 0 and len(self.queue) > 0:\n",
    "            self.queue.pop(0)\n",
    "            num_items -= 1\n",
    "        \n",
    "        if len(self.queue) > 0:\n",
    "            return self.queue\n",
    "        else:\n",
    "            return None\n",
    "        \n",
    "#     Peek function\n",
    "    def peek(self):\n",
    "        if len(self.queue) > 0:\n",
    "            print(f\"The item at the front of the queue is: {self.queue[0]}\")\n",
    "            return\n",
    "        else:\n",
    "            print(f\"The queue is empty.\")\n",
    "            return\n",
    "\n",
    "#     Shows all items in the stack\n",
    "    def display(self):\n",
    "        print(self.queue)\n",
    "        \n",
    "animals = Queue()\n",
    "animals.enqueue(\"chicken\")\n",
    "animals.enqueue([\"beef\", \"pork\", \"mutton\"])\n",
    "animals.peek()\n",
    "animals.dequeue(2)\n",
    "animals.display()\n",
    "animals.dequeue(20)\n",
    "animals.display()"
   ]
  },
  {
   "cell_type": "markdown",
   "id": "b955a669",
   "metadata": {},
   "source": [
    "<h2>MaxHeap</h2>"
   ]
  },
  {
   "cell_type": "code",
   "execution_count": 10,
   "id": "4a8e3022",
   "metadata": {},
   "outputs": [
    {
     "name": "stdout",
     "output_type": "stream",
     "text": [
      "12 was removed.\n"
     ]
    },
    {
     "data": {
      "text/plain": [
       "[10, 4, 3, 1]"
      ]
     },
     "execution_count": 10,
     "metadata": {},
     "output_type": "execute_result"
    }
   ],
   "source": [
    "# Note: parent = child//2, left child = parent * 2, right child = parent * 2 + 1\n",
    "\n",
    "# Define MaxHeap class\n",
    "class MaxHeap:\n",
    "\n",
    "#     Initialise\n",
    "    def __init__(self):\n",
    "#         Create empty heap with filler value at index 0\n",
    "        self.heap = [0]\n",
    "\n",
    "#     Define push function - accepts one int or float\n",
    "    def push(self, num):\n",
    "        \n",
    "        if type(num) is int or type(num) is float:\n",
    "#         Add value to end of array\n",
    "            self.heap.append(num)\n",
    "        \n",
    "#         Find parent and child indices\n",
    "            child_idx = self.heap.index(num)\n",
    "            parent_idx = child_idx // 2\n",
    "#         While value > parent:\n",
    "            while self.heap[child_idx] > self.heap[parent_idx] and child_idx > 1:\n",
    "#             Swap parent and value\n",
    "                self.heap[child_idx], self.heap[parent_idx] = self.heap[parent_idx], self.heap[child_idx]\n",
    "                child_idx = parent_idx\n",
    "                parent_idx = child_idx // 2\n",
    "        \n",
    "        else:\n",
    "            print(\"Invalid input; please enter an integer or float.\")\n",
    "        return\n",
    "\n",
    "#     Define peek function\n",
    "    def show(self):\n",
    "#         Return value at top of heap i.e. heap[1]\n",
    "        return self.heap[1:]\n",
    "\n",
    "#     Define pop function\n",
    "    def pop_off(self):\n",
    "#         Swap max value and smallest value\n",
    "        self.heap[1], self.heap[-1] = self.heap[-1], self.heap[1]\n",
    "#         Delete last value\n",
    "        removed_value = self.heap.pop(-1)\n",
    "        parent_idx = 1\n",
    "        left_child_idx, right_child_idx = self.get_child_idx(parent_idx)\n",
    "#         While new max value < child:\n",
    "        while left_child_idx is not None or right_child_idx is not None:\n",
    "            if self.heap[parent_idx] < self.heap[left_child_idx]:\n",
    "                self.heap[left_child_idx], self.heap[parent_idx] = self.heap[parent_idx], self.heap[left_child_idx]\n",
    "                parent_idx = left_child_idx\n",
    "                left_child_idx, right_child_idx = self.get_child_idx(parent_idx)\n",
    "            elif self.heap[parent_idx] < self.heap[right_child_idx]:\n",
    "                self.heap[right_child_idx], self.heap[parent_idx] = self.heap[parent_idx], self.heap[right_child_idx]\n",
    "                parent_idx = right_child_idx\n",
    "                left_child_idx, right_child_idx = self.get_child_idx(parent_idx)\n",
    "            else:\n",
    "                break\n",
    "#         Return heap[0]\n",
    "        print(f\"{removed_value} was removed.\")\n",
    "        return\n",
    "\n",
    "    def get_child_idx(self, parent_idx):\n",
    "        left_child = parent_idx * 2\n",
    "        right_child = left_child + 1\n",
    "        if left_child >= len(self.heap) or right_child >= len(self.heap):\n",
    "            return None, None\n",
    "        return left_child, right_child\n",
    "    \n",
    "max_heap = MaxHeap()\n",
    "max_heap.push(1)\n",
    "max_heap.push(3)\n",
    "max_heap.push(12)\n",
    "max_heap.push(10)\n",
    "max_heap.push(4)\n",
    "max_heap.show()\n",
    "max_heap.pop_off()\n",
    "max_heap.show()"
   ]
  },
  {
   "cell_type": "markdown",
   "id": "fe715810",
   "metadata": {},
   "source": [
    "<h2>Linked List</h2>"
   ]
  },
  {
   "cell_type": "code",
   "execution_count": 31,
   "id": "0e3ed055",
   "metadata": {},
   "outputs": [
    {
     "name": "stdout",
     "output_type": "stream",
     "text": [
      "1\n"
     ]
    }
   ],
   "source": [
    "class Node():\n",
    "    \n",
    "    def __init__(self, data, next_node = None, previous_node = None):\n",
    "        self.data = data\n",
    "        self.next_node = next_node\n",
    "        self.previous_node = previous_node\n",
    "    \n",
    "    def get_data(self):\n",
    "        return self.data\n",
    "\n",
    "node_1 = Node(1, node_2)\n",
    "\n",
    "print(node_1.get_data())"
   ]
  },
  {
   "cell_type": "code",
   "execution_count": 59,
   "id": "3ebb12e6",
   "metadata": {},
   "outputs": [
    {
     "name": "stdout",
     "output_type": "stream",
     "text": [
      "[3, 2, 1]\n",
      "[3, 1]\n"
     ]
    }
   ],
   "source": [
    "class LinkedList():\n",
    "    \n",
    "    def __init__(self, root_node = None):\n",
    "        self.root_node = root_node\n",
    "        self.size = 0\n",
    "        \n",
    "    def add_node(self, data):\n",
    "        new_node = Node(data, self.root_node)\n",
    "        if self.root_node is not None:\n",
    "            self.root_node.previous_node = new_node\n",
    "        self.root_node = new_node\n",
    "        self.size += 1\n",
    "        \n",
    "    def find_node(self, data):\n",
    "        current_node = self.root_node\n",
    "        counter = 1\n",
    "        while current_node is not None:\n",
    "            if current_node.data == data:\n",
    "                return f\"{data} found at node number {counter}.\"\n",
    "            else:\n",
    "                current_node = current_node.next_node\n",
    "                counter += 1\n",
    "        return \"Data not found in linked list.\"\n",
    "    \n",
    "    def remove_node(self, data):\n",
    "        current_node = self.root_node\n",
    "        while current_node is not None:\n",
    "            if current_node.data == data:\n",
    "                \n",
    "                next_node = current_node.next_node\n",
    "                previous_node = current_node.previous_node\n",
    "                \n",
    "                if current_node.previous_node is not None:\n",
    "                    previous_node.next_node = current_node.next_node\n",
    "                    current_node.previous_node = None\n",
    "                else:\n",
    "                    self.root_node = next_node\n",
    "                if current_node.next_node is not None:\n",
    "                    next_node.previous_node = current_node.previous_node\n",
    "                    current_node.next_node = None\n",
    "                self.size -= 1\n",
    "                return\n",
    "            else:\n",
    "                current_node = current_node.next_node\n",
    "        return\n",
    "    \n",
    "    def print_list(self):\n",
    "        current_node = self.root_node\n",
    "        lst = []\n",
    "        while current_node is not None:\n",
    "            lst.append(current_node.data)\n",
    "            current_node = current_node.next_node\n",
    "        print(lst)\n",
    "        return\n",
    "\n",
    "linked_list = LinkedList()\n",
    "linked_list.add_node(1)\n",
    "linked_list.add_node(2)\n",
    "linked_list.add_node(3)\n",
    "linked_list.print_list()\n",
    "\n",
    "linked_list.remove_node(2)\n",
    "linked_list.print_list()"
   ]
  },
  {
   "cell_type": "markdown",
   "id": "4ae02c93",
   "metadata": {},
   "source": [
    "<h2>Circular Linked List</h2>"
   ]
  },
  {
   "cell_type": "code",
   "execution_count": 16,
   "id": "62bc0a45",
   "metadata": {},
   "outputs": [
    {
     "name": "stdout",
     "output_type": "stream",
     "text": [
      "1\n"
     ]
    }
   ],
   "source": [
    "class Node():\n",
    "    \n",
    "    def __init__(self, data, next_node = None, previous_node = None):\n",
    "        self.data = data\n",
    "        self.next_node = next_node\n",
    "        self.previous_node = previous_node\n",
    "    \n",
    "    def get_data(self):\n",
    "        return self.data\n",
    "\n",
    "node_1 = Node(1)\n",
    "\n",
    "print(node_1.get_data())"
   ]
  },
  {
   "cell_type": "code",
   "execution_count": 29,
   "id": "d8b58416",
   "metadata": {},
   "outputs": [
    {
     "name": "stdout",
     "output_type": "stream",
     "text": [
      "[3, 1, 2]\n",
      "[3, 2]\n"
     ]
    }
   ],
   "source": [
    "class CircularLinkedList():\n",
    "    \n",
    "    def __init__(self, root_node = None):\n",
    "        self.root_node = root_node\n",
    "        self.size = 0\n",
    "        \n",
    "    def add_node(self, data):\n",
    "        if self.size == 0:\n",
    "            self.root_node = Node(data)\n",
    "        elif self.size == 1:\n",
    "            new_node = Node(data, self.root_node, self.root_node)\n",
    "            self.root_node.next_node = new_node\n",
    "            self.root_node.previous_node = new_node\n",
    "        else:\n",
    "            new_node = Node(data, self.root_node, self.root_node.previous_node)\n",
    "            last_node = self.root_node.previous_node\n",
    "            self.root_node.previous_node = new_node\n",
    "            last_node.next_node = new_node\n",
    "            self.root_node = new_node\n",
    "        self.size += 1\n",
    "        \n",
    "    def find_node(self, data):\n",
    "        current_node = self.root_node\n",
    "        counter = 1\n",
    "        last_node = self.root_node.previous_node\n",
    "        if last_node.data == data:\n",
    "            return f\"{data} found at node number {counter}.\"\n",
    "        while current_node is not last_node:\n",
    "            if current_node.data == data:\n",
    "                return f\"{data} found at node number {counter}.\"\n",
    "            else:\n",
    "                current_node = current_node.next_node\n",
    "                counter += 1\n",
    "        return \"Data not found in linked list.\"\n",
    "    \n",
    "    def remove_node(self, data):\n",
    "        current_node = self.root_node\n",
    "        while current_node is not None:\n",
    "            if current_node.data == data:\n",
    "                next_node = current_node.next_node\n",
    "                previous_node = current_node.previous_node\n",
    "                previous_node.next_node = next_node\n",
    "                next_node.previous_node = previous_node\n",
    "                current_node.next_node = None\n",
    "                current_node.previous_node = None\n",
    "                if current_node == self.root_node:\n",
    "                    self.root_node = next_node\n",
    "                self.size -= 1\n",
    "                return\n",
    "            else:\n",
    "                current_node = current_node.next_node\n",
    "                if current_node == self.root_node:\n",
    "                    break\n",
    "        return\n",
    "    \n",
    "    def print_list(self):\n",
    "        current_node = self.root_node\n",
    "        lst = []\n",
    "        while current_node is not self.root_node.previous_node:\n",
    "            lst.append(current_node.data)\n",
    "            current_node = current_node.next_node\n",
    "        lst.append(self.root_node.previous_node.data)\n",
    "        print(lst)\n",
    "        return\n",
    "    \n",
    "circular_linked_list = CircularLinkedList()\n",
    "circular_linked_list.add_node(1)\n",
    "circular_linked_list.add_node(2)\n",
    "circular_linked_list.add_node(3)\n",
    "circular_linked_list.print_list()\n",
    "\n",
    "circular_linked_list.remove_node(1)\n",
    "circular_linked_list.print_list()"
   ]
  },
  {
   "cell_type": "markdown",
   "id": "c08fc9de",
   "metadata": {},
   "source": [
    "<h2>Binary Search Tree</h2>\n",
    "    <p>Operations: insert, find, delete, get_size, preorder traversal, inorder traversal</p>\n",
    "    <p>Properties: parent &gt left child; parent &lt right child</p>"
   ]
  },
  {
   "cell_type": "code",
   "execution_count": 1,
   "id": "1370fd2a",
   "metadata": {},
   "outputs": [
    {
     "name": "stdout",
     "output_type": "stream",
     "text": [
      "10,8,3,12,16,None\n",
      "3,8,10,12,16,None\n"
     ]
    }
   ],
   "source": [
    "class BST():\n",
    "    def __init__(self, data, left=None, right=None):\n",
    "        self.data = data\n",
    "        self.left = left\n",
    "        self.right = right\n",
    "\n",
    "    def insert_node(self, data):\n",
    "        if self.data == data:\n",
    "            return False\n",
    "        elif self.data > data:\n",
    "            if self.left is not None:\n",
    "                return self.left.insert_node(data)\n",
    "            else:\n",
    "                self.left = BST(data)\n",
    "        else:\n",
    "            if self.right is not None:\n",
    "                return self.right.insert_node(data)\n",
    "            else:\n",
    "                self.right = BST(data)\n",
    "        return True\n",
    "\n",
    "    def find_value(self, data):\n",
    "        if self.data == data:\n",
    "            return True\n",
    "        elif self.data > data and self.left is not None:\n",
    "            return self.left.find_value(data)\n",
    "        elif self.data < data and self.right is not None:\n",
    "            return self.right.find_value(data)\n",
    "        return False\n",
    "\n",
    "    def get_size(self):\n",
    "        if self.left is not None and self.right is not None:\n",
    "            return 1 + self.left.get_size() + self.right.get_size()\n",
    "        elif self.left:\n",
    "            return 1 + self.left.get_size()\n",
    "        elif self.right:\n",
    "            return 1 + self.right.get_size()\n",
    "        else:\n",
    "            return 1\n",
    "        \n",
    "    def preorder(self):\n",
    "        if self is not None:\n",
    "            print(self.data, end=\",\")\n",
    "            if self.left:\n",
    "                self.left.preorder()\n",
    "            if self.right:\n",
    "                self.right.preorder()\n",
    "        return\n",
    "    \n",
    "    def inorder(self):\n",
    "        if self is not None:\n",
    "            if self.left:\n",
    "                self.left.inorder()\n",
    "            print(self.data, end=\",\")\n",
    "            if self.right:\n",
    "                self.right.inorder()\n",
    "        return\n",
    "\n",
    "\n",
    "bst = BST(10)\n",
    "bst.insert_node(12)\n",
    "bst.insert_node(8)\n",
    "bst.insert_node(16)\n",
    "bst.insert_node(3)\n",
    "bst.insert_node(3)\n",
    "print(bst.preorder())\n",
    "print(bst.inorder())"
   ]
  },
  {
   "cell_type": "markdown",
   "id": "0a50ca56",
   "metadata": {},
   "source": [
    "<h1>Graphs</h1>"
   ]
  },
  {
   "cell_type": "markdown",
   "id": "bd119066",
   "metadata": {},
   "source": [
    "<h2>Adjacency List</h2>"
   ]
  },
  {
   "cell_type": "code",
   "execution_count": 24,
   "id": "4ef228ae",
   "metadata": {},
   "outputs": [
    {
     "name": "stdout",
     "output_type": "stream",
     "text": [
      "Jim ['Tim']\n",
      "Tim ['Jim', 'Tom']\n",
      "Tom ['Tim']\n"
     ]
    }
   ],
   "source": [
    "class Vertex:\n",
    "    def __init__(self, name):\n",
    "        self.name = name\n",
    "        self.neighbours = set()\n",
    "\n",
    "    def add_neighbour(self, neighbour):\n",
    "        self.neighbours.add(neighbour)\n",
    "        \n",
    "class Graph:\n",
    "    vertices = {}\n",
    "    \n",
    "    def add_vertex(self, vertex):\n",
    "        if isinstance(vertex, Vertex) and vertex.name not in self.vertices:\n",
    "            self.vertices[vertex.name] = vertex\n",
    "            return True\n",
    "        else:\n",
    "            return False\n",
    "        \n",
    "    def add_edge(self, u, v):\n",
    "        if u in self.vertices.values() and v in self.vertices.values():\n",
    "            self.vertices[u.name].add_neighbour(v.name)\n",
    "            self.vertices[v.name].add_neighbour(u.name)\n",
    "            return True\n",
    "        else:\n",
    "            return False\n",
    "        \n",
    "    def print_graph(self):\n",
    "        for key in sorted(list(self.vertices.keys())):\n",
    "            print(key, sorted(list(self.vertices[key].neighbours)))\n",
    "            \n",
    "jim = Vertex(\"Jim\")\n",
    "jim = Vertex(\"Jim\")\n",
    "tim = Vertex(\"Tim\")\n",
    "tom = Vertex(\"Tom\")\n",
    "neighbourhood = Graph()\n",
    "neighbourhood.add_vertex(jim)\n",
    "neighbourhood.add_vertex(tim)\n",
    "neighbourhood.add_vertex(tom)\n",
    "\n",
    "neighbourhood.add_edge(jim, tim)\n",
    "neighbourhood.add_edge(tim, tom)\n",
    "neighbourhood.print_graph()"
   ]
  },
  {
   "cell_type": "markdown",
   "id": "cf3ffded",
   "metadata": {},
   "source": [
    "<h2>Adjacency Matrix</h2>"
   ]
  },
  {
   "cell_type": "code",
   "execution_count": 39,
   "id": "cc46a937",
   "metadata": {},
   "outputs": [
    {
     "name": "stdout",
     "output_type": "stream",
     "text": [
      "Jim  0 10 0 \n",
      "Tim  10 0 1 \n",
      "Tom  0 1 0 \n"
     ]
    }
   ],
   "source": [
    "class Vertex:\n",
    "    def __init__(self, name):\n",
    "        self.name = name\n",
    "        \n",
    "class Graph:\n",
    "    vertices = {}\n",
    "    edges = []\n",
    "    edge_indices = {}\n",
    "    \n",
    "    def add_vertex(self, vertex):\n",
    "        if isinstance(vertex, Vertex) and vertex.name not in self.vertices:\n",
    "            self.vertices[vertex.name] = vertex\n",
    "            for row in self.edges:\n",
    "                row.append(0)\n",
    "            self.edges.append([0] * (len(self.edges) + 1))\n",
    "            self.edge_indices[vertex.name] = len(self.edge_indices)\n",
    "        else:\n",
    "            return False\n",
    "        \n",
    "    def add_edge(self, u, v, weight=1):\n",
    "        if u in self.vertices.values() and v in self.vertices.values():\n",
    "            self.edges[self.edge_indices[u.name]][self.edge_indices[v.name]] = weight\n",
    "            self.edges[self.edge_indices[v.name]][self.edge_indices[u.name]] = weight\n",
    "            return True\n",
    "        else:\n",
    "            return False\n",
    "        \n",
    "    def print_graph(self):\n",
    "        for name, index in sorted(self.edge_indices.items()):\n",
    "            print(name + \" \", end=\" \")\n",
    "            for j in range(len(self.edges)):\n",
    "                print(self.edges[index][j], end=\" \")\n",
    "            print(\"\")\n",
    "            \n",
    "jim = Vertex(\"Jim\")\n",
    "jim = Vertex(\"Jim\")\n",
    "tim = Vertex(\"Tim\")\n",
    "tom = Vertex(\"Tom\")\n",
    "neighbourhood = Graph()\n",
    "neighbourhood.add_vertex(jim)\n",
    "neighbourhood.add_vertex(tim)\n",
    "neighbourhood.add_vertex(tom)\n",
    "\n",
    "neighbourhood.add_edge(jim, tim, 10)\n",
    "neighbourhood.add_edge(tim, tom)\n",
    "neighbourhood.print_graph()"
   ]
  }
 ],
 "metadata": {
  "kernelspec": {
   "display_name": "Python 3",
   "language": "python",
   "name": "python3"
  },
  "language_info": {
   "codemirror_mode": {
    "name": "ipython",
    "version": 3
   },
   "file_extension": ".py",
   "mimetype": "text/x-python",
   "name": "python",
   "nbconvert_exporter": "python",
   "pygments_lexer": "ipython3",
   "version": "3.8.8"
  }
 },
 "nbformat": 4,
 "nbformat_minor": 5
}
